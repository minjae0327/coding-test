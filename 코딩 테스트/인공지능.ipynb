{
 "cells": [
  {
   "cell_type": "code",
   "execution_count": 46,
   "metadata": {},
   "outputs": [
    {
     "name": "stdout",
     "output_type": "stream",
     "text": [
      "'microsoft/deberta-v3-large' 토크나이저를 다운로드합니다...\n"
     ]
    },
    {
     "data": {
      "application/vnd.jupyter.widget-view+json": {
       "model_id": "741ac8c0697948a0b4d7a8ca778065c4",
       "version_major": 2,
       "version_minor": 0
      },
      "text/plain": [
       "tokenizer_config.json:   0%|          | 0.00/52.0 [00:00<?, ?B/s]"
      ]
     },
     "metadata": {},
     "output_type": "display_data"
    },
    {
     "data": {
      "application/vnd.jupyter.widget-view+json": {
       "model_id": "0cf6bc3c31ce46e0b0e194dde0ffa327",
       "version_major": 2,
       "version_minor": 0
      },
      "text/plain": [
       "config.json:   0%|          | 0.00/580 [00:00<?, ?B/s]"
      ]
     },
     "metadata": {},
     "output_type": "display_data"
    },
    {
     "data": {
      "application/vnd.jupyter.widget-view+json": {
       "model_id": "fe8354cd01c54e4cbf8d8ddd3627e411",
       "version_major": 2,
       "version_minor": 0
      },
      "text/plain": [
       "spm.model:   0%|          | 0.00/2.46M [00:00<?, ?B/s]"
      ]
     },
     "metadata": {},
     "output_type": "display_data"
    },
    {
     "name": "stderr",
     "output_type": "stream",
     "text": [
      "/opt/miniconda3/envs/rag/lib/python3.9/site-packages/transformers/convert_slow_tokenizer.py:564: UserWarning: The sentencepiece tokenizer that you are converting to a fast tokenizer uses the byte fallback option which is not implemented in the fast tokenizers. In practice this means that the fast version of the tokenizer can produce unknown tokens whereas the sentencepiece version would have converted these unknown tokens into a sequence of byte tokens matching the original piece of text.\n",
      "  warnings.warn(\n"
     ]
    },
    {
     "name": "stdout",
     "output_type": "stream",
     "text": [
      "토크나이저를 './debertav3-large-offline' 폴더에 저장했습니다.\n",
      "\n",
      "'microsoft/deberta-v3-large' 모델을 다운로드합니다...\n"
     ]
    },
    {
     "data": {
      "application/vnd.jupyter.widget-view+json": {
       "model_id": "22c118b1ee65419398928914adc8c2b8",
       "version_major": 2,
       "version_minor": 0
      },
      "text/plain": [
       "pytorch_model.bin:   0%|          | 0.00/874M [00:00<?, ?B/s]"
      ]
     },
     "metadata": {},
     "output_type": "display_data"
    },
    {
     "data": {
      "application/vnd.jupyter.widget-view+json": {
       "model_id": "018eabaabcaf4b6fae55c7f2762d5259",
       "version_major": 2,
       "version_minor": 0
      },
      "text/plain": [
       "model.safetensors:   0%|          | 0.00/874M [00:00<?, ?B/s]"
      ]
     },
     "metadata": {},
     "output_type": "display_data"
    },
    {
     "name": "stdout",
     "output_type": "stream",
     "text": [
      "모델을 './debertav3-large-offline' 폴더에 저장했습니다.\n",
      "\n",
      "다운로드 완료! 이제 'roberta-base-offline' 폴더를 압축하여 캐글에 업로드하세요.\n"
     ]
    }
   ],
   "source": [
    "from transformers import AutoTokenizer, AutoModel\n",
    "\n",
    "# 1. 다운로드할 모델 이름 설정\n",
    "model_name = \"microsoft/deberta-v3-large\"\n",
    "\n",
    "# 2. 모델을 저장할 로컬 폴더 이름 설정\n",
    "save_directory = './debertav3-large-offline'\n",
    "\n",
    "# 3. 토크나이저 다운로드 및 저장\n",
    "print(f\"'{model_name}' 토크나이저를 다운로드합니다...\")\n",
    "tokenizer = AutoTokenizer.from_pretrained(model_name)\n",
    "tokenizer.save_pretrained(save_directory)\n",
    "print(f\"토크나이저를 '{save_directory}' 폴더에 저장했습니다.\")\n",
    "\n",
    "# 4. 다중 선택 모델(Multiple Choice Model) 다운로드 및 저장\n",
    "print(f\"\\n'{model_name}' 모델을 다운로드합니다...\")\n",
    "model = AutoModel.from_pretrained(model_name)\n",
    "model.save_pretrained(save_directory)\n",
    "print(f\"모델을 '{save_directory}' 폴더에 저장했습니다.\")\n",
    "\n",
    "print(\"\\n다운로드 완료! 이제 'roberta-base-offline' 폴더를 압축하여 캐글에 업로드하세요.\")"
   ]
  },
  {
   "cell_type": "code",
   "execution_count": null,
   "metadata": {},
   "outputs": [],
   "source": []
  }
 ],
 "metadata": {
  "kernelspec": {
   "display_name": "rag",
   "language": "python",
   "name": "python3"
  },
  "language_info": {
   "codemirror_mode": {
    "name": "ipython",
    "version": 3
   },
   "file_extension": ".py",
   "mimetype": "text/x-python",
   "name": "python",
   "nbconvert_exporter": "python",
   "pygments_lexer": "ipython3",
   "version": "3.9.23"
  }
 },
 "nbformat": 4,
 "nbformat_minor": 2
}
