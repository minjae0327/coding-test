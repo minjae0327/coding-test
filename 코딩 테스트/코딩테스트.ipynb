{
 "cells": [
  {
   "cell_type": "code",
   "execution_count": 23,
   "metadata": {},
   "outputs": [],
   "source": [
    "def solution(dirs):\n",
    "    # 방향 딕셔너리 (U, D, L, R)\n",
    "    direction = {\n",
    "        'U': (0, 1),\n",
    "        'D': (0, -1),\n",
    "        'L': (-1, 0),\n",
    "        'R': (1, 0)\n",
    "    }\n",
    "    \n",
    "    # 방문한 길을 저장할 집합\n",
    "    visited = set()\n",
    "    \n",
    "    # 현재 위치\n",
    "    x, y = 0, 0\n",
    "    \n",
    "    for d in dirs:\n",
    "        nx, ny = x + direction[d][0], y + direction[d][1]\n",
    "        \n",
    "        # 좌표평면의 경계를 벗어나지 않는 경우만 이동\n",
    "        if -5 <= nx <= 5 and -5 <= ny <= 5:\n",
    "            # 길을 양방향으로 저장\n",
    "            visited.add(((x, y), (nx, ny)))  \n",
    "            visited.add(((nx, ny), (x, y)))\n",
    "            # 위치 갱신\n",
    "            x, y = nx, ny\n",
    "    \n",
    "    return len(visited) // 2  # 길을 양방향으로 저장했으므로 2로 나눈 값 반환\n"
   ]
  },
  {
   "cell_type": "code",
   "execution_count": 24,
   "metadata": {},
   "outputs": [
    {
     "name": "stdout",
     "output_type": "stream",
     "text": [
      "7\n",
      "7\n"
     ]
    }
   ],
   "source": [
    "print(solution(\"ULURRDLLU\"))\n",
    "print(solution(\"LULLLLLLU\"))"
   ]
  },
  {
   "cell_type": "code",
   "execution_count": 19,
   "metadata": {},
   "outputs": [
    {
     "name": "stdout",
     "output_type": "stream",
     "text": [
      "5: [[6, None], [7, None], [6, None]]\n",
      "6: [[7, None], [6, None]]\n",
      "4: [[6, None], [7, None], [6, None], [7, None]]\n",
      "7: []\n",
      "None\n",
      "4\n"
     ]
    }
   ],
   "source": [
    "def solution(dirs):\n",
    "    direction = {\n",
    "        'U': (0, 1),\n",
    "        'D': (0, -1),\n",
    "        'L': (-1, 0),\n",
    "        'R': (1, 0)\n",
    "    }\n",
    "    \n",
    "    visited = set()\n",
    "    \n",
    "    x, y = 0, 0\n",
    "    \n",
    "    for dir in dirs:\n",
    "        nx, ny = x + direction[dir][0], y + direction[dir][1]"
   ]
  },
  {
   "cell_type": "code",
   "execution_count": 22,
   "metadata": {},
   "outputs": [
    {
     "ename": "TypeError",
     "evalue": "'<' not supported between instances of 'int' and 'list'",
     "output_type": "error",
     "traceback": [
      "\u001b[0;31m---------------------------------------------------------------------------\u001b[0m",
      "\u001b[0;31mTypeError\u001b[0m                                 Traceback (most recent call last)",
      "Cell \u001b[0;32mIn[22], line 2\u001b[0m\n\u001b[1;32m      1\u001b[0m grid \u001b[38;5;241m=\u001b[39m [(x, y) \u001b[38;5;28;01mfor\u001b[39;00m x \u001b[38;5;129;01min\u001b[39;00m \u001b[38;5;28mrange\u001b[39m(\u001b[38;5;241m-\u001b[39m\u001b[38;5;241m5\u001b[39m, \u001b[38;5;241m6\u001b[39m) \u001b[38;5;28;01mfor\u001b[39;00m y \u001b[38;5;129;01min\u001b[39;00m \u001b[38;5;28mrange\u001b[39m(\u001b[38;5;241m-\u001b[39m\u001b[38;5;241m5\u001b[39m, \u001b[38;5;241m6\u001b[39m)]\n\u001b[0;32m----> 2\u001b[0m \u001b[38;5;241;43m6\u001b[39;49m\u001b[43m \u001b[49m\u001b[38;5;241;43m<\u001b[39;49m\u001b[43m \u001b[49m\u001b[43mgrid\u001b[49m\n",
      "\u001b[0;31mTypeError\u001b[0m: '<' not supported between instances of 'int' and 'list'"
     ]
    }
   ],
   "source": [
    "grid = [(x, y) for x in range(-5, 6) for y in range(-5, 6)]"
   ]
  },
  {
   "cell_type": "code",
   "execution_count": null,
   "metadata": {},
   "outputs": [],
   "source": []
  }
 ],
 "metadata": {
  "kernelspec": {
   "display_name": "base",
   "language": "python",
   "name": "python3"
  },
  "language_info": {
   "codemirror_mode": {
    "name": "ipython",
    "version": 3
   },
   "file_extension": ".py",
   "mimetype": "text/x-python",
   "name": "python",
   "nbconvert_exporter": "python",
   "pygments_lexer": "ipython3",
   "version": "3.9.6"
  }
 },
 "nbformat": 4,
 "nbformat_minor": 2
}
