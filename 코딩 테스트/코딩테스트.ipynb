{
 "cells": [
  {
   "cell_type": "code",
   "execution_count": 132,
   "metadata": {},
   "outputs": [
    {
     "data": {
      "text/plain": [
       "5"
      ]
     },
     "execution_count": 132,
     "metadata": {},
     "output_type": "execute_result"
    }
   ],
   "source": [
    "# programmers  \n",
    "def solution(arr):\n",
    "    answer = 0\n",
    "    return answer\n",
    "\n",
    "\n",
    "solution([1 ,2, 3])"
   ]
  },
  {
   "cell_type": "code",
   "execution_count": 21,
   "metadata": {},
   "outputs": [
    {
     "ename": "TypeError",
     "evalue": "dfs() missing 1 required positional argument: 'graph'",
     "output_type": "error",
     "traceback": [
      "\u001b[0;31m---------------------------------------------------------------------------\u001b[0m",
      "\u001b[0;31mTypeError\u001b[0m                                 Traceback (most recent call last)",
      "Cell \u001b[0;32mIn[21], line 37\u001b[0m\n\u001b[1;32m     34\u001b[0m     graph[a]\u001b[38;5;241m.\u001b[39mappend(b)\n\u001b[1;32m     35\u001b[0m     graph[b]\u001b[38;5;241m.\u001b[39mappend(a)  \u001b[38;5;66;03m# 양방향 그래프일 경우\u001b[39;00m\n\u001b[0;32m---> 37\u001b[0m result \u001b[38;5;241m=\u001b[39m \u001b[43mdfs\u001b[49m\u001b[43m(\u001b[49m\u001b[43mgraph\u001b[49m\u001b[43m)\u001b[49m\n",
      "\u001b[0;31mTypeError\u001b[0m: dfs() missing 1 required positional argument: 'graph'"
     ]
    }
   ],
   "source": [
    "# backjoon\n",
    "import sys\n",
    "from collections import deque\n",
    "# from collections import defaultdict\n",
    "\n",
    "input = sys.stdin.readline\n",
    "\n",
    "m, n = map(int, input().split())\n",
    "\n",
    "# N = int(input())\n",
    "tomatoes = [list(map(int, input().split())) for _ in range(n)]\n",
    "\n",
    "have_to_visit = deque()\n",
    "days = 0\n",
    "\n",
    "dx = [-1, 1, 0, 0]\n",
    "dy = [0, 0, -1, 1]\n",
    "\n",
    "\n",
    "for x, row in enumerate(tomatoes):\n",
    "    for y, num in enumerate(row):\n",
    "        if num == 1:\n",
    "            for i in range(4):\n",
    "                nx = x + dx[i]\n",
    "                ny = y + dy[i]\n",
    "\n",
    "                if 0 <= nx < n and 0 <= ny < m:\n",
    "                    if tomatoes[nx][ny] == 0:\n",
    "                        have_to_visit.append((x, y, days))\n",
    "                        break  # 하나라도 0이 있으면 추가하고 다음 좌표로 이동\n",
    "\n",
    "\n",
    "while have_to_visit:\n",
    "    x, y, days = have_to_visit.popleft()\n",
    "    \n",
    "    for i in range(4):\n",
    "        nx = x + dx[i]\n",
    "        ny = y + dy[i]\n",
    "        \n",
    "        if 0 <= nx < n and 0 <= ny < m:\n",
    "            if tomatoes[nx][ny] == 0:\n",
    "                tomatoes[nx][ny] = 1\n",
    "                have_to_visit.append((nx, ny, days + 1))\n",
    "                \n",
    "\n",
    "def check_waste():\n",
    "    for x, row in enumerate(tomatoes):\n",
    "        for y, num in enumerate(row):\n",
    "            if num == 0:\n",
    "                return True\n",
    "                \n",
    "if check_waste():\n",
    "    print(-1)\n",
    "else:\n",
    "    print(days)"
   ]
  },
  {
   "cell_type": "code",
   "execution_count": 67,
   "metadata": {},
   "outputs": [
    {
     "data": {
      "text/plain": [
       "deque([(0, [1, 1], 8),\n",
       "       (1, [1, 1], 8),\n",
       "       (0, [1, 1], 8),\n",
       "       (1, [1, 1], 8),\n",
       "       (0, [1, 1], 8),\n",
       "       (1, [1, 1], 8)])"
      ]
     },
     "execution_count": 67,
     "metadata": {},
     "output_type": "execute_result"
    }
   ],
   "source": []
  },
  {
   "cell_type": "code",
   "execution_count": null,
   "metadata": {},
   "outputs": [],
   "source": []
  }
 ],
 "metadata": {
  "kernelspec": {
   "display_name": "base",
   "language": "python",
   "name": "python3"
  },
  "language_info": {
   "codemirror_mode": {
    "name": "ipython",
    "version": 3
   },
   "file_extension": ".py",
   "mimetype": "text/x-python",
   "name": "python",
   "nbconvert_exporter": "python",
   "pygments_lexer": "ipython3",
   "version": "3.9.6"
  }
 },
 "nbformat": 4,
 "nbformat_minor": 2
}
