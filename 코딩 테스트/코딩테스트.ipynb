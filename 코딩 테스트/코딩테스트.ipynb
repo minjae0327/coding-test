{
 "cells": [
  {
   "cell_type": "code",
   "execution_count": 11,
   "metadata": {},
   "outputs": [],
   "source": [
    "def check_correction(str):\n",
    "    stack = []\n",
    "    \n",
    "    for i in range(len(str)):\n",
    "        stack.append(str[i])\n",
    "        \n",
    "        if (str[0] == \")\" or str[-1] == \"(\") or\\\n",
    "            (str[0] == \"}\" or str[-1] == \"{\") or\\\n",
    "            (str[0] == \"]\" or str[-1] == \"[\"):\n",
    "            answer = False\n",
    "            return answer\n",
    "        \n",
    "        if len(stack) > 1:    \n",
    "            if stack[-1] == \")\" and stack[-2] == \"(\":\n",
    "                stack.pop()\n",
    "                stack.pop()\n",
    "            elif stack[-1] == \"]\" and stack[-2] == \"[\":\n",
    "                stack.pop()\n",
    "                stack.pop()\n",
    "            elif stack[-1] == \"}\" and stack[-2] == \"{\":\n",
    "                stack.pop()\n",
    "                stack.pop()\n",
    "                \n",
    "    if len(stack) == 0:\n",
    "        return True\n",
    "    else:\n",
    "        return False\n",
    "\n",
    "def solution(s):\n",
    "    answer = 0\n",
    "    \n",
    "    for _ in range(len(s)):\n",
    "        last_s = list(s).pop(0)\n",
    "        s = s[1:] + last_s  \n",
    "        \n",
    "        if check_correction(s):\n",
    "            answer += 1\n",
    "    \n",
    "    return answer\n",
    "    "
   ]
  },
  {
   "cell_type": "code",
   "execution_count": 12,
   "metadata": {},
   "outputs": [
    {
     "name": "stdout",
     "output_type": "stream",
     "text": [
      "3\n",
      "2\n",
      "0\n"
     ]
    }
   ],
   "source": [
    "print(solution(\"[](){}\"))\n",
    "print(solution(\"}]()[{\"))\n",
    "print(solution(\"[)(]\"))"
   ]
  },
  {
   "cell_type": "code",
   "execution_count": 8,
   "metadata": {},
   "outputs": [
    {
     "name": "stdout",
     "output_type": "stream",
     "text": [
      "](){}[\n"
     ]
    }
   ],
   "source": [
    "s = \"[](){}\"\n",
    "\n",
    "last_s = list(s).pop(0)\n",
    "s = s[1:] + last_s\n",
    "\n",
    "print(s)"
   ]
  },
  {
   "cell_type": "code",
   "execution_count": null,
   "metadata": {},
   "outputs": [],
   "source": []
  }
 ],
 "metadata": {
  "kernelspec": {
   "display_name": "base",
   "language": "python",
   "name": "python3"
  },
  "language_info": {
   "codemirror_mode": {
    "name": "ipython",
    "version": 3
   },
   "file_extension": ".py",
   "mimetype": "text/x-python",
   "name": "python",
   "nbconvert_exporter": "python",
   "pygments_lexer": "ipython3",
   "version": "3.9.6"
  }
 },
 "nbformat": 4,
 "nbformat_minor": 2
}
