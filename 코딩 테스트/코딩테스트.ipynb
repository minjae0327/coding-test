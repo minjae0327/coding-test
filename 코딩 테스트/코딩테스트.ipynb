{
 "cells": [
  {
   "cell_type": "code",
   "execution_count": 15,
   "metadata": {},
   "outputs": [],
   "source": [
    "def solution(n, words):\n",
    "    answer = []\n",
    "\n",
    "    \n",
    "\n",
    "    return answer"
   ]
  },
  {
   "cell_type": "code",
   "execution_count": 16,
   "metadata": {},
   "outputs": [
    {
     "name": "stdout",
     "output_type": "stream",
     "text": [
      "29\n",
      "10\n"
     ]
    }
   ],
   "source": [
    "print(solution(3, [\"tank\", \"kick\", \"know\", \"wheel\", \"land\", \"dream\", \"mother\", \"robot\", \"tank\"]))\n",
    "print(solution([1, 2], [3, 4]))"
   ]
  },
  {
   "cell_type": "code",
   "execution_count": 20,
   "metadata": {},
   "outputs": [
    {
     "name": "stdout",
     "output_type": "stream",
     "text": [
      "2 1\n"
     ]
    }
   ],
   "source": [
    "n = 3\n",
    "words = [\"tank\", \"kick\", \"know\", \"wheel\", \"land\", \"dream\", \"mother\", \"robot\", \"tank\"]\n",
    "\n",
    "game_round = 1\n",
    "counter = 0\n",
    "prev_word  = ''\n",
    "prev_words = []\n",
    "\n",
    "for word in words:\n",
    "    counter += 1\n",
    "    if len(prev_words) == 0:\n",
    "        prev_word = word\n",
    "        prev_words.append(prev_word)\n",
    "        continue\n",
    "    \n",
    "    \n",
    "    if prev_word[-1] == word[0] or (word in prev_words):\n",
    "        print(counter, game_round)\n",
    "        break\n",
    "    elif prev_word[-1] == word[0]:\n",
    "        prev_word = word\n",
    "        prev_words.append(prev_word)\n",
    "    if counter - n == 0:\n",
    "        game_round += 1\n",
    "        counter = 0 "
   ]
  },
  {
   "cell_type": "code",
   "execution_count": null,
   "metadata": {},
   "outputs": [],
   "source": []
  }
 ],
 "metadata": {
  "kernelspec": {
   "display_name": "base",
   "language": "python",
   "name": "python3"
  },
  "language_info": {
   "codemirror_mode": {
    "name": "ipython",
    "version": 3
   },
   "file_extension": ".py",
   "mimetype": "text/x-python",
   "name": "python",
   "nbconvert_exporter": "python",
   "pygments_lexer": "ipython3",
   "version": "3.9.6"
  }
 },
 "nbformat": 4,
 "nbformat_minor": 2
}
