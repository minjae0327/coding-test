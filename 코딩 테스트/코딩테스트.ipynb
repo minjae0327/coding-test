{
 "cells": [
  {
   "cell_type": "code",
   "execution_count": 132,
   "metadata": {},
   "outputs": [
    {
     "data": {
      "text/plain": [
       "5"
      ]
     },
     "execution_count": 132,
     "metadata": {},
     "output_type": "execute_result"
    }
   ],
   "source": [
    "# programmers  \n",
    "def solution(arr):\n",
    "    answer = 0\n",
    "    return answer\n",
    "\n",
    "\n",
    "solution([1 ,2, 3])"
   ]
  },
  {
   "cell_type": "code",
   "execution_count": 56,
   "metadata": {},
   "outputs": [
    {
     "ename": "KeyboardInterrupt",
     "evalue": "",
     "output_type": "error",
     "traceback": [
      "\u001b[0;31m---------------------------------------------------------------------------\u001b[0m",
      "\u001b[0;31mKeyboardInterrupt\u001b[0m                         Traceback (most recent call last)",
      "Cell \u001b[0;32mIn[56], line 9\u001b[0m\n\u001b[1;32m      5\u001b[0m \u001b[38;5;66;03m# from itertools import permutations, combinations\u001b[39;00m\n\u001b[1;32m      7\u001b[0m \u001b[38;5;28minput\u001b[39m \u001b[38;5;241m=\u001b[39m sys\u001b[38;5;241m.\u001b[39mstdin\u001b[38;5;241m.\u001b[39mreadline\n\u001b[0;32m----> 9\u001b[0m a, b \u001b[38;5;241m=\u001b[39m \u001b[38;5;28mmap\u001b[39m(\u001b[38;5;28mstr\u001b[39m, \u001b[38;5;28;43minput\u001b[39;49m\u001b[43m(\u001b[49m\u001b[43m)\u001b[49m\u001b[38;5;241m.\u001b[39msplit())\n\u001b[1;32m     11\u001b[0m \u001b[38;5;66;03m# n = int(input())\u001b[39;00m\n\u001b[1;32m     12\u001b[0m \u001b[38;5;66;03m# nums = list(map(int, input().split()))\u001b[39;00m\n\u001b[1;32m     13\u001b[0m table \u001b[38;5;241m=\u001b[39m [\u001b[38;5;28mlist\u001b[39m(\u001b[38;5;28mmap\u001b[39m(\u001b[38;5;28mint\u001b[39m, \u001b[38;5;28minput\u001b[39m()\u001b[38;5;241m.\u001b[39msplit())) \u001b[38;5;28;01mfor\u001b[39;00m _ \u001b[38;5;129;01min\u001b[39;00m \u001b[38;5;28mrange\u001b[39m(n)]\n",
      "\u001b[0;31mKeyboardInterrupt\u001b[0m: "
     ]
    }
   ],
   "source": [
    "# backjoon\n",
    "import sys\n",
    "from collections import deque\n",
    "from collections import defaultdict\n",
    "# from itertools import permutations, combinations\n",
    "\n",
    "input = sys.stdin.readline\n",
    "\n",
    "# n, m = map(int, input().split())\n",
    "\n",
    "t = int(input())\n",
    "# steps = list(map(int, input().split()))\n",
    "# stuffs = [list(map(int, input().split())) for _ in range(n)]\n",
    "nums=[]\n",
    "for i in range(t):\n",
    "    nums.append(input().strip())\n",
    "    \n",
    "\n"
   ]
  },
  {
   "cell_type": "code",
   "execution_count": 10,
   "metadata": {},
   "outputs": [
    {
     "name": "stdout",
     "output_type": "stream",
     "text": [
      "-1\n"
     ]
    }
   ],
   "source": [
    "from collections import deque\n",
    "\n",
    "def bfs():\n",
    "    while have_to_visit:\n",
    "        x, y, cost, pass_wall = have_to_visit.popleft()\n",
    "        \n",
    "        if x == N - 1 and y == M - 1:\n",
    "            return cost\n",
    "        \n",
    "        for i in range(4):\n",
    "            nx = x + dx[i]\n",
    "            ny = y + dy[i]\n",
    "            \n",
    "            if 0 <= nx < N and 0 <= ny < M:\n",
    "                # 벽을 통과할 때\n",
    "                if board[nx][ny] == \"1\" and pass_wall == 0 and not visited[nx][ny][1]:\n",
    "                    visited[nx][ny][1] = True\n",
    "                    have_to_visit.append((nx, ny, cost + 1, 1))\n",
    "                # 벽을 통과하지 않았을 때\n",
    "                elif board[nx][ny] == \"0\" and not visited[nx][ny][pass_wall]:\n",
    "                    visited[nx][ny][pass_wall] = True\n",
    "                    have_to_visit.append((nx, ny, cost + 1, pass_wall))\n",
    "                        \n",
    "    return -1\n",
    "\n",
    "\n",
    "N, M = map(int, input().split())\n",
    "board = [input() for _ in range(N)]\n",
    "visited = [[[False] * 2 for _ in range(M)] for _ in range(N)]\n",
    "\n",
    "dx = [-1, 1, 0, 0]\n",
    "dy = [0, 0, -1, 1]\n",
    "\n",
    "pass_wall = 0\n",
    "\n",
    "have_to_visit = deque()\n",
    "have_to_visit.append((0, 0, 1, pass_wall))\n",
    "visited[0][0][0] = True\n",
    "\n",
    "print(bfs())"
   ]
  },
  {
   "cell_type": "code",
   "execution_count": null,
   "metadata": {},
   "outputs": [],
   "source": [
    "import sys\n",
    "from collections import defaultdict\n",
    "\n",
    "input = sys.stdin.readline\n",
    "\n",
    "n = int(input())\n",
    "tree = [input().split() for _ in range(n)]\n",
    "\n",
    "dict_tree = defaultdict(list)\n",
    "for parent, left, right in tree:\n",
    "    dict_tree[parent] = [left, right]\n",
    "\n",
    "def preorder(root):\n",
    "    if root != '.':\n",
    "        print(root, end='')          \n",
    "        preorder(dict_tree[root][0])  \n",
    "        preorder(dict_tree[root][1]) \n",
    "\n",
    "def inorder(root):\n",
    "    if root != '.':\n",
    "        inorder(dict_tree[root][0])\n",
    "        print(root, end='')         \n",
    "        inorder(dict_tree[root][1]) \n",
    "\n",
    "def postorder(root):\n",
    "    if root != '.':\n",
    "        postorder(dict_tree[root][0])\n",
    "        postorder(dict_tree[root][1])\n",
    "        print(root, end='')  \n",
    "\n",
    "preorder('A')\n",
    "print()\n",
    "inorder('A')\n",
    "print()\n",
    "postorder('A')\n"
   ]
  }
 ],
 "metadata": {
  "kernelspec": {
   "display_name": "base",
   "language": "python",
   "name": "python3"
  },
  "language_info": {
   "codemirror_mode": {
    "name": "ipython",
    "version": 3
   },
   "file_extension": ".py",
   "mimetype": "text/x-python",
   "name": "python",
   "nbconvert_exporter": "python",
   "pygments_lexer": "ipython3",
   "version": "3.9.6"
  }
 },
 "nbformat": 4,
 "nbformat_minor": 2
}
