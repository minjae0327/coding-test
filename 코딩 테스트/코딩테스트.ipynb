{
 "cells": [
  {
   "cell_type": "code",
   "execution_count": 112,
   "metadata": {},
   "outputs": [],
   "source": [
    "from itertools import combinations\n",
    "from collections import Counter\n",
    "\n",
    "def solution(k, tangerine):\n",
    "    count = Counter(tangerine)\n",
    "        \n",
    "    sum_list = []\n",
    "\n",
    "    for i in count:\n",
    "        sum_list.append(count[i])\n",
    "        \n",
    "    result = []\n",
    "    for i in range(len(set_t)+1):\n",
    "        result = result+list(combinations(set_t,i))  \n",
    "    \n",
    "    for i in range(len(result)):\n",
    "        if sum(map(t_dict.get, result[i])) == k:\n",
    "            return len(result[i])"
   ]
  },
  {
   "cell_type": "code",
   "execution_count": 113,
   "metadata": {},
   "outputs": [],
   "source": [
    "solution(2,[1, 1, 1, 1, 2, 2, 2, 3])"
   ]
  },
  {
   "cell_type": "code",
   "execution_count": 115,
   "metadata": {},
   "outputs": [
    {
     "data": {
      "text/plain": [
       "Counter({3: 2, 2: 2, 5: 2, 1: 1, 4: 1})"
      ]
     },
     "execution_count": 115,
     "metadata": {},
     "output_type": "execute_result"
    }
   ],
   "source": [
    "from itertools import combinations\n",
    "from collections import Counter\n",
    "\n",
    "k = 6\n",
    "tangerine = [1, 3, 2, 5, 4, 5, 2, 3]\n",
    "set_t = set(tangerine)\n",
    "\n",
    "count = Counter(tangerine)\n",
    "\n",
    "count\n"
   ]
  },
  {
   "cell_type": "code",
   "execution_count": null,
   "metadata": {},
   "outputs": [],
   "source": []
  }
 ],
 "metadata": {
  "kernelspec": {
   "display_name": "base",
   "language": "python",
   "name": "python3"
  },
  "language_info": {
   "codemirror_mode": {
    "name": "ipython",
    "version": 3
   },
   "file_extension": ".py",
   "mimetype": "text/x-python",
   "name": "python",
   "nbconvert_exporter": "python",
   "pygments_lexer": "ipython3",
   "version": "3.9.6"
  }
 },
 "nbformat": 4,
 "nbformat_minor": 2
}
