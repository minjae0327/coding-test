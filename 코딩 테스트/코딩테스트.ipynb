{
 "cells": [
  {
   "cell_type": "code",
   "execution_count": 60,
   "metadata": {},
   "outputs": [],
   "source": [
    "import itertools\n",
    "\n",
    "def solution(k, dungeons):\n",
    "    npr = list(itertools.permutations(dungeons, 3))\n",
    "\n",
    "    answer = 0\n",
    "\n",
    "    for i in range(len(npr)):\n",
    "        _npr = npr[i]\n",
    "        curr_k = k\n",
    "        count = 0\n",
    "        \n",
    "        for j in range(len(_npr)):\n",
    "            if curr_k >= _npr[j][0]:\n",
    "                curr_k -= _npr[j][1]\n",
    "                count += 1\n",
    "                \n",
    "        if count > answer:\n",
    "            answer = count\n",
    "            \n",
    "    return answer"
   ]
  },
  {
   "cell_type": "code",
   "execution_count": 62,
   "metadata": {},
   "outputs": [
    {
     "name": "stdout",
     "output_type": "stream",
     "text": [
      "3\n",
      "3\n"
     ]
    }
   ],
   "source": [
    "print(solution(80, [[80,20],[50,40],[30,10]]))\n",
    "print(solution(78, [[78, 18], [70, 11], [67, 9], [60, 8], [59, 2], [57, 54]]))"
   ]
  },
  {
   "cell_type": "code",
   "execution_count": null,
   "metadata": {},
   "outputs": [],
   "source": [
    "def solution(k, dungeons):\n",
    "    answer = 0\n",
    "    n = len(dungeons)\n",
    "    \n",
    "    def dfs(current_energy, count, visited):\n",
    "        nonlocal answer\n",
    "        # 최대 방문 횟수 갱신\n",
    "        answer = max(answer, count)\n",
    "        \n",
    "        # 아직 방문하지 않은 던전 중 조건(최소 필요 에너지)을 만족하는 던전을 순회\n",
    "        for i in range(n):\n",
    "            if not visited[i] and current_energy >= dungeons[i][0]:\n",
    "                visited[i] = True\n",
    "                dfs(current_energy - dungeons[i][1], count + 1, visited)\n",
    "                visited[i] = False  # 백트래킹\n",
    "    \n",
    "    dfs(k, 0, [False] * n)\n",
    "    \n",
    "    return answer\n"
   ]
  },
  {
   "cell_type": "code",
   "execution_count": null,
   "metadata": {},
   "outputs": [],
   "source": []
  }
 ],
 "metadata": {
  "kernelspec": {
   "display_name": "base",
   "language": "python",
   "name": "python3"
  },
  "language_info": {
   "codemirror_mode": {
    "name": "ipython",
    "version": 3
   },
   "file_extension": ".py",
   "mimetype": "text/x-python",
   "name": "python",
   "nbconvert_exporter": "python",
   "pygments_lexer": "ipython3",
   "version": "3.9.6"
  }
 },
 "nbformat": 4,
 "nbformat_minor": 2
}
