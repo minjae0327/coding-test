{
 "cells": [
  {
   "cell_type": "code",
   "execution_count": 132,
   "metadata": {},
   "outputs": [
    {
     "data": {
      "text/plain": [
       "5"
      ]
     },
     "execution_count": 132,
     "metadata": {},
     "output_type": "execute_result"
    }
   ],
   "source": [
    "# programmers  \n",
    "def solution(arr):\n",
    "    answer = 0\n",
    "    return answer\n",
    "\n",
    "\n",
    "solution([1 ,2, 3])"
   ]
  },
  {
   "cell_type": "code",
   "execution_count": 56,
   "metadata": {},
   "outputs": [
    {
     "ename": "KeyboardInterrupt",
     "evalue": "",
     "output_type": "error",
     "traceback": [
      "\u001b[0;31m---------------------------------------------------------------------------\u001b[0m",
      "\u001b[0;31mKeyboardInterrupt\u001b[0m                         Traceback (most recent call last)",
      "Cell \u001b[0;32mIn[56], line 9\u001b[0m\n\u001b[1;32m      5\u001b[0m \u001b[38;5;66;03m# from itertools import permutations, combinations\u001b[39;00m\n\u001b[1;32m      7\u001b[0m \u001b[38;5;28minput\u001b[39m \u001b[38;5;241m=\u001b[39m sys\u001b[38;5;241m.\u001b[39mstdin\u001b[38;5;241m.\u001b[39mreadline\n\u001b[0;32m----> 9\u001b[0m a, b \u001b[38;5;241m=\u001b[39m \u001b[38;5;28mmap\u001b[39m(\u001b[38;5;28mstr\u001b[39m, \u001b[38;5;28;43minput\u001b[39;49m\u001b[43m(\u001b[49m\u001b[43m)\u001b[49m\u001b[38;5;241m.\u001b[39msplit())\n\u001b[1;32m     11\u001b[0m \u001b[38;5;66;03m# n = int(input())\u001b[39;00m\n\u001b[1;32m     12\u001b[0m \u001b[38;5;66;03m# nums = list(map(int, input().split()))\u001b[39;00m\n\u001b[1;32m     13\u001b[0m table \u001b[38;5;241m=\u001b[39m [\u001b[38;5;28mlist\u001b[39m(\u001b[38;5;28mmap\u001b[39m(\u001b[38;5;28mint\u001b[39m, \u001b[38;5;28minput\u001b[39m()\u001b[38;5;241m.\u001b[39msplit())) \u001b[38;5;28;01mfor\u001b[39;00m _ \u001b[38;5;129;01min\u001b[39;00m \u001b[38;5;28mrange\u001b[39m(n)]\n",
      "\u001b[0;31mKeyboardInterrupt\u001b[0m: "
     ]
    }
   ],
   "source": [
    "# backjoon\n",
    "import sys\n",
    "from collections import deque\n",
    "from collections import defaultdict\n",
    "# from itertools import permutations, combinations\n",
    "\n",
    "input = sys.stdin.readline\n",
    "\n",
    "# n, m = map(int, input().split())\n",
    "\n",
    "t = int(input())\n",
    "# steps = list(map(int, input().split()))\n",
    "# stuffs = [list(map(int, input().split())) for _ in range(n)]\n",
    "nums=[]\n",
    "for i in range(t):\n",
    "    nums.append(input().strip())\n",
    "    \n",
    "\n"
   ]
  },
  {
   "cell_type": "code",
   "execution_count": 6,
   "metadata": {},
   "outputs": [
    {
     "name": "stdout",
     "output_type": "stream",
     "text": [
      "1 1 1 1 1\n"
     ]
    }
   ],
   "source": [
    "n = int(input())\n",
    "\n",
    "mans = [list(map(int, input().split())) for _ in range(n)]\n",
    "\n",
    "def is_smaller(a, b):\n",
    "    return a[0] < b[0] and a[1] < b[1]\n",
    "\n",
    "length = len(mans)\n",
    "scores = []\n",
    "\n",
    "for man in mans:\n",
    "    score = 1\n",
    "    for i in range(length):\n",
    "        if mans[i] == man:\n",
    "            continue\n",
    "        \n",
    "        std = is_smaller(man, mans[i])\n",
    "        if std:\n",
    "            score += 1\n",
    "            \n",
    "    scores.append(score)\n",
    "    \n",
    "print(*scores)"
   ]
  },
  {
   "cell_type": "code",
   "execution_count": null,
   "metadata": {},
   "outputs": [],
   "source": [
    "N, M = 3, 2\n",
    "\n",
    "visited = [False] * (N + 1)\n",
    "sequence = []\n",
    "\n",
    "def backtrack():\n",
    "    if len(sequence) == M:\n",
    "        print(*sequence)\n",
    "        return\n",
    "\n",
    "    for i in range(1, N + 1):\n",
    "        if not visited[i]:\n",
    "            visited[i] = True\n",
    "            sequence.append(i)\n",
    "            backtrack()\n",
    "            sequence.pop()\n",
    "            visited[i] = False\n",
    "\n",
    "backtrack()\n"
   ]
  }
 ],
 "metadata": {
  "kernelspec": {
   "display_name": "base",
   "language": "python",
   "name": "python3"
  },
  "language_info": {
   "codemirror_mode": {
    "name": "ipython",
    "version": 3
   },
   "file_extension": ".py",
   "mimetype": "text/x-python",
   "name": "python",
   "nbconvert_exporter": "python",
   "pygments_lexer": "ipython3",
   "version": "3.9.6"
  }
 },
 "nbformat": 4,
 "nbformat_minor": 2
}
