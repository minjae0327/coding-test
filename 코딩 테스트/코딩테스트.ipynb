{
 "cells": [
  {
   "cell_type": "code",
   "execution_count": 132,
   "metadata": {},
   "outputs": [
    {
     "data": {
      "text/plain": [
       "5"
      ]
     },
     "execution_count": 132,
     "metadata": {},
     "output_type": "execute_result"
    }
   ],
   "source": [
    "# programmers  \n",
    "def solution(arr):\n",
    "    answer = 0\n",
    "    return answer\n",
    "\n",
    "\n",
    "solution([1 ,2, 3])"
   ]
  },
  {
   "cell_type": "code",
   "execution_count": 20,
   "metadata": {},
   "outputs": [
    {
     "ename": "KeyboardInterrupt",
     "evalue": "",
     "output_type": "error",
     "traceback": [
      "\u001b[0;31m---------------------------------------------------------------------------\u001b[0m",
      "\u001b[0;31mKeyboardInterrupt\u001b[0m                         Traceback (most recent call last)",
      "Cell \u001b[0;32mIn[20], line 21\u001b[0m\n\u001b[1;32m     18\u001b[0m loc \u001b[38;5;241m=\u001b[39m \u001b[38;5;241m1\u001b[39m\n\u001b[1;32m     20\u001b[0m \u001b[38;5;28;01mwhile\u001b[39;00m \u001b[38;5;28;01mTrue\u001b[39;00m:\n\u001b[0;32m---> 21\u001b[0m     first_key \u001b[38;5;241m=\u001b[39m \u001b[38;5;28;43mlist\u001b[39;49m\u001b[43m(\u001b[49m\u001b[38;5;28;43mdict\u001b[39;49m\u001b[38;5;241;43m.\u001b[39;49m\u001b[43mkeys\u001b[49m\u001b[43m(\u001b[49m\u001b[43m)\u001b[49m\u001b[43m)\u001b[49m[\u001b[38;5;241m0\u001b[39m]\n\u001b[1;32m     22\u001b[0m     \u001b[38;5;28;01mif\u001b[39;00m first_key \u001b[38;5;241m!=\u001b[39m max_key:\n\u001b[1;32m     23\u001b[0m         a \u001b[38;5;241m=\u001b[39m \u001b[38;5;28mdict\u001b[39m[first_key]\n",
      "\u001b[0;31mKeyboardInterrupt\u001b[0m: "
     ]
    }
   ],
   "source": [
    "# backjoon\n",
    "case = int(input())\n",
    "\n",
    "answer = []\n",
    "\n",
    "for _ in range(case):\n",
    "    N, target = map(int, input().split(\" \"))\n",
    "    \n",
    "    dict = {}\n",
    "    arr = list(map(int, input().split()))\n",
    "\n",
    "    for i in range(N):\n",
    "        dict[i+1] = arr[i]\n",
    "        \n",
    "    max_key = max(dict, key=dict.get)\n",
    "\n",
    "    first_key = list(dict.keys())[0]\n",
    "    loc = 1\n",
    "\n",
    "    while True:\n",
    "        first_key = list(dict.keys())[0]\n",
    "        \n",
    "        if (first_key == target + 1) and first_key == max_key:\n",
    "            answer.append(loc)\n",
    "            break\n",
    "        \n",
    "        if first_key != max_key:\n",
    "            a = dict[first_key]\n",
    "            del dict[first_key]\n",
    "            dict[first_key] = a\n",
    "        else:\n",
    "            loc += 1\n",
    "            del dict[first_key]\n",
    "            max_key = max(dict, key=dict.get)\n",
    "\n",
    "    \n",
    "for i in answer:\n",
    "    print(i)"
   ]
  },
  {
   "cell_type": "code",
   "execution_count": 25,
   "metadata": {},
   "outputs": [
    {
     "name": "stdout",
     "output_type": "stream",
     "text": [
      "5\n"
     ]
    }
   ],
   "source": [
    "# backjoon\n",
    "# case = int(input())\n",
    "\n",
    "answer = []\n",
    "\n",
    "for _ in range(1):\n",
    "    N, target = 6,0\n",
    "    \n",
    "    dict = {}\n",
    "    arr = [1,1,9,1,1,1]\n",
    "\n",
    "    for i in range(N):\n",
    "        dict[i+1] = arr[i]\n",
    "        \n",
    "    max_key = max(dict, key=dict.get)\n",
    "\n",
    "    first_key = list(dict.keys())[0]\n",
    "    loc = 1\n",
    "\n",
    "    while True:\n",
    "        first_key = list(dict.keys())[0]\n",
    "        \n",
    "        if (first_key == target + 1) and first_key == max_key:\n",
    "            answer.append(loc)\n",
    "            break\n",
    "        \n",
    "        if first_key != max_key:\n",
    "            a = dict[first_key]\n",
    "            del dict[first_key]\n",
    "            dict[first_key] = a\n",
    "        else:\n",
    "            loc += 1\n",
    "            del dict[first_key]\n",
    "            max_key = max(dict, key=dict.get)\n",
    "\n",
    "    \n",
    "for i in answer:\n",
    "    print(i)"
   ]
  },
  {
   "cell_type": "code",
   "execution_count": null,
   "metadata": {},
   "outputs": [],
   "source": []
  }
 ],
 "metadata": {
  "kernelspec": {
   "display_name": "base",
   "language": "python",
   "name": "python3"
  },
  "language_info": {
   "codemirror_mode": {
    "name": "ipython",
    "version": 3
   },
   "file_extension": ".py",
   "mimetype": "text/x-python",
   "name": "python",
   "nbconvert_exporter": "python",
   "pygments_lexer": "ipython3",
   "version": "3.9.6"
  }
 },
 "nbformat": 4,
 "nbformat_minor": 2
}
