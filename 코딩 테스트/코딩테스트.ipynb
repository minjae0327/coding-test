{
 "cells": [
  {
   "cell_type": "code",
<<<<<<< Updated upstream
   "execution_count": 132,
=======
   "execution_count": 2,
>>>>>>> Stashed changes
   "metadata": {},
   "outputs": [
    {
     "data": {
      "text/plain": [
       "0"
      ]
     },
     "execution_count": 2,
     "metadata": {},
     "output_type": "execute_result"
    }
   ],
   "source": [
    "# programmers  \n",
    "def solution(arr):\n",
    "    answer = 0\n",
    "    return answer\n",
    "\n",
    "\n",
    "solution([1 ,2, 3])"
   ]
  },
  {
   "cell_type": "code",
   "execution_count": 56,
   "metadata": {},
   "outputs": [
    {
     "ename": "KeyboardInterrupt",
     "evalue": "",
     "output_type": "error",
     "traceback": [
      "\u001b[0;31m---------------------------------------------------------------------------\u001b[0m",
      "\u001b[0;31mKeyboardInterrupt\u001b[0m                         Traceback (most recent call last)",
      "Cell \u001b[0;32mIn[56], line 9\u001b[0m\n\u001b[1;32m      5\u001b[0m \u001b[38;5;66;03m# from itertools import permutations, combinations\u001b[39;00m\n\u001b[1;32m      7\u001b[0m \u001b[38;5;28minput\u001b[39m \u001b[38;5;241m=\u001b[39m sys\u001b[38;5;241m.\u001b[39mstdin\u001b[38;5;241m.\u001b[39mreadline\n\u001b[0;32m----> 9\u001b[0m a, b \u001b[38;5;241m=\u001b[39m \u001b[38;5;28mmap\u001b[39m(\u001b[38;5;28mstr\u001b[39m, \u001b[38;5;28;43minput\u001b[39;49m\u001b[43m(\u001b[49m\u001b[43m)\u001b[49m\u001b[38;5;241m.\u001b[39msplit())\n\u001b[1;32m     11\u001b[0m \u001b[38;5;66;03m# n = int(input())\u001b[39;00m\n\u001b[1;32m     12\u001b[0m \u001b[38;5;66;03m# nums = list(map(int, input().split()))\u001b[39;00m\n\u001b[1;32m     13\u001b[0m table \u001b[38;5;241m=\u001b[39m [\u001b[38;5;28mlist\u001b[39m(\u001b[38;5;28mmap\u001b[39m(\u001b[38;5;28mint\u001b[39m, \u001b[38;5;28minput\u001b[39m()\u001b[38;5;241m.\u001b[39msplit())) \u001b[38;5;28;01mfor\u001b[39;00m _ \u001b[38;5;129;01min\u001b[39;00m \u001b[38;5;28mrange\u001b[39m(n)]\n",
      "\u001b[0;31mKeyboardInterrupt\u001b[0m: "
     ]
    }
   ],
   "source": [
    "# backjoon\n",
    "import sys\n",
    "from collections import deque\n",
    "from collections import defaultdict\n",
    "# from itertools import permutations, combinations\n",
    "\n",
    "input = sys.stdin.readline\n",
    "\n",
    "# n, m = map(int, input().split())\n",
    "\n",
    "t = int(input())\n",
    "# steps = list(map(int, input().split()))\n",
    "# stuffs = [list(map(int, input().split())) for _ in range(n)]\n",
    "nums=[]\n",
    "for i in range(t):\n",
    "    nums.append(input().strip())\n",
    "    \n",
    "\n"
   ]
  },
  {
   "cell_type": "code",
   "execution_count": 34,
   "metadata": {},
   "outputs": [
    {
     "name": "stdout",
     "output_type": "stream",
     "text": [
      "[[0, 0, 6, 0, 10, 23, 32], [0, 6, 0, 10, 23, 32, 40], [0, 0, 10, 23, 32, 40, 41]]\n"
     ]
    }
   ],
   "source": [
    "n = int(input())\n",
    "\n",
    "wines = [0] * n\n",
    "for i in range(n):\n",
    "    wines[i] = int(input())\n",
    "\n",
    "dp = [[0]*3 for _ in range(n+1)]\n",
    "\n",
    "dp[1][0] = 0\n",
    "dp[1][1] = wines[0]   # drink glass 1, no previous\n",
    "dp[1][2] = 0          # cannot have two in a row yet\n",
    "\n",
    "for i in range(2, n+1):\n",
    "    w = wines[i-1]\n",
    "    \n",
    "    dp[i][0] = max(dp[i-1])        \n",
    "    dp[i][1] = dp[i-1][0] + w     \n",
    "    dp[i][2] = dp[i-1][1] + w           \n",
    "\n",
    "print( max(dp[n]) )"
   ]
  },
  {
   "cell_type": "code",
   "execution_count": 31,
   "metadata": {},
   "outputs": [],
   "source": [
    "# target = 7\n",
    "# trees = [20, 15, 10, 17]\n",
    "\n",
    "mans = [3, 1, 4, 3, 2]\n",
    "mans.sort()\n"
   ]
  },
  {
   "cell_type": "code",
   "execution_count": 16,
   "metadata": {},
   "outputs": [
    {
     "name": "stdout",
     "output_type": "stream",
     "text": [
      "1\n",
      "2\n",
      "4\n",
      "3\n",
      "0\n"
     ]
    }
   ],
   "source": [
    "import sys\n",
    "from collections import defaultdict, deque\n",
    "\n",
    "input = sys.stdin.readline\n",
    "n, m, start = map(int, input().split())\n",
    "\n",
    "dist = defaultdict(list)\n",
    "\n",
    "for _ in range(m):\n",
    "    u, v = map(int, input().split())\n",
    "    dist[u].append(v)\n",
    "    dist[v].append(u)\n",
    "for i in range(1, n+1):\n",
    "    dist[i].sort()\n",
    "\n",
    "visited = [0] * (n+1)\n",
    "order = 1\n",
    "\n",
    "def dfs(start):\n",
    "    global order\n",
    "    stack = [start]\n",
    "\n",
    "    while stack:\n",
    "        node = stack.pop()\n",
    "        if visited[node] != 0:\n",
    "            continue\n",
    "        visited[node] = order\n",
    "        order += 1\n",
    "        for neighbor in reversed(dist[node]):\n",
    "            if visited[neighbor] == 0:\n",
    "                stack.append(neighbor)\n",
    "\n",
    "dfs(start)\n",
    "\n",
    "for i in range(1, n+1):\n",
    "    print(visited[i])\n"
   ]
  },
  {
   "cell_type": "code",
   "execution_count": null,
   "metadata": {},
   "outputs": [],
   "source": [
    "import sys\n",
    "import heapq\n",
    "\n",
    "input = sys.stdin.readline\n",
    "\n",
    "v, e = map(int, input().split())\n",
    "k = int(input())\n",
    "\n",
    "graph = [[] for _ in range(v+1)]\n",
    "for _ in range(e):\n",
    "    start, end, weight = map(int, input().split())\n",
    "    graph[start].append((end, weight))\n",
    "\n",
    "def dijkstra(graph, start, num_nodes):\n",
    "    dist = {node: float('inf') for node in range(1, num_nodes+1)}\n",
    "    dist[start] = 0\n",
    "\n",
    "    pq = [(0, start)]\n",
    "    \n",
    "    while pq:\n",
    "        cur_d, u = heapq.heappop(pq)\n",
    "        if cur_d > dist[u]:\n",
    "            continue\n",
    "        for v, weight in graph[u]:\n",
    "            new_d = cur_d + weight\n",
    "            if new_d < dist[v]:\n",
    "                dist[v] = new_d\n",
    "                heapq.heappush(pq, (new_d, v))\n",
    "\n",
    "    return dist\n",
    "\n",
    "shortest_paths = dijkstra(graph, k, v)\n",
    "\n",
    "for node in range(1, v+1):\n",
    "    distance = shortest_paths[node]\n",
    "    print(distance if distance < float('inf') else \"INF\")\n"
   ]
  },
  {
   "cell_type": "code",
   "execution_count": 48,
   "metadata": {},
   "outputs": [
    {
     "name": "stdout",
     "output_type": "stream",
     "text": [
      "[[0, 0], [10, 0], [20, 30], [25, 35], [55, 50], [45, 65], [75, 65]]\n"
     ]
    }
   ],
   "source": [
    "import sys\n",
    "\n",
    "input = sys.stdin.readline\n",
    "\n",
    "v, e = map(int, input().split())\n",
    "\n",
    "edges = []\n",
    "\n",
    "INF = float('inf')\n",
    "dist = [INF] * (v + 1)\n",
    "\n",
    "for _ in range(e):\n",
    "    start, end, cost = map(int, input().split())\n",
    "    edges.append((start, end, cost))\n",
    "    \n",
    "def bellmanford(start):\n",
    "    dist[start] = 0\n",
    "    \n",
    "    for i in range(v):\n",
    "        for j in range(e):\n",
    "            cur_node, next_node, cost = edges[j]\n",
    "            \n",
    "            # 갈 수 있는 경로가 존재하고 현재까지 온 경로 비용 + 가야할 비용이 더 작다면\n",
    "            if dist[cur_node] != INF and dist[cur_node] + cost < dist[next_node]:\n",
    "                dist[next_node] = dist[cur_node] + cost\n",
    "                \n",
    "                # 계속 갱신된다면 음의 사이클 존재\n",
    "                if i == v-1:\n",
    "                    return False\n",
    "                \n",
    "    return True\n",
    "\n",
    "if bellmanford(1):\n",
    "    for i in range(2, v+1):\n",
    "        if dist[i] == INF:\n",
    "            print(-1)\n",
    "        else:\n",
    "            print(dist[i])\n",
    "else:\n",
    "    print(-1)"
   ]
  },
  {
   "cell_type": "code",
   "execution_count": null,
   "metadata": {},
   "outputs": [],
   "source": [
    "import sys\n",
    "\n",
    "input = sys.stdin.readline\n",
    "\n",
    "n = int(input())\n",
    "m = int(input())\n",
    "\n",
    "INF = float('inf')\n",
    "dist = [[INF] * n for _ in range(n)]\n",
    "for i in range(n):\n",
    "    dist[i][i] = 0\n",
    "\n",
    "for _ in range(m):\n",
    "    start, end, weight = map(int, input().split())\n",
    "    if weight < dist[start - 1][end - 1]:\n",
    "        dist[start - 1][end - 1] = weight\n",
    "\n",
    "# Floyd-Warshall\n",
    "for k in range(n):\n",
    "    for i in range(n):\n",
    "        for j in range(n):\n",
    "            dist[i][j] = min(dist[i][j], dist[i][k] + dist[k][j])\n",
    "\n",
    "for i in range(n):\n",
    "    for j in range(n):\n",
    "        if dist[i][j] == INF:\n",
    "            print(0, end=' ')\n",
    "        else:\n",
    "            print(dist[i][j], end=' ')\n",
    "    print()\n"
   ]
  }
 ],
 "metadata": {
  "kernelspec": {
   "display_name": "base",
   "language": "python",
   "name": "python3"
  },
  "language_info": {
   "codemirror_mode": {
    "name": "ipython",
    "version": 3
   },
   "file_extension": ".py",
   "mimetype": "text/x-python",
   "name": "python",
   "nbconvert_exporter": "python",
   "pygments_lexer": "ipython3",
   "version": "3.8.8"
  }
 },
 "nbformat": 4,
 "nbformat_minor": 2
}
