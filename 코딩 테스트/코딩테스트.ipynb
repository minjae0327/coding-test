{
 "cells": [
  {
   "cell_type": "code",
   "execution_count": 132,
   "metadata": {},
   "outputs": [
    {
     "data": {
      "text/plain": [
       "5"
      ]
     },
     "execution_count": 132,
     "metadata": {},
     "output_type": "execute_result"
    }
   ],
   "source": [
    "# programmers  \n",
    "def solution(arr):\n",
    "    answer = 0\n",
    "    return answer\n",
    "\n",
    "\n",
    "solution([1 ,2, 3])"
   ]
  },
  {
   "cell_type": "code",
   "execution_count": 56,
   "metadata": {},
   "outputs": [
    {
     "ename": "KeyboardInterrupt",
     "evalue": "",
     "output_type": "error",
     "traceback": [
      "\u001b[0;31m---------------------------------------------------------------------------\u001b[0m",
      "\u001b[0;31mKeyboardInterrupt\u001b[0m                         Traceback (most recent call last)",
      "Cell \u001b[0;32mIn[56], line 9\u001b[0m\n\u001b[1;32m      5\u001b[0m \u001b[38;5;66;03m# from itertools import permutations, combinations\u001b[39;00m\n\u001b[1;32m      7\u001b[0m \u001b[38;5;28minput\u001b[39m \u001b[38;5;241m=\u001b[39m sys\u001b[38;5;241m.\u001b[39mstdin\u001b[38;5;241m.\u001b[39mreadline\n\u001b[0;32m----> 9\u001b[0m a, b \u001b[38;5;241m=\u001b[39m \u001b[38;5;28mmap\u001b[39m(\u001b[38;5;28mstr\u001b[39m, \u001b[38;5;28;43minput\u001b[39;49m\u001b[43m(\u001b[49m\u001b[43m)\u001b[49m\u001b[38;5;241m.\u001b[39msplit())\n\u001b[1;32m     11\u001b[0m \u001b[38;5;66;03m# n = int(input())\u001b[39;00m\n\u001b[1;32m     12\u001b[0m \u001b[38;5;66;03m# nums = list(map(int, input().split()))\u001b[39;00m\n\u001b[1;32m     13\u001b[0m table \u001b[38;5;241m=\u001b[39m [\u001b[38;5;28mlist\u001b[39m(\u001b[38;5;28mmap\u001b[39m(\u001b[38;5;28mint\u001b[39m, \u001b[38;5;28minput\u001b[39m()\u001b[38;5;241m.\u001b[39msplit())) \u001b[38;5;28;01mfor\u001b[39;00m _ \u001b[38;5;129;01min\u001b[39;00m \u001b[38;5;28mrange\u001b[39m(n)]\n",
      "\u001b[0;31mKeyboardInterrupt\u001b[0m: "
     ]
    }
   ],
   "source": [
    "# backjoon\n",
    "import sys\n",
    "from collections import deque\n",
    "from collections import defaultdict\n",
    "# from itertools import permutations, combinations\n",
    "\n",
    "input = sys.stdin.readline\n",
    "\n",
    "# n, m = map(int, input().split())\n",
    "\n",
    "t = int(input())\n",
    "# steps = list(map(int, input().split()))\n",
    "# stuffs = [list(map(int, input().split())) for _ in range(n)]\n",
    "nums=[]\n",
    "for i in range(t):\n",
    "    nums.append(input().strip())\n",
    "    \n",
    "\n"
   ]
  },
  {
   "cell_type": "code",
   "execution_count": 9,
   "metadata": {},
   "outputs": [
    {
     "name": "stdout",
     "output_type": "stream",
     "text": [
      "2\n"
     ]
    }
   ],
   "source": [
    "import bisect\n",
    "\n",
    "def lis_binary_search(arr):\n",
    "    lis = []\n",
    "    \n",
    "    for num in arr:\n",
    "        index = bisect.bisect_left(lis, num)\n",
    "        if index == len(lis):\n",
    "            lis.append(num)\n",
    "        else:\n",
    "            lis[index] = num\n",
    "            \n",
    "    return len(lis)\n",
    "\n",
    "n = int(input())\n",
    "nums = list(map(int, input().split()))\n",
    "\n",
    "print(lis_binary_search(nums))"
   ]
  },
  {
   "cell_type": "code",
   "execution_count": 2,
   "metadata": {},
   "outputs": [
    {
     "name": "stdout",
     "output_type": "stream",
     "text": [
      "NO\n",
      "NO\n",
      "YES\n"
     ]
    }
   ],
   "source": [
    "import sys\n",
    "sys.setrecursionlimit(10**6)\n",
    "\n",
    "n, m = map(int, input().split()) \n",
    "\n",
    "cases = [list(map(int, input().split())) for _ in range(m)]\n",
    "\n",
    "parent = [i for i in range(n+1)]\n",
    "\n",
    "def find(parent, x):\n",
    "    if parent[x] != x:\n",
    "        parent[x] = find(parent, parent[x]) #경로 압축\n",
    "        \n",
    "    return parent[x]\n",
    "\n",
    "def union(parent, a_root, b_root):\n",
    "    if a_root < b_root:\n",
    "        parent[b_root] = a_root\n",
    "    else:\n",
    "        parent[a_root] = b_root\n",
    "        \n",
    "\n",
    "for i in range(m):\n",
    "    case, a, b = cases[i]\n",
    "    a_root = find(parent, a)\n",
    "    b_root = find(parent, b)\n",
    "    \n",
    "    if case == 0:\n",
    "        if a_root != b_root:\n",
    "            union(parent, a_root, b_root)\n",
    "    elif case == 1:\n",
    "        if a_root != b_root:\n",
    "            print(\"NO\")\n",
    "        else:\n",
    "            print(\"YES\")"
   ]
  },
  {
   "cell_type": "code",
   "execution_count": 43,
   "metadata": {},
   "outputs": [
    {
     "ename": "ValueError",
     "evalue": "invalid literal for int() with base 10: ''",
     "output_type": "error",
     "traceback": [
      "\u001b[0;31m---------------------------------------------------------------------------\u001b[0m",
      "\u001b[0;31mValueError\u001b[0m                                Traceback (most recent call last)",
      "Cell \u001b[0;32mIn[43], line 3\u001b[0m\n\u001b[1;32m      1\u001b[0m \u001b[38;5;28;01mfrom\u001b[39;00m \u001b[38;5;21;01mcollections\u001b[39;00m \u001b[38;5;28;01mimport\u001b[39;00m defaultdict, deque\n\u001b[0;32m----> 3\u001b[0m n \u001b[38;5;241m=\u001b[39m \u001b[38;5;28;43mint\u001b[39;49m\u001b[43m(\u001b[49m\u001b[38;5;28;43minput\u001b[39;49m\u001b[43m(\u001b[49m\u001b[43m)\u001b[49m\u001b[43m)\u001b[49m\n\u001b[1;32m      5\u001b[0m tree \u001b[38;5;241m=\u001b[39m defaultdict(\u001b[38;5;28mlist\u001b[39m)\n\u001b[1;32m      7\u001b[0m \u001b[38;5;28;01mfor\u001b[39;00m _ \u001b[38;5;129;01min\u001b[39;00m \u001b[38;5;28mrange\u001b[39m(n):\n",
      "\u001b[0;31mValueError\u001b[0m: invalid literal for int() with base 10: ''"
     ]
    }
   ],
   "source": [
    "from collections import defaultdict, deque\n",
    "\n",
    "n = int(input())\n",
    "\n",
    "tree = defaultdict(list)\n",
    "\n",
    "for _ in range(n-1):\n",
    "    start, end, weight = map(int, input().split())\n",
    "    tree[start].append((end, weight))\n",
    "    tree[end].append((start, weight))\n",
    "            \n",
    "def dfs(tree, start):\n",
    "    _tree = {i:0 for i in range(1, n+1)}\n",
    "    visited = set()\n",
    "    have_to_visit = deque()\n",
    "    \n",
    "    have_to_visit.append((start, 0))\n",
    "    visited.add(start)\n",
    "    \n",
    "    while have_to_visit:\n",
    "        node, weight = have_to_visit.popleft()\n",
    "        _tree[node] = weight\n",
    "        \n",
    "        for next_node, next_weight in tree[node]:\n",
    "            if next_node not in visited:\n",
    "                have_to_visit.append((next_node, weight + next_weight))\n",
    "                visited.add(next_node)\n",
    "\n",
    "    return _tree\n",
    "    \n",
    "    \n",
    "_tree = dfs(tree, 1)\n",
    "_node = max(_tree, key=_tree.get)\n",
    "_tree = dfs(tree, _node)\n",
    "print(max(_tree.values()))"
   ]
  },
  {
   "cell_type": "code",
   "execution_count": 49,
   "metadata": {},
   "outputs": [
    {
     "data": {
      "text/plain": [
       "1"
      ]
     },
     "execution_count": 49,
     "metadata": {},
     "output_type": "execute_result"
    }
   ],
   "source": [
    "_tree = {i:0 for i in range(1, n+1) }\n",
    "max(_tree, key=_tree.get)"
   ]
  },
  {
   "cell_type": "code",
   "execution_count": null,
   "metadata": {},
   "outputs": [],
   "source": []
  }
 ],
 "metadata": {
  "kernelspec": {
   "display_name": "base",
   "language": "python",
   "name": "python3"
  },
  "language_info": {
   "codemirror_mode": {
    "name": "ipython",
    "version": 3
   },
   "file_extension": ".py",
   "mimetype": "text/x-python",
   "name": "python",
   "nbconvert_exporter": "python",
   "pygments_lexer": "ipython3",
   "version": "3.9.6"
  }
 },
 "nbformat": 4,
 "nbformat_minor": 2
}
