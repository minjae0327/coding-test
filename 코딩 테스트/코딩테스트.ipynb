{
 "cells": [
  {
   "cell_type": "code",
   "execution_count": 132,
   "metadata": {},
   "outputs": [
    {
     "data": {
      "text/plain": [
       "5"
      ]
     },
     "execution_count": 132,
     "metadata": {},
     "output_type": "execute_result"
    }
   ],
   "source": [
    "# programmers  \n",
    "def solution(arr):\n",
    "    answer = 0\n",
    "    return answer\n",
    "\n",
    "\n",
    "solution([1 ,2, 3])"
   ]
  },
  {
   "cell_type": "code",
   "execution_count": 56,
   "metadata": {},
   "outputs": [
    {
     "ename": "KeyboardInterrupt",
     "evalue": "",
     "output_type": "error",
     "traceback": [
      "\u001b[0;31m---------------------------------------------------------------------------\u001b[0m",
      "\u001b[0;31mKeyboardInterrupt\u001b[0m                         Traceback (most recent call last)",
      "Cell \u001b[0;32mIn[56], line 9\u001b[0m\n\u001b[1;32m      5\u001b[0m \u001b[38;5;66;03m# from itertools import permutations, combinations\u001b[39;00m\n\u001b[1;32m      7\u001b[0m \u001b[38;5;28minput\u001b[39m \u001b[38;5;241m=\u001b[39m sys\u001b[38;5;241m.\u001b[39mstdin\u001b[38;5;241m.\u001b[39mreadline\n\u001b[0;32m----> 9\u001b[0m a, b \u001b[38;5;241m=\u001b[39m \u001b[38;5;28mmap\u001b[39m(\u001b[38;5;28mstr\u001b[39m, \u001b[38;5;28;43minput\u001b[39;49m\u001b[43m(\u001b[49m\u001b[43m)\u001b[49m\u001b[38;5;241m.\u001b[39msplit())\n\u001b[1;32m     11\u001b[0m \u001b[38;5;66;03m# n = int(input())\u001b[39;00m\n\u001b[1;32m     12\u001b[0m \u001b[38;5;66;03m# nums = list(map(int, input().split()))\u001b[39;00m\n\u001b[1;32m     13\u001b[0m table \u001b[38;5;241m=\u001b[39m [\u001b[38;5;28mlist\u001b[39m(\u001b[38;5;28mmap\u001b[39m(\u001b[38;5;28mint\u001b[39m, \u001b[38;5;28minput\u001b[39m()\u001b[38;5;241m.\u001b[39msplit())) \u001b[38;5;28;01mfor\u001b[39;00m _ \u001b[38;5;129;01min\u001b[39;00m \u001b[38;5;28mrange\u001b[39m(n)]\n",
      "\u001b[0;31mKeyboardInterrupt\u001b[0m: "
     ]
    }
   ],
   "source": [
    "# backjoon\n",
    "import sys\n",
    "from collections import deque\n",
    "from collections import defaultdict\n",
    "# from itertools import permutations, combinations\n",
    "\n",
    "input = sys.stdin.readline\n",
    "\n",
    "# n, m = map(int, input().split())\n",
    "\n",
    "t = int(input())\n",
    "# steps = list(map(int, input().split()))\n",
    "# stuffs = [list(map(int, input().split())) for _ in range(n)]\n",
    "nums=[]\n",
    "for i in range(t):\n",
    "    nums.append(input().strip())\n",
    "    \n",
    "\n"
   ]
  },
  {
   "cell_type": "code",
   "execution_count": 16,
   "metadata": {},
   "outputs": [
    {
     "data": {
      "text/plain": [
       "[(1, 2), (1, 3), (1, 4), (2, 3), (2, 4), (3, 4)]"
      ]
     },
     "execution_count": 16,
     "metadata": {},
     "output_type": "execute_result"
    }
   ],
   "source": [
    "from itertools import combinations\n",
    "\n",
    "n = 4\n",
    "status = [\n",
    "    [0, 1, 2, 3],\n",
    "    [4, 0, 5, 6],\n",
    "    [7, 1, 0, 2],\n",
    "    [3, 4, 5, 0]\n",
    "]\n",
    "\n",
    "players = list(range(1, n+1))  # [0, 1, 2, 3]\n",
    "\n",
    "combi = list(combinations(players, n // 2))  # [(0,1), (0,2), ..., (2,3)]\n",
    "\n",
    "for team in combi[:len(combi) // 2]:\n",
    "    "
   ]
  },
  {
   "cell_type": "code",
   "execution_count": null,
   "metadata": {},
   "outputs": [],
   "source": []
  },
  {
   "cell_type": "code",
   "execution_count": 71,
   "metadata": {},
   "outputs": [
    {
     "name": "stdout",
     "output_type": "stream",
     "text": [
      "7\n",
      "1 3\n",
      "1 3\n",
      "2 3\n",
      "1 3\n",
      "2 3\n",
      "2 3\n",
      "1 3\n"
     ]
    }
   ],
   "source": [
    "import sys\n",
    "import heapq\n",
    "\n",
    "input = sys.stdin.readline\n",
    "\n",
    "v, e = map(int, input().split())\n",
    "\n",
    "graph = [[] for _ in range(v+1)]\n",
    "for _ in range(e):\n",
    "    start, end, weight = map(int, input().split())\n",
    "    graph[start].append((end, weight))\n",
    "    graph[end].append((start, weight))# 무향 그래프\n",
    "    \n",
    "must_visit1, must_visit2 = map(int, input().split())\n",
    "\n",
    "def dijkstra(graph, start, num_nodes):\n",
    "    dist = {node: float('inf') for node in range(1, num_nodes+1)}\n",
    "    dist[start] = 0\n",
    "\n",
    "    pq = [(0, start)]\n",
    "    \n",
    "    while pq:\n",
    "        cur_d, u = heapq.heappop(pq)\n",
    "        if cur_d > dist[u]:\n",
    "            continue\n",
    "        for v, weight in graph[u]:\n",
    "            new_d = cur_d + weight\n",
    "            if new_d < dist[v]:\n",
    "                dist[v] = new_d\n",
    "                heapq.heappush(pq, (new_d, v))\n",
    "\n",
    "    return dist\n",
    "\n",
    "shortest_paths1 = dijkstra(graph, 1, v)\n",
    "shortest_paths2 = dijkstra(graph, must_visit1, v)\n",
    "shortest_paths3 = dijkstra(graph, must_visit2, v)\n",
    "\n",
    "# 1 → must_visit1 → must_visit2 → v\n",
    "path1 = shortest_paths1[must_visit1] + shortest_paths2[must_visit2] + shortest_paths3[v]\n",
    "# 1 → must_visit2 → must_visit1 → v\n",
    "path2 = shortest_paths1[must_visit2] + shortest_paths3[must_visit1] + shortest_paths2[v]\n",
    "\n",
    "answer = min(path1, path2)\n",
    "print(answer if answer < float('inf') else -1)"
   ]
  },
  {
   "cell_type": "code",
   "execution_count": null,
   "metadata": {},
   "outputs": [],
   "source": []
  }
 ],
 "metadata": {
  "kernelspec": {
   "display_name": "base",
   "language": "python",
   "name": "python3"
  },
  "language_info": {
   "codemirror_mode": {
    "name": "ipython",
    "version": 3
   },
   "file_extension": ".py",
   "mimetype": "text/x-python",
   "name": "python",
   "nbconvert_exporter": "python",
   "pygments_lexer": "ipython3",
   "version": "3.9.6"
  }
 },
 "nbformat": 4,
 "nbformat_minor": 2
}
