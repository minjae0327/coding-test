{
 "cells": [
  {
   "cell_type": "code",
   "execution_count": 132,
   "metadata": {},
   "outputs": [
    {
     "data": {
      "text/plain": [
       "0"
      ]
     },
     "execution_count": 2,
     "metadata": {},
     "output_type": "execute_result"
    }
   ],
   "source": [
    "# programmers  \n",
    "def solution(arr):\n",
    "    answer = 0\n",
    "    return answer\n",
    "\n",
    "\n",
    "solution([1 ,2, 3])"
   ]
  },
  {
   "cell_type": "code",
   "execution_count": 56,
   "metadata": {},
   "outputs": [
    {
     "ename": "KeyboardInterrupt",
     "evalue": "",
     "output_type": "error",
     "traceback": [
      "\u001b[0;31m---------------------------------------------------------------------------\u001b[0m",
      "\u001b[0;31mKeyboardInterrupt\u001b[0m                         Traceback (most recent call last)",
      "Cell \u001b[0;32mIn[56], line 9\u001b[0m\n\u001b[1;32m      5\u001b[0m \u001b[38;5;66;03m# from itertools import permutations, combinations\u001b[39;00m\n\u001b[1;32m      7\u001b[0m \u001b[38;5;28minput\u001b[39m \u001b[38;5;241m=\u001b[39m sys\u001b[38;5;241m.\u001b[39mstdin\u001b[38;5;241m.\u001b[39mreadline\n\u001b[0;32m----> 9\u001b[0m a, b \u001b[38;5;241m=\u001b[39m \u001b[38;5;28mmap\u001b[39m(\u001b[38;5;28mstr\u001b[39m, \u001b[38;5;28;43minput\u001b[39;49m\u001b[43m(\u001b[49m\u001b[43m)\u001b[49m\u001b[38;5;241m.\u001b[39msplit())\n\u001b[1;32m     11\u001b[0m \u001b[38;5;66;03m# n = int(input())\u001b[39;00m\n\u001b[1;32m     12\u001b[0m \u001b[38;5;66;03m# nums = list(map(int, input().split()))\u001b[39;00m\n\u001b[1;32m     13\u001b[0m table \u001b[38;5;241m=\u001b[39m [\u001b[38;5;28mlist\u001b[39m(\u001b[38;5;28mmap\u001b[39m(\u001b[38;5;28mint\u001b[39m, \u001b[38;5;28minput\u001b[39m()\u001b[38;5;241m.\u001b[39msplit())) \u001b[38;5;28;01mfor\u001b[39;00m _ \u001b[38;5;129;01min\u001b[39;00m \u001b[38;5;28mrange\u001b[39m(n)]\n",
      "\u001b[0;31mKeyboardInterrupt\u001b[0m: "
     ]
    }
   ],
   "source": [
    "# backjoon\n",
    "import sys\n",
    "from collections import deque\n",
    "from collections import defaultdict\n",
    "# from itertools import permutations, combinations\n",
    "\n",
    "input = sys.stdin.readline\n",
    "\n",
    "# n, m = map(int, input().split())\n",
    "\n",
    "t = int(input())\n",
    "# steps = list(map(int, input().split()))\n",
    "# stuffs = [list(map(int, input().split())) for _ in range(n)]\n",
    "nums=[]\n",
    "for i in range(t):\n",
    "    nums.append(input().strip())\n",
    "    \n",
    "\n"
   ]
  },
  {
   "cell_type": "code",
   "execution_count": 127,
   "metadata": {},
   "outputs": [
    {
     "name": "stdout",
     "output_type": "stream",
     "text": [
      "2\n"
     ]
    }
   ],
   "source": [
    "import heapq\n",
    "\n",
    "N = int(input())\n",
    "schedules = [list(map(int, input().split())) for _ in range(N)]\n",
    "\n",
    "schedules.sort(key=lambda x: (x[0], x[1]))\n",
    "\n",
    "heap = []\n",
    "heapq.heappush(heap, schedules[0][1])\n",
    "\n",
    "for i in range(1, N):\n",
    "    start, end = schedules[i]\n",
    "    first_classtime = heap[0]\n",
    "    \n",
    "    if first_classtime <= start:\n",
    "        heapq.heappop(heap)\n",
    "        heapq.heappush(heap, end)\n",
    "    else:\n",
    "        heapq.heappush(heap, end)\n",
    "    \n",
    "        \n",
    "print(len(heap))"
   ]
  },
  {
   "cell_type": "code",
   "execution_count": 132,
   "metadata": {},
   "outputs": [
    {
     "name": "stdout",
     "output_type": "stream",
     "text": [
      "6\n"
     ]
    }
   ],
   "source": [
    "n, k = 10, 7\n",
    "\n",
    "\n",
    "nums = [True] * (n + 1)\n",
    "\n",
    "def func(n, k):\n",
    "  count = 0\n",
    "  \n",
    "  for i in range(2, int(n ** 0.5) + 1):\n",
    "      if nums[i]:\n",
    "          for j in range(i, n + 1, i):\n",
    "              nums[j] = False\n",
    "              count += 1\n",
    "  \n",
    "              if count == k:\n",
    "                  return j\n",
    "\n",
    "      \n",
    "print(func(n, k))"
   ]
  },
  {
   "cell_type": "code",
   "execution_count": 146,
   "metadata": {},
   "outputs": [
    {
     "name": "stdout",
     "output_type": "stream",
     "text": [
      "3 1 9 2 5 4 6 7 8\n",
      "6 8 2 1 7 9 4 5 3\n",
      "4 7 5 3 6 8 9 1 2\n",
      "1 3 8 6 4 7 5 2 9\n",
      "2 9 4 5 8 1 3 6 7\n",
      "5 6 7 9 2 3 8 4 1\n",
      "7 5 6 8 9 2 1 3 4\n",
      "9 4 1 7 3 5 2 8 6\n",
      "8 2 3 4 1 6 7 9 5\n"
     ]
    }
   ],
   "source": [
    "def is_valid(board, x, y):\n",
    "    num = board[x][y]\n",
    "    \n",
    "    if board[x].count(num) > 1:\n",
    "        return False\n",
    "    \n",
    "    column_count = 0\n",
    "    for i in range(9):\n",
    "        if board[i][y] == num:\n",
    "            column_count += 1\n",
    "            \n",
    "    if column_count > 1:\n",
    "        return False\n",
    "    \n",
    "    start_x = (x // 3) * 3\n",
    "    start_y = (y // 3) * 3\n",
    "    \n",
    "    box_count = 0\n",
    "    for i in range(start_x, start_x + 3):\n",
    "        for j in range(start_y, start_y + 3):\n",
    "            if board[i][j] == num:\n",
    "                box_count += 1\n",
    "                \n",
    "    if box_count > 1:\n",
    "        return False\n",
    "    \n",
    "    return True\n",
    "\n",
    "\n",
    "def backtracking(board, x, y):\n",
    "    if y == 9:\n",
    "        x += 1\n",
    "        y = 0\n",
    "        \n",
    "    if x == 9:\n",
    "        return board\n",
    "    \n",
    "    if board[x][y] != 0:\n",
    "        return backtracking(board, x, y + 1)\n",
    "    \n",
    "    for num in range(1, 9 + 1):\n",
    "        board[x][y] = num\n",
    "        \n",
    "        if is_valid(board, x, y):\n",
    "            if backtracking(board, x, y + 1):\n",
    "                return board\n",
    "    board[x][y] = 0\n",
    "    \n",
    "    return False\n",
    "    \n",
    "board = [list(map(int, input().split())) for _ in range(9)]\n",
    "\n",
    "answer = backtracking(board, 0, 0)\n",
    "\n",
    "for row in answer:\n",
    "    print(*row)"
   ]
  },
  {
   "cell_type": "code",
   "execution_count": 180,
   "metadata": {},
   "outputs": [
    {
     "ename": "TypeError",
     "evalue": "range expected at least 1 argument, got 0",
     "output_type": "error",
     "traceback": [
      "\u001b[31m---------------------------------------------------------------------------\u001b[39m",
      "\u001b[31mTypeError\u001b[39m                                 Traceback (most recent call last)",
      "\u001b[36mCell\u001b[39m\u001b[36m \u001b[39m\u001b[32mIn[180]\u001b[39m\u001b[32m, line 48\u001b[39m\n\u001b[32m     43\u001b[39m                                 curr = parent[curr] \n\u001b[32m     45\u001b[39m                             \u001b[38;5;28;01mreturn\u001b[39;00m graph, move_count + \u001b[32m1\u001b[39m\n\u001b[32m---> \u001b[39m\u001b[32m48\u001b[39m graph = [\u001b[38;5;28mlist\u001b[39m(\u001b[38;5;28mmap\u001b[39m(\u001b[38;5;28mint\u001b[39m, \u001b[38;5;28minput\u001b[39m().split())) \u001b[38;5;28;01mfor\u001b[39;00m _ \u001b[38;5;129;01min\u001b[39;00m \u001b[38;5;28;43mrange\u001b[39;49m\u001b[43m(\u001b[49m\u001b[43m)\u001b[49m]\n\u001b[32m     50\u001b[39m visited, move_count = bfs(graph)\n\u001b[32m     52\u001b[39m \u001b[38;5;28;01mfor\u001b[39;00m row \u001b[38;5;129;01min\u001b[39;00m visited:\n",
      "\u001b[31mTypeError\u001b[39m: range expected at least 1 argument, got 0"
     ]
    }
   ],
   "source": [
    "from collections import deque\n",
    "\n",
    "def bfs(graph):\n",
    "    visited = [[False for _ in range(len(graph))] for _ in range(len(graph))]\n",
    "    have_to_visit = deque()\n",
    "    \n",
    "    x, y = 0, 0\n",
    "    \n",
    "    visited[x][y] = True\n",
    "    have_to_visit.append((x, y, 0))\n",
    "    \n",
    "    parent = {}\n",
    "    \n",
    "    while have_to_visit:\n",
    "        x, y, move_count = have_to_visit.popleft()\n",
    "        \n",
    "        dir_x = [-1, 1, 0, 0]\n",
    "        dir_y = [0, 0, -1, 1]\n",
    "        \n",
    "        for i in range(4):\n",
    "            dx = x + dir_x[i]\n",
    "            dy = y + dir_y[i]\n",
    "            \n",
    "            if 0 <= dx < len(graph) and 0 <= dy < len(graph):\n",
    "                if not visited[dx][dy]:\n",
    "                    if graph[dx][dy] == 1 or graph[dx][dy] == 4:\n",
    "                        visited[dx][dy] = True\n",
    "                        have_to_visit.append((dx, dy, move_count+1))\n",
    "                        parent[(dx, dy)] = (x, y)\n",
    "                        \n",
    "                        if graph[dx][dy] == 1:\n",
    "                            have_to_visit.append((dx, dy, move_count + 1))\n",
    "                        \n",
    "                        if graph[dx][dy] == 4:\n",
    "                            curr = (dx, dy)\n",
    "                            \n",
    "                            while curr != (0, 0):\n",
    "                                cx, cy = curr\n",
    "                                \n",
    "                                if graph[cx][cy] != 4:\n",
    "                                    graph[cx][cy] = 3\n",
    "                                    \n",
    "                                curr = parent[curr] \n",
    "                                \n",
    "                            return graph, move_count + 1\n",
    "                       \n",
    "                    \n",
    "graph = [list(map(int, input().split())) for _ in range()]\n",
    "\n",
    "visited, move_count = bfs(graph)\n",
    "\n",
    "for row in visited:\n",
    "    print(*row)\n",
    "print()\n",
    "print(f\"최단 거리 이동 : {move_count} 회\")"
   ]
  },
  {
   "cell_type": "code",
   "execution_count": null,
   "metadata": {},
   "outputs": [],
   "source": []
  }
 ],
 "metadata": {
  "kernelspec": {
   "display_name": "base",
   "language": "python",
   "name": "python3"
  },
  "language_info": {
   "codemirror_mode": {
    "name": "ipython",
    "version": 3
   },
   "file_extension": ".py",
   "mimetype": "text/x-python",
   "name": "python",
   "nbconvert_exporter": "python",
   "pygments_lexer": "ipython3",
   "version": "3.13.2"
  }
 },
 "nbformat": 4,
 "nbformat_minor": 2
}
