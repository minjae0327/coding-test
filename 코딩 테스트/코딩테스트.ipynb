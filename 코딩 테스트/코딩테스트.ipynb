{
 "cells": [
  {
   "cell_type": "code",
   "execution_count": null,
   "metadata": {},
   "outputs": [
    {
     "data": {
      "text/plain": [
       "5"
      ]
     },
     "execution_count": 132,
     "metadata": {},
     "output_type": "execute_result"
    }
   ],
   "source": [
    "# programmers  \n",
    "def solution(arr):\n",
    "    answer = 0\n",
    "    return answer\n",
    "\n",
    "\n",
    "solution([1 ,2, 3])"
   ]
  },
  {
   "cell_type": "code",
   "execution_count": 56,
   "metadata": {},
   "outputs": [
    {
     "ename": "KeyboardInterrupt",
     "evalue": "",
     "output_type": "error",
     "traceback": [
      "\u001b[0;31m---------------------------------------------------------------------------\u001b[0m",
      "\u001b[0;31mKeyboardInterrupt\u001b[0m                         Traceback (most recent call last)",
      "Cell \u001b[0;32mIn[56], line 9\u001b[0m\n\u001b[1;32m      5\u001b[0m \u001b[38;5;66;03m# from itertools import permutations, combinations\u001b[39;00m\n\u001b[1;32m      7\u001b[0m \u001b[38;5;28minput\u001b[39m \u001b[38;5;241m=\u001b[39m sys\u001b[38;5;241m.\u001b[39mstdin\u001b[38;5;241m.\u001b[39mreadline\n\u001b[0;32m----> 9\u001b[0m a, b \u001b[38;5;241m=\u001b[39m \u001b[38;5;28mmap\u001b[39m(\u001b[38;5;28mstr\u001b[39m, \u001b[38;5;28;43minput\u001b[39;49m\u001b[43m(\u001b[49m\u001b[43m)\u001b[49m\u001b[38;5;241m.\u001b[39msplit())\n\u001b[1;32m     11\u001b[0m \u001b[38;5;66;03m# n = int(input())\u001b[39;00m\n\u001b[1;32m     12\u001b[0m \u001b[38;5;66;03m# nums = list(map(int, input().split()))\u001b[39;00m\n\u001b[1;32m     13\u001b[0m table \u001b[38;5;241m=\u001b[39m [\u001b[38;5;28mlist\u001b[39m(\u001b[38;5;28mmap\u001b[39m(\u001b[38;5;28mint\u001b[39m, \u001b[38;5;28minput\u001b[39m()\u001b[38;5;241m.\u001b[39msplit())) \u001b[38;5;28;01mfor\u001b[39;00m _ \u001b[38;5;129;01min\u001b[39;00m \u001b[38;5;28mrange\u001b[39m(n)]\n",
      "\u001b[0;31mKeyboardInterrupt\u001b[0m: "
     ]
    }
   ],
   "source": [
    "# backjoon\n",
    "import sys\n",
    "from collections import deque\n",
    "from collections import defaultdict\n",
    "# from itertools import permutations, combinations\n",
    "\n",
    "input = sys.stdin.readline\n",
    "\n",
    "# n, m = map(int, input().split())\n",
    "\n",
    "t = int(input())\n",
    "# steps = list(map(int, input().split()))\n",
    "# stuffs = [list(map(int, input().split())) for _ in range(n)]\n",
    "nums=[]\n",
    "for i in range(t):\n",
    "    nums.append(input().strip())\n",
    "    \n",
    "\n"
   ]
  },
  {
   "cell_type": "code",
   "execution_count": null,
   "metadata": {},
   "outputs": [
    {
     "name": "stdout",
     "output_type": "stream",
     "text": [
      "19\n"
     ]
    }
   ],
   "source": [
    "from collections import deque\n",
    "\n",
    "def bfs(nums, x, y):\n",
    "    visited = set()\n",
    "    have_to_visit = deque()\n",
    "    max_weight = 0\n",
    "    \n",
    "    dx = [-1, 1, 0, 0]\n",
    "    dy = [0, 0, -1, 1]\n",
    "    \n",
    "    visited.add((x, y))\n",
    "    have_to_visit.append((x, y, nums[x][y], 1, visited))\n",
    "    \n",
    "    while have_to_visit:\n",
    "        x, y, weight, count, _visited = have_to_visit.popleft()\n",
    "        \n",
    "        if count == 4:\n",
    "            if weight > max_weight:\n",
    "                max_weight = weight\n",
    "            continue\n",
    "        \n",
    "        for i in range(4):\n",
    "            nx = x + dx[i]\n",
    "            ny = y + dy[i]\n",
    "            \n",
    "            if 0 <= nx < n and 0 <= ny < m and (nx, ny) not in _visited:\n",
    "                _visited.add((nx, ny))\n",
    "                have_to_visit.append((nx, ny, weight + nums[nx][ny], count + 1, _visited))\n",
    "    \n",
    "    return max_weight\n",
    "\n",
    "def t_boundary(nums, x, y):\n",
    "    max_weight = 0\n",
    "        \n",
    "    dx = [-1, 1, 0, 0]\n",
    "    dy = [0, 0, -1, 1]\n",
    "\n",
    "    for omit in range(4):\n",
    "        total = nums[x][y]\n",
    "        for d in range(4):\n",
    "            if d == omit:\n",
    "                continue\n",
    "            nx = x + dx[d]\n",
    "            ny = y + dy[d]\n",
    "\n",
    "            if not (0 <= nx < n and 0 <= ny < m):\n",
    "                break\n",
    "            \n",
    "            total += nums[nx][ny]\n",
    "            \n",
    "    if max_weight < total:\n",
    "        max_weight = total\n",
    "    \n",
    "    return max_weight\n",
    "\n",
    "\n",
    "n, m = map(int, input().split())\n",
    "nums = [list(map(int, input().split())) for _ in range(n)]\n",
    "\n",
    "max_weight = 0\n",
    "\n",
    "for i in range(n):\n",
    "    for j in range(m):\n",
    "        a = bfs(nums, i, j)\n",
    "        b = t_boundary(nums, i, j)\n",
    "        \n",
    "        max_weight = max(max_weight, a, b)\n",
    "            \n",
    "print(max_weight)"
   ]
  },
  {
   "cell_type": "code",
   "execution_count": null,
   "metadata": {},
   "outputs": [],
   "source": [
    "import sys\n",
    "from collections import defaultdict\n",
    "\n",
    "input = sys.stdin.readline\n",
    "\n",
    "n = int(input())\n",
    "tree = [input().split() for _ in range(n)]\n",
    "\n",
    "dict_tree = defaultdict(list)\n",
    "for parent, left, right in tree:\n",
    "    dict_tree[parent] = [left, right]\n",
    "\n",
    "def preorder(root):\n",
    "    if root != '.':\n",
    "        print(root, end='')          \n",
    "        preorder(dict_tree[root][0])  \n",
    "        preorder(dict_tree[root][1]) \n",
    "\n",
    "def inorder(root):\n",
    "    if root != '.':\n",
    "        inorder(dict_tree[root][0])\n",
    "        print(root, end='')         \n",
    "        inorder(dict_tree[root][1]) \n",
    "\n",
    "def postorder(root):\n",
    "    if root != '.':\n",
    "        postorder(dict_tree[root][0])\n",
    "        postorder(dict_tree[root][1])\n",
    "        print(root, end='')  \n",
    "\n",
    "preorder('A')\n",
    "print()\n",
    "inorder('A')\n",
    "print()\n",
    "postorder('A')\n"
   ]
  }
 ],
 "metadata": {
  "kernelspec": {
   "display_name": "base",
   "language": "python",
   "name": "python3"
  },
  "language_info": {
   "codemirror_mode": {
    "name": "ipython",
    "version": 3
   },
   "file_extension": ".py",
   "mimetype": "text/x-python",
   "name": "python",
   "nbconvert_exporter": "python",
   "pygments_lexer": "ipython3",
   "version": "3.8.8"
  }
 },
 "nbformat": 4,
 "nbformat_minor": 2
}
