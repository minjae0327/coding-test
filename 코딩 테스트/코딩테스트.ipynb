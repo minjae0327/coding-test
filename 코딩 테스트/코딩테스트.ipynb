{
 "cells": [
  {
   "cell_type": "code",
   "execution_count": 11,
   "metadata": {},
   "outputs": [],
   "source": [
    "from collections import deque\n",
    "\n",
    "def solution(maps):\n",
    "    # 방향 벡터 (상, 하, 좌, 우)\n",
    "    dx = [-1, 1, 0, 0]\n",
    "    dy = [0, 0, -1, 1]\n",
    "\n",
    "    def bfs(end_x, end_y, maps):\n",
    "        row, column = end_x + 1, end_y + 1\n",
    "        have_to_visit = deque([(0, 0, 1)])\n",
    "        visited = [[False] * column for _ in range(row)]\n",
    "        visited[0][0] = True\n",
    "        \n",
    "        while have_to_visit:\n",
    "            x, y, dist = have_to_visit.popleft()\n",
    "            \n",
    "            if (x, y) == (end_x, end_y):\n",
    "                return dist\n",
    "            \n",
    "            #네 방항 탐색\n",
    "            for i in range(4):\n",
    "                nx, ny = x + dx[i], y + dy[i]\n",
    "                \n",
    "                # 범위 내에 있으며, 방분하지 않았고 갈 수 있다면\n",
    "                if 0 <= nx < row and 0 <= ny < column \\\n",
    "                    and not visited[nx][ny] and maps[nx][ny] == 1:\n",
    "                        have_to_visit.append((nx, ny, dist+1))\n",
    "                        visited[nx][ny] = True\n",
    "                    \n",
    "        \n",
    "        return -1\n",
    "    \n",
    "    return bfs(len(maps)-1, len(maps[0])-1, maps)\n",
    "        "
   ]
  },
  {
   "cell_type": "code",
   "execution_count": 12,
   "metadata": {},
   "outputs": [
    {
     "name": "stdout",
     "output_type": "stream",
     "text": [
      "11\n",
      "-1\n"
     ]
    }
   ],
   "source": [
    "print(solution([[1,0,1,1,1],[1,0,1,0,1],[1,0,1,1,1],[1,1,1,0,1],[0,0,0,0,1]]))\n",
    "print(solution([[1,0,1,1,1],[1,0,1,0,1],[1,0,1,1,1],[1,1,1,0,0],[0,0,0,0,1]]))"
   ]
  },
  {
   "cell_type": "code",
   "execution_count": 8,
   "metadata": {},
   "outputs": [
    {
     "name": "stdout",
     "output_type": "stream",
     "text": [
      "11\n"
     ]
    }
   ],
   "source": [
    "from collections import deque\n",
    "\n",
    "maps = [[1,0,1,1,1],\n",
    "        [1,0,1,0,1],\n",
    "        [1,0,1,1,1],\n",
    "        [1,1,1,0,1],\n",
    "        [0,0,0,0,1]]\n",
    "\n",
    "# 방향 벡터 (상, 하, 좌, 우)\n",
    "dx = [-1, 1, 0, 0]\n",
    "dy = [0, 0, -1, 1]\n",
    "\n",
    "def bfs(end_x, end_y, maps):\n",
    "    row, column = end_x + 1, end_y + 1\n",
    "    have_to_visit = deque([(0, 0, 1)])\n",
    "    visited = [[False] * column for _ in range(row)]\n",
    "    visited[0][0] = True\n",
    "    \n",
    "    while have_to_visit:\n",
    "        x, y, dist = have_to_visit.popleft()\n",
    "        \n",
    "        if (x, y) == (end_x, end_y):\n",
    "            return dist\n",
    "        \n",
    "        #네 방항 탐색\n",
    "        for i in range(4):\n",
    "            nx, ny = x + dx[i], y + dy[i]\n",
    "            \n",
    "            # 범위 내에 있으며, 방분하지 않았고 갈 수 있다면\n",
    "            if 0 <= nx < row and 0 <= ny < column \\\n",
    "                and not visited[nx][ny] and maps[nx][ny] == 1:\n",
    "                    have_to_visit.append((nx, ny, dist+1))\n",
    "                    visited[nx][ny] = True\n",
    "                \n",
    "    \n",
    "    return -1\n",
    "\n",
    "print(bfs(len(maps)-1, len(maps[0])-1, maps))\n",
    "        "
   ]
  },
  {
   "cell_type": "code",
   "execution_count": null,
   "metadata": {},
   "outputs": [],
   "source": []
  }
 ],
 "metadata": {
  "kernelspec": {
   "display_name": "base",
   "language": "python",
   "name": "python3"
  },
  "language_info": {
   "codemirror_mode": {
    "name": "ipython",
    "version": 3
   },
   "file_extension": ".py",
   "mimetype": "text/x-python",
   "name": "python",
   "nbconvert_exporter": "python",
   "pygments_lexer": "ipython3",
   "version": "3.9.6"
  }
 },
 "nbformat": 4,
 "nbformat_minor": 2
}
