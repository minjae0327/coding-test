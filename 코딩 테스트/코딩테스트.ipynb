{
 "cells": [
  {
   "cell_type": "code",
   "execution_count": 132,
   "metadata": {},
   "outputs": [
    {
     "data": {
      "text/plain": [
       "5"
      ]
     },
     "execution_count": 132,
     "metadata": {},
     "output_type": "execute_result"
    }
   ],
   "source": [
    "# programmers  \n",
    "def solution(arr):\n",
    "    answer = 0\n",
    "    return answer\n",
    "\n",
    "\n",
    "solution([1 ,2, 3])"
   ]
  },
  {
   "cell_type": "code",
   "execution_count": 104,
   "metadata": {},
   "outputs": [
    {
     "ename": "KeyboardInterrupt",
     "evalue": "",
     "output_type": "error",
     "traceback": [
      "\u001b[0;31m---------------------------------------------------------------------------\u001b[0m",
      "\u001b[0;31mKeyboardInterrupt\u001b[0m                         Traceback (most recent call last)",
      "Cell \u001b[0;32mIn[104], line 9\u001b[0m\n\u001b[1;32m      5\u001b[0m \u001b[38;5;28;01mfrom\u001b[39;00m \u001b[38;5;21;01mitertools\u001b[39;00m \u001b[38;5;28;01mimport\u001b[39;00m permutations\n\u001b[1;32m      7\u001b[0m \u001b[38;5;28minput\u001b[39m \u001b[38;5;241m=\u001b[39m sys\u001b[38;5;241m.\u001b[39mstdin\u001b[38;5;241m.\u001b[39mreadline\n\u001b[0;32m----> 9\u001b[0m n, m \u001b[38;5;241m=\u001b[39m \u001b[38;5;28mmap\u001b[39m(\u001b[38;5;28mint\u001b[39m, \u001b[38;5;28;43minput\u001b[39;49m\u001b[43m(\u001b[49m\u001b[43m)\u001b[49m\u001b[38;5;241m.\u001b[39msplit())\n\u001b[1;32m     11\u001b[0m \u001b[38;5;66;03m# N = int(input())\u001b[39;00m\n\u001b[1;32m     12\u001b[0m nums \u001b[38;5;241m=\u001b[39m [\u001b[38;5;28mlist\u001b[39m(\u001b[38;5;28mmap\u001b[39m(\u001b[38;5;28mint\u001b[39m, \u001b[38;5;28minput\u001b[39m()\u001b[38;5;241m.\u001b[39msplit())) \u001b[38;5;28;01mfor\u001b[39;00m _ \u001b[38;5;129;01min\u001b[39;00m \u001b[38;5;28mrange\u001b[39m(n)]\n",
      "\u001b[0;31mKeyboardInterrupt\u001b[0m: "
     ]
    }
   ],
   "source": [
    "# backjoon\n",
    "import sys\n",
    "from collections import deque\n",
    "from collections import defaultdict\n",
    "# from itertools import permutations, combinations\n",
    "\n",
    "input = sys.stdin.readline\n",
    "\n",
    "# n, m = map(int, input().split())\n",
    "\n",
    "n = int(input())\n",
    "# nums = list(map(int, input().split()))\n",
    "sticker = [list(map(int, input().split())) for _ in range(n)]\n",
    "\n",
    "length = len(sticker[0])\n",
    "dp = [[0] * length for _ in range(2)]\n",
    "\n",
    "dp[0][0] = sticker[0][0]\n",
    "dp[1][0] = sticker[1][0]\n",
    "\n",
    "\n",
    "if length > 1:\n",
    "    dp[0][1] = dp[1][0] + sticker[0][1]\n",
    "    dp[1][1] = dp[0][0] + sticker[1][1]\n",
    "\n",
    "# 점화식\n",
    "for i in range(2, length):\n",
    "    dp[0][i] = max(dp[1][i-1], dp[1][i-2]) + sticker[0][i]\n",
    "    dp[1][i] = max(dp[0][i-1], dp[0][i-2]) + sticker[1][i]\n",
    "\n",
    "print(max(dp[0][-1], dp[1][-1]))"
   ]
  },
  {
   "cell_type": "code",
   "execution_count": 36,
   "metadata": {},
   "outputs": [
    {
     "name": "stdout",
     "output_type": "stream",
     "text": [
      "[[1, 3, 6, 10], [12, 19, 32, 53], [56, 91, 147, 238], [242, 394, 638, 1030]]\n"
     ]
    }
   ],
   "source": [
    "n, m = 4, 3\n",
    "table = [\n",
    "    [1, 2, 3, 4],\n",
    "    [2, 3, 4, 5],\n",
    "    [3, 4, 5, 6],\n",
    "    [4, 5, 6, 7]\n",
    "]\n",
    "coords = [\n",
    "    [2, 2, 3, 4],\n",
    "    [3, 4, 3, 4],\n",
    "    [1, 1, 4, 4]\n",
    "]\n",
    "\n",
    "dp = [[0 for _ in range(n)] for _ in range(n)]\n",
    "\n",
    "for i in range(n):\n",
    "    for j in range(n):\n",
    "        if j == 0:\n",
    "            if i > 0:\n",
    "                dp[i][j] = table[i][j] + dp[i-1][j-1]\n",
    "            else:\n",
    "                dp[i][j] = table[i][j] + dp[i-1][j]\n",
    "        else:\n",
    "            dp[i][j] = table[i][j] + dp[i][j-1] + dp[i-1][j] + dp[i-1][j-1]\n",
    "            \n",
    "print(dp)\n",
    "                \n",
    "# for coord in coords:\n",
    "#     x1, y1, x2, y2 = coord[0]-1, coord[1]-1, coord[2]-1, coord[3]-1\n",
    "#     if x1 == x2\n",
    "    \n",
    "#     print(dp[x2][y2] - dp[x1][y1])"
   ]
  },
  {
   "cell_type": "code",
   "execution_count": null,
   "metadata": {},
   "outputs": [],
   "source": []
  }
 ],
 "metadata": {
  "kernelspec": {
   "display_name": "base",
   "language": "python",
   "name": "python3"
  },
  "language_info": {
   "codemirror_mode": {
    "name": "ipython",
    "version": 3
   },
   "file_extension": ".py",
   "mimetype": "text/x-python",
   "name": "python",
   "nbconvert_exporter": "python",
   "pygments_lexer": "ipython3",
   "version": "3.9.6"
  }
 },
 "nbformat": 4,
 "nbformat_minor": 2
}
