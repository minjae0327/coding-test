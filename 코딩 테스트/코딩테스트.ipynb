{
 "cells": [
  {
   "cell_type": "code",
   "execution_count": 132,
   "metadata": {},
   "outputs": [
    {
     "data": {
      "text/plain": [
       "5"
      ]
     },
     "execution_count": 132,
     "metadata": {},
     "output_type": "execute_result"
    }
   ],
   "source": [
    "# programmers  \n",
    "def solution(arr):\n",
    "    answer = 0\n",
    "    return answer\n",
    "\n",
    "\n",
    "solution([1 ,2, 3])"
   ]
  },
  {
   "cell_type": "code",
   "execution_count": 17,
   "metadata": {},
   "outputs": [],
   "source": [
    "import heapq\n",
    "from collections import deque\n",
    "\n",
    "class Graph:\n",
    "    def __init__(self):\n",
    "        self.graph = {}\n",
    "        \n",
    "        \n",
    "    def add_vertex(self, vertex):\n",
    "        if vertex not in self.graph:\n",
    "            self.graph[vertex] = []\n",
    "        \n",
    "            \n",
    "    def add_edge(self, start, end, weight=None, directed=False):\n",
    "        if start not in self.graph:\n",
    "            self.add_vertex(start)\n",
    "        if end not in self.graph:\n",
    "            self.add_vertex(end)\n",
    "           \n",
    "        self.graph[start].append([end, weight])\n",
    "        if not directed:\n",
    "            self.graph[end].append([start, weight])\n",
    "            \n",
    "    \n",
    "    def display(self):\n",
    "        for vertex in self.graph:\n",
    "            print(f\"{vertex}: {self.graph[vertex]}\")\n",
    "            \n",
    "            \n",
    "    def bfs(self, start):\n",
    "        visit_order = []\n",
    "        visited = set()\n",
    "        have_to_visit = deque()\n",
    "        have_to_visit.append(start)\n",
    "        \n",
    "        while have_to_visit:\n",
    "            vertex = have_to_visit.popleft()\n",
    "            if vertex not in visited:\n",
    "                visit_order.append(vertex)\n",
    "                visited.add(vertex)\n",
    "            \n",
    "            for node in sorted(self.graph.get(vertex, [])):\n",
    "                neighbor = node[0]\n",
    "                \n",
    "                if neighbor not in visited:\n",
    "                    have_to_visit.append(neighbor)\n",
    "                    \n",
    "        return visit_order\n",
    "    \n",
    "# backjoon\n",
    "import sys\n",
    "input = sys.stdin.readline\n",
    "\n",
    "N, M = map(int, input().strip().split())\n",
    "nodes = list(map(int, input().strip().split()))\n",
    "graph = Graph()\n",
    "\n",
    "for node in nodes:\n",
    "    a, b = node[0], node[1]\n",
    "    graph.add_edge(a, b)\n",
    "    \n",
    "print(len(graph.bfs()))\n",
    "    "
   ]
  },
  {
   "cell_type": "code",
   "execution_count": 21,
   "metadata": {},
   "outputs": [
    {
     "ename": "TypeError",
     "evalue": "dfs() missing 1 required positional argument: 'graph'",
     "output_type": "error",
     "traceback": [
      "\u001b[0;31m---------------------------------------------------------------------------\u001b[0m",
      "\u001b[0;31mTypeError\u001b[0m                                 Traceback (most recent call last)",
      "Cell \u001b[0;32mIn[21], line 37\u001b[0m\n\u001b[1;32m     34\u001b[0m     graph[a]\u001b[38;5;241m.\u001b[39mappend(b)\n\u001b[1;32m     35\u001b[0m     graph[b]\u001b[38;5;241m.\u001b[39mappend(a)  \u001b[38;5;66;03m# 양방향 그래프일 경우\u001b[39;00m\n\u001b[0;32m---> 37\u001b[0m result \u001b[38;5;241m=\u001b[39m \u001b[43mdfs\u001b[49m\u001b[43m(\u001b[49m\u001b[43mgraph\u001b[49m\u001b[43m)\u001b[49m\n",
      "\u001b[0;31mTypeError\u001b[0m: dfs() missing 1 required positional argument: 'graph'"
     ]
    }
   ],
   "source": [
    "# backjoon\n",
    "import sys\n",
    "sys.setrecursionlimit(10**6)\n",
    "input = sys.stdin.readline\n",
    "from collections import defaultdict\n",
    "\n",
    "def count_connection(edges, n):\n",
    "    graph = defaultdict(list)\n",
    "\n",
    "    for u, v in edges:\n",
    "        graph[u].append(v)\n",
    "        graph[v].append(u)\n",
    "\n",
    "    visited = set()\n",
    "    count = 0\n",
    "\n",
    "    def dfs(v):\n",
    "        visited.add(v)\n",
    "        for neighbor in graph[v]:\n",
    "            if neighbor not in visited:\n",
    "                dfs(neighbor)\n",
    "\n",
    "    for node in range(1, n + 1):\n",
    "        if node not in visited:\n",
    "            dfs(node)\n",
    "            count += 1\n",
    "\n",
    "    return count\n",
    "\n",
    "N, M = map(int, input().strip().split())\n",
    "edges = [tuple(map(int, input().strip().split())) for _ in range(M)]\n",
    "    \n",
    "print(count_connection(edges, N)) "
   ]
  },
  {
   "cell_type": "code",
   "execution_count": 34,
   "metadata": {},
   "outputs": [
    {
     "data": {
      "text/plain": [
       "2"
      ]
     },
     "execution_count": 34,
     "metadata": {},
     "output_type": "execute_result"
    }
   ],
   "source": [
    "from collections import defaultdict, deque\n",
    "\n",
    "def count_connection(edges):\n",
    "    graph = defaultdict(list)\n",
    "    nodes = set()\n",
    "    \n",
    "    for u,v in edges:\n",
    "        graph[u].append(v)\n",
    "        graph[v].append(u)\n",
    "        nodes.add(u)\n",
    "        nodes.add(v)\n",
    "    \n",
    "    visited = set()\n",
    "    count = 0\n",
    "    \n",
    "    def dfs(v):\n",
    "        visited.add(v)\n",
    "        for neighbor in graph[v]:\n",
    "            if neighbor not in visited:\n",
    "                dfs(neighbor)\n",
    "                \n",
    "    for node in nodes:\n",
    "        if node not in visited:\n",
    "            dfs(node)\n",
    "            count += 1\n",
    "\n",
    "    return count\n",
    "\n",
    "\n",
    "edges = [[1, 2], [2, 5], [5, 1], [3, 4], [4, 6]]\n",
    "count_connection(edges)"
   ]
  },
  {
   "cell_type": "code",
   "execution_count": null,
   "metadata": {},
   "outputs": [],
   "source": []
  }
 ],
 "metadata": {
  "kernelspec": {
   "display_name": "base",
   "language": "python",
   "name": "python3"
  },
  "language_info": {
   "codemirror_mode": {
    "name": "ipython",
    "version": 3
   },
   "file_extension": ".py",
   "mimetype": "text/x-python",
   "name": "python",
   "nbconvert_exporter": "python",
   "pygments_lexer": "ipython3",
   "version": "3.9.6"
  }
 },
 "nbformat": 4,
 "nbformat_minor": 2
}
