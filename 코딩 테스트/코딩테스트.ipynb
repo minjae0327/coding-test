{
 "cells": [
  {
   "cell_type": "code",
   "execution_count": 132,
   "metadata": {},
   "outputs": [
    {
     "data": {
      "text/plain": [
       "5"
      ]
     },
     "execution_count": 132,
     "metadata": {},
     "output_type": "execute_result"
    }
   ],
   "source": [
    "# programmers  \n",
    "def solution(arr):\n",
    "    answer = 0\n",
    "    return answer\n",
    "\n",
    "\n",
    "solution([1 ,2, 3])"
   ]
  },
  {
   "cell_type": "code",
   "execution_count": 97,
   "metadata": {},
   "outputs": [
    {
     "name": "stdout",
     "output_type": "stream",
     "text": [
      "0\n",
      "1\n",
      "2\n",
      "1234\n",
      "0\n"
     ]
    }
   ],
   "source": [
    "# backjoon\n",
    "import heapq\n",
    "import sys\n",
    "input = sys.stdin.readline  # 더 빠른 입력 처리\n",
    "\n",
    "n = int(input())\n",
    "\n",
    "queue = []\n",
    "\n",
    "for _ in range(n):\n",
    "    num = int(input())\n",
    "    if num > 0:\n",
    "        heapq.heappush(queue, num)\n",
    "    else:\n",
    "        if len(queue) == 0:\n",
    "            print(0)\n",
    "        else:\n",
    "            print(heapq.heappop(queue))\n"
   ]
  },
  {
   "cell_type": "code",
   "execution_count": null,
   "metadata": {},
   "outputs": [],
   "source": []
  }
 ],
 "metadata": {
  "kernelspec": {
   "display_name": "base",
   "language": "python",
   "name": "python3"
  },
  "language_info": {
   "codemirror_mode": {
    "name": "ipython",
    "version": 3
   },
   "file_extension": ".py",
   "mimetype": "text/x-python",
   "name": "python",
   "nbconvert_exporter": "python",
   "pygments_lexer": "ipython3",
   "version": "3.9.6"
  }
 },
 "nbformat": 4,
 "nbformat_minor": 2
}
