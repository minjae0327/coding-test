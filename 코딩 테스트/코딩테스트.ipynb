{
 "cells": [
  {
   "cell_type": "code",
   "execution_count": 132,
   "metadata": {},
   "outputs": [
    {
     "data": {
      "text/plain": [
       "5"
      ]
     },
     "execution_count": 132,
     "metadata": {},
     "output_type": "execute_result"
    }
   ],
   "source": [
    "# programmers  \n",
    "def solution(arr):\n",
    "    answer = 0\n",
    "    return answer\n",
    "\n",
    "\n",
    "solution([1 ,2, 3])"
   ]
  },
  {
   "cell_type": "code",
   "execution_count": 8,
   "metadata": {},
   "outputs": [
    {
     "data": {
      "text/plain": [
       "4"
      ]
     },
     "execution_count": 8,
     "metadata": {},
     "output_type": "execute_result"
    }
   ],
   "source": [
    "# backjoon\n",
    "N, r, c = map(int, input().split(\" \"))\n",
    "\n",
    "length = 2 ** N\n",
    "length"
   ]
  },
  {
   "cell_type": "code",
   "execution_count": 64,
   "metadata": {},
   "outputs": [
    {
     "data": {
      "text/plain": [
       "11"
      ]
     },
     "execution_count": 64,
     "metadata": {},
     "output_type": "execute_result"
    }
   ],
   "source": [
    "N, r, c = map(int, input().split(\" \"))\n",
    "loc = 0\n",
    "\n",
    "while N != 0:  \n",
    "    N -= 1\n",
    "    \n",
    "    #4사분면    \n",
    "    if r >= 2 ** N and c >= 2 ** N:\n",
    "        r -= (2 ** N)\n",
    "        c -= (2 ** N)\n",
    "        loc += ((2 ** N) * (2 ** N)) * 3\n",
    "    #3사분면\n",
    "    elif r >= 2 ** N and c < 2 ** N:\n",
    "        r-= (2 ** N)\n",
    "        loc += ((2 ** N) * (2 ** N)) * 2\n",
    "    #2사분면\n",
    "    elif r < 2 ** N and c < 2 ** N:\n",
    "        pass\n",
    "    #1사분면\n",
    "    else:\n",
    "        c -= (2 ** N)\n",
    "        loc += ((2 ** N) * (2 ** N))\n",
    "        \n",
    "print(loc)"
   ]
  },
  {
   "cell_type": "code",
   "execution_count": null,
   "metadata": {},
   "outputs": [],
   "source": []
  },
  {
   "cell_type": "code",
   "execution_count": null,
   "metadata": {},
   "outputs": [],
   "source": []
  }
 ],
 "metadata": {
  "kernelspec": {
   "display_name": "base",
   "language": "python",
   "name": "python3"
  },
  "language_info": {
   "codemirror_mode": {
    "name": "ipython",
    "version": 3
   },
   "file_extension": ".py",
   "mimetype": "text/x-python",
   "name": "python",
   "nbconvert_exporter": "python",
   "pygments_lexer": "ipython3",
   "version": "3.9.6"
  }
 },
 "nbformat": 4,
 "nbformat_minor": 2
}
