{
 "cells": [
  {
   "cell_type": "code",
   "execution_count": 132,
   "metadata": {},
   "outputs": [
    {
     "data": {
      "text/plain": [
       "5"
      ]
     },
     "execution_count": 132,
     "metadata": {},
     "output_type": "execute_result"
    }
   ],
   "source": [
    "# programmers  \n",
    "def solution(arr):\n",
    "    answer = 0\n",
    "    return answer\n",
    "\n",
    "\n",
    "solution([1 ,2, 3])"
   ]
  },
  {
   "cell_type": "code",
   "execution_count": 56,
   "metadata": {},
   "outputs": [
    {
     "ename": "KeyboardInterrupt",
     "evalue": "",
     "output_type": "error",
     "traceback": [
      "\u001b[0;31m---------------------------------------------------------------------------\u001b[0m",
      "\u001b[0;31mKeyboardInterrupt\u001b[0m                         Traceback (most recent call last)",
      "Cell \u001b[0;32mIn[56], line 9\u001b[0m\n\u001b[1;32m      5\u001b[0m \u001b[38;5;66;03m# from itertools import permutations, combinations\u001b[39;00m\n\u001b[1;32m      7\u001b[0m \u001b[38;5;28minput\u001b[39m \u001b[38;5;241m=\u001b[39m sys\u001b[38;5;241m.\u001b[39mstdin\u001b[38;5;241m.\u001b[39mreadline\n\u001b[0;32m----> 9\u001b[0m a, b \u001b[38;5;241m=\u001b[39m \u001b[38;5;28mmap\u001b[39m(\u001b[38;5;28mstr\u001b[39m, \u001b[38;5;28;43minput\u001b[39;49m\u001b[43m(\u001b[49m\u001b[43m)\u001b[49m\u001b[38;5;241m.\u001b[39msplit())\n\u001b[1;32m     11\u001b[0m \u001b[38;5;66;03m# n = int(input())\u001b[39;00m\n\u001b[1;32m     12\u001b[0m \u001b[38;5;66;03m# nums = list(map(int, input().split()))\u001b[39;00m\n\u001b[1;32m     13\u001b[0m table \u001b[38;5;241m=\u001b[39m [\u001b[38;5;28mlist\u001b[39m(\u001b[38;5;28mmap\u001b[39m(\u001b[38;5;28mint\u001b[39m, \u001b[38;5;28minput\u001b[39m()\u001b[38;5;241m.\u001b[39msplit())) \u001b[38;5;28;01mfor\u001b[39;00m _ \u001b[38;5;129;01min\u001b[39;00m \u001b[38;5;28mrange\u001b[39m(n)]\n",
      "\u001b[0;31mKeyboardInterrupt\u001b[0m: "
     ]
    }
   ],
   "source": [
    "# backjoon\n",
    "import sys\n",
    "from collections import deque\n",
    "from collections import defaultdict\n",
    "# from itertools import permutations, combinations\n",
    "\n",
    "input = sys.stdin.readline\n",
    "\n",
    "# n, m = map(int, input().split())\n",
    "\n",
    "t = int(input())\n",
    "# steps = list(map(int, input().split()))\n",
    "# stuffs = [list(map(int, input().split())) for _ in range(n)]\n",
    "nums=[]\n",
    "for i in range(t):\n",
    "    nums.append(input().strip())\n",
    "    \n",
    "\n"
   ]
  },
  {
   "cell_type": "code",
   "execution_count": 25,
   "metadata": {},
   "outputs": [
    {
     "name": "stdout",
     "output_type": "stream",
     "text": [
      "2\n"
     ]
    }
   ],
   "source": [
    "from collections import deque\n",
    "\n",
    "a, b = map(int, input().split())\n",
    "\n",
    "def bfs(start, end):\n",
    "    have_to_visit = deque()\n",
    "    INF = float(\"inf\")\n",
    "    visited = [INF] * 100001\n",
    "    \n",
    "    have_to_visit.append(start)\n",
    "    visited[start] = 0\n",
    "\n",
    "    while have_to_visit:\n",
    "        start = have_to_visit.popleft()\n",
    "        \n",
    "        if start == end:\n",
    "            return visited[end]\n",
    "        \n",
    "        for node, count in ((start * 2, 0), (start + 1, 1), (start - 1, 1)):\n",
    "            if 0 <= node <= 100000 and visited[node] > visited[start] + count:\n",
    "                visited[node] = visited[start] + count\n",
    "                \n",
    "                if count == 0:\n",
    "                    have_to_visit.appendleft(node)\n",
    "                else:\n",
    "                    have_to_visit.append(node)\n",
    "    \n",
    "\n",
    "result = bfs(a, b)\n",
    "print(result)\n"
   ]
  },
  {
   "cell_type": "code",
   "execution_count": null,
   "metadata": {},
   "outputs": [],
   "source": [
    "import sys\n",
    "import heapq\n",
    "\n",
    "a, b = map(int, sys.stdin.readline().split())\n",
    "\n",
    "def dijkstra(start, end):\n",
    "    INF = float('inf')\n",
    "    visited = [INF] * 100001\n",
    "    visited[start] = 0\n",
    "    \n",
    "    heap = []\n",
    "    heapq.heappush(heap, (0, start))  # (시간, 위치)\n",
    "\n",
    "    while heap:\n",
    "        time, start = heapq.heappop(heap)\n",
    "        \n",
    "        if start == end:\n",
    "            return time\n",
    "        \n",
    "        # 이미 더 빠른 경로로 방문했다면 스킵\n",
    "        if visited[start] < time:\n",
    "            continue\n",
    "\n",
    "        # 이동할 수 있는 경우\n",
    "        for next_x, cost in [(start * 2, 0), (start + 1, 1), (start - 1, 1)]:\n",
    "            if 0 <= next_x <= 100000 and visited[next_x] > time + cost:\n",
    "                visited[next_x] = time + cost\n",
    "                heapq.heappush(heap, (time + cost, next_x))\n",
    "\n",
    "result = dijkstra(a, b)\n",
    "print(result)\n"
   ]
  }
 ],
 "metadata": {
  "kernelspec": {
   "display_name": "base",
   "language": "python",
   "name": "python3"
  },
  "language_info": {
   "codemirror_mode": {
    "name": "ipython",
    "version": 3
   },
   "file_extension": ".py",
   "mimetype": "text/x-python",
   "name": "python",
   "nbconvert_exporter": "python",
   "pygments_lexer": "ipython3",
   "version": "3.9.6"
  }
 },
 "nbformat": 4,
 "nbformat_minor": 2
}
