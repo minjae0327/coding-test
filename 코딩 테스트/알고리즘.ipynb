{
 "cells": [
  {
   "cell_type": "markdown",
   "metadata": {},
   "source": [
    "## 알고리즘"
   ]
  },
  {
   "cell_type": "code",
   "execution_count": 28,
   "metadata": {},
   "outputs": [
    {
     "name": "stdout",
     "output_type": "stream",
     "text": [
      "[1, 2, 4, 5, 6, 7, 9]\n"
     ]
    }
   ],
   "source": [
    "# selection sort\n",
    "def selection_sort(_list):\n",
    "    len_list = len(_list)\n",
    "    \n",
    "    for i in range(len_list - 1):\n",
    "        min_num = _list[i]\n",
    "        min_loc = i\n",
    "        \n",
    "        for j in range(i+1, len_list):\n",
    "            if min_num > a[j]:\n",
    "                min_num = a[j]\n",
    "                min_loc = j\n",
    "        \n",
    "        if min_loc != i:        \n",
    "            _list[i], _list[min_loc] = _list[min_loc], _list[i]\n",
    "\n",
    "a = [4,7,2,9,1,6,5]\n",
    "selection_sort(a)\n",
    "print(a)"
   ]
  },
  {
   "cell_type": "code",
   "execution_count": 77,
   "metadata": {},
   "outputs": [
    {
     "name": "stdout",
     "output_type": "stream",
     "text": [
      "[1, 2, 4, 5, 6, 7, 9]\n"
     ]
    }
   ],
   "source": [
    "#insertion sort\n",
    "def insertion_sort(_list):\n",
    "    len_list = len(_list)\n",
    "    \n",
    "    for i in range(1, len_list):\n",
    "        key = _list[i]\n",
    "        j = i - 1\n",
    "        \n",
    "        while j >= 0 and _list[j] > key:\n",
    "            _list[j + 1] = _list[j]\n",
    "            j -= 1\n",
    "            \n",
    "        _list[j + 1] = key\n",
    "                \n",
    "    return _list\n",
    "\n",
    "a = [4,7,2,9,1,6,5]\n",
    "insertion_sort(a)\n",
    "print(a)"
   ]
  },
  {
   "cell_type": "code",
   "execution_count": 80,
   "metadata": {},
   "outputs": [
    {
     "name": "stdout",
     "output_type": "stream",
     "text": [
      "[1, 2, 4, 5, 6, 7, 9]\n"
     ]
    }
   ],
   "source": [
    "#bubble sort\n",
    "def bubble_sort(_list):\n",
    "    len_list = len(_list)\n",
    "    \n",
    "    for i in range(len_list):\n",
    "        swapped = False\n",
    "        for j in range(0, len_list - i - 1):\n",
    "            if _list[j] > _list[j + 1]:\n",
    "                _list[j], _list[j + 1] = _list[j + 1], _list[j]\n",
    "                swapped = True\n",
    "        if not swapped:\n",
    "            break\n",
    "        \n",
    "    return _list\n",
    "\n",
    "a = [4,7,2,9,1,6,5]\n",
    "bubble_sort(a)\n",
    "print(a)"
   ]
  },
  {
   "cell_type": "code",
   "execution_count": null,
   "metadata": {},
   "outputs": [],
   "source": [
    "#merge sort\n",
    "def merge(arr, left, mid, right):\n",
    "    temp = []\n",
    "    i = left       # left subarray 시작\n",
    "    j = mid + 1    # right subarray 시작\n",
    "\n",
    "    # 두 부분을 비교하며 정렬\n",
    "    while i <= mid and j <= right:\n",
    "        if arr[i] <= arr[j]:\n",
    "            temp.append(arr[i])\n",
    "            i += 1\n",
    "        else:\n",
    "            temp.append(arr[j])\n",
    "            j += 1\n",
    "\n",
    "    # 남은 부분 복사\n",
    "    while i <= mid:\n",
    "        temp.append(arr[i])\n",
    "        i += 1\n",
    "    while j <= right:\n",
    "        temp.append(arr[j])\n",
    "        j += 1\n",
    "\n",
    "    # 정렬된 결과를 원래 배열에 반영\n",
    "    for idx in range(len(temp)):\n",
    "        arr[left + idx] = temp[idx]\n",
    "\n",
    "\n",
    "def merge_sort(arr, left, right):\n",
    "    if left < right:\n",
    "        mid = (left + right) // 2\n",
    "        merge_sort(arr, left, mid)\n",
    "        merge_sort(arr, mid + 1, right)\n",
    "        merge(arr, left, mid, right)\n",
    "\n",
    "\n",
    "a = [4,7,2,9,1,6,5]\n",
    "left = 0\n",
    "right = len(a) - 1\n",
    "merge_sort(a, left, right)\n",
    "print(a)"
   ]
  },
  {
   "cell_type": "code",
   "execution_count": null,
   "metadata": {},
   "outputs": [],
   "source": []
  },
  {
   "cell_type": "code",
   "execution_count": 46,
   "metadata": {},
   "outputs": [
    {
     "name": "stdout",
     "output_type": "stream",
     "text": [
      "3\n"
     ]
    }
   ],
   "source": [
    "#binary search\n",
    "def binary_search(_list, target_num, left=0, right=None):\n",
    "    if right is None:\n",
    "        right = len(_list) - 1\n",
    "\n",
    "    if left > right:\n",
    "        return -1  # 요소를 찾지 못했을 때\n",
    "\n",
    "    mid = (left + right) // 2\n",
    "\n",
    "    if _list[mid] == target_num:\n",
    "        return mid  # 요소의 인덱스를 반환\n",
    "    elif _list[mid] < target_num:\n",
    "        return binary_search(_list, target_num, mid + 1, right)\n",
    "    else:\n",
    "        return binary_search(_list, target_num, left, mid - 1)\n",
    "\n",
    "    \n",
    "b = [1, 2, 3, 4, 5, 6, 7]\n",
    "print(binary_search(b, 3))"
   ]
  },
  {
   "cell_type": "code",
   "execution_count": 44,
   "metadata": {},
   "outputs": [
    {
     "data": {
      "text/plain": [
       "[4, 5, 6, 7]"
      ]
     },
     "execution_count": 44,
     "metadata": {},
     "output_type": "execute_result"
    }
   ],
   "source": [
    "c = [1, 2, 3, 4, 5, 6, 7]\n",
    "c[3:]"
   ]
  },
  {
   "cell_type": "code",
   "execution_count": null,
   "metadata": {},
   "outputs": [],
   "source": []
  }
 ],
 "metadata": {
  "kernelspec": {
   "display_name": "lightglue",
   "language": "python",
   "name": "python3"
  },
  "language_info": {
   "codemirror_mode": {
    "name": "ipython",
    "version": 3
   },
   "file_extension": ".py",
   "mimetype": "text/x-python",
   "name": "python",
   "nbconvert_exporter": "python",
   "pygments_lexer": "ipython3",
   "version": "3.9.6"
  }
 },
 "nbformat": 4,
 "nbformat_minor": 2
}
