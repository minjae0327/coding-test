{
 "cells": [
  {
   "cell_type": "code",
   "execution_count": 9,
   "metadata": {},
   "outputs": [
    {
     "name": "stdout",
     "output_type": "stream",
     "text": [
      "4\n",
      "-1\n",
      "-1\n"
     ]
    }
   ],
   "source": [
    "T = int(input())\n",
    "\n",
    "for _ in range(T):\n",
    "    N, M = map(int, input().split())\n",
    "    correct_code = list(map(int, input().split()))\n",
    "    slow_code = list(map(int, input().split()))\n",
    "    \n",
    "    min_process = min(correct_code)\n",
    "    left = max(correct_code)\n",
    "    right = min(slow_code)\n",
    "    \n",
    "    answer = 0\n",
    "    \n",
    "    if left >= right:\n",
    "        answer = -1\n",
    "    else:\n",
    "        for time in range(left, right):\n",
    "            if time >= min_process * 2:\n",
    "                answer = time\n",
    "                break\n",
    "        \n",
    "        if answer == 0:\n",
    "            answer = -1\n",
    "            \n",
    "    print(answer)"
   ]
  },
  {
   "cell_type": "code",
   "execution_count": 40,
   "metadata": {},
   "outputs": [
    {
     "name": "stdout",
     "output_type": "stream",
     "text": [
      "#1 6\n",
      "#2 6\n",
      "#3 1\n"
     ]
    }
   ],
   "source": [
    "from itertools import combinations\n",
    "\n",
    "T = int(input())\n",
    "for test_case in range(1, T + 1):\n",
    "    N, K = map(int, input().split())\n",
    "    distances = list(map(int, input().split()))\n",
    "    \n",
    "    distances = set(distances)\n",
    "    \n",
    "    candidates = list(combinations(distances, K))\n",
    "    \n",
    "    answer = float(\"inf\")\n",
    "\n",
    "    for i in candidates:\n",
    "        nums = list(combinations(i, 2))\n",
    "        result = 0\n",
    "        for num in (nums):\n",
    "            result += abs(num[0] - num[1])\n",
    "        \n",
    "        if result < answer:\n",
    "            answer = result\n",
    "    \n",
    "    \n",
    "    print(f\"#{test_case} {answer}\")"
   ]
  },
  {
   "cell_type": "code",
   "execution_count": 24,
   "metadata": {},
   "outputs": [],
   "source": [
    "can = candidates"
   ]
  },
  {
   "cell_type": "code",
   "execution_count": 38,
   "metadata": {},
   "outputs": [
    {
     "name": "stdout",
     "output_type": "stream",
     "text": [
      "6\n"
     ]
    }
   ],
   "source": [
    "answer = float(\"inf\")\n",
    "\n",
    "for i in can:\n",
    "    nums = list(combinations(i, 2))\n",
    "    result = 0\n",
    "    for num in (nums):\n",
    "        result += abs(num[0] - num[1])\n",
    "    \n",
    "    if result < answer:\n",
    "        answer = result\n",
    "        \n",
    "print(answer)"
   ]
  },
  {
   "cell_type": "code",
   "execution_count": 49,
   "metadata": {},
   "outputs": [
    {
     "ename": "RecursionError",
     "evalue": "maximum recursion depth exceeded while calling a Python object",
     "output_type": "error",
     "traceback": [
      "\u001b[0;31m---------------------------------------------------------------------------\u001b[0m",
      "\u001b[0;31mRecursionError\u001b[0m                            Traceback (most recent call last)",
      "Cell \u001b[0;32mIn[49], line 16\u001b[0m\n\u001b[1;32m     13\u001b[0m         \u001b[38;5;28;01mreturn\u001b[39;00m recur(arr, nums[i])\n\u001b[1;32m     15\u001b[0m answer \u001b[38;5;241m=\u001b[39m []\n\u001b[0;32m---> 16\u001b[0m \u001b[43mrecur\u001b[49m\u001b[43m(\u001b[49m\u001b[43manswer\u001b[49m\u001b[43m,\u001b[49m\u001b[43m \u001b[49m\u001b[43mnums\u001b[49m\u001b[43m[\u001b[49m\u001b[38;5;241;43m0\u001b[39;49m\u001b[43m]\u001b[49m\u001b[43m)\u001b[49m\n",
      "Cell \u001b[0;32mIn[49], line 13\u001b[0m, in \u001b[0;36mrecur\u001b[0;34m(arr, num)\u001b[0m\n\u001b[1;32m     10\u001b[0m     arr\u001b[38;5;241m.\u001b[39mappend(num)\n\u001b[1;32m     12\u001b[0m \u001b[38;5;28;01mfor\u001b[39;00m i \u001b[38;5;129;01min\u001b[39;00m \u001b[38;5;28mrange\u001b[39m(N):\n\u001b[0;32m---> 13\u001b[0m     \u001b[38;5;28;01mreturn\u001b[39;00m \u001b[43mrecur\u001b[49m\u001b[43m(\u001b[49m\u001b[43marr\u001b[49m\u001b[43m,\u001b[49m\u001b[43m \u001b[49m\u001b[43mnums\u001b[49m\u001b[43m[\u001b[49m\u001b[43mi\u001b[49m\u001b[43m]\u001b[49m\u001b[43m)\u001b[49m\n",
      "Cell \u001b[0;32mIn[49], line 13\u001b[0m, in \u001b[0;36mrecur\u001b[0;34m(arr, num)\u001b[0m\n\u001b[1;32m     10\u001b[0m     arr\u001b[38;5;241m.\u001b[39mappend(num)\n\u001b[1;32m     12\u001b[0m \u001b[38;5;28;01mfor\u001b[39;00m i \u001b[38;5;129;01min\u001b[39;00m \u001b[38;5;28mrange\u001b[39m(N):\n\u001b[0;32m---> 13\u001b[0m     \u001b[38;5;28;01mreturn\u001b[39;00m \u001b[43mrecur\u001b[49m\u001b[43m(\u001b[49m\u001b[43marr\u001b[49m\u001b[43m,\u001b[49m\u001b[43m \u001b[49m\u001b[43mnums\u001b[49m\u001b[43m[\u001b[49m\u001b[43mi\u001b[49m\u001b[43m]\u001b[49m\u001b[43m)\u001b[49m\n",
      "    \u001b[0;31m[... skipping similar frames: recur at line 13 (2968 times)]\u001b[0m\n",
      "Cell \u001b[0;32mIn[49], line 13\u001b[0m, in \u001b[0;36mrecur\u001b[0;34m(arr, num)\u001b[0m\n\u001b[1;32m     10\u001b[0m     arr\u001b[38;5;241m.\u001b[39mappend(num)\n\u001b[1;32m     12\u001b[0m \u001b[38;5;28;01mfor\u001b[39;00m i \u001b[38;5;129;01min\u001b[39;00m \u001b[38;5;28mrange\u001b[39m(N):\n\u001b[0;32m---> 13\u001b[0m     \u001b[38;5;28;01mreturn\u001b[39;00m \u001b[43mrecur\u001b[49m\u001b[43m(\u001b[49m\u001b[43marr\u001b[49m\u001b[43m,\u001b[49m\u001b[43m \u001b[49m\u001b[43mnums\u001b[49m\u001b[43m[\u001b[49m\u001b[43mi\u001b[49m\u001b[43m]\u001b[49m\u001b[43m)\u001b[49m\n",
      "Cell \u001b[0;32mIn[49], line 5\u001b[0m, in \u001b[0;36mrecur\u001b[0;34m(arr, num)\u001b[0m\n\u001b[1;32m      4\u001b[0m \u001b[38;5;28;01mdef\u001b[39;00m \u001b[38;5;21mrecur\u001b[39m(arr, num):\n\u001b[0;32m----> 5\u001b[0m     \u001b[38;5;28;01mif\u001b[39;00m \u001b[38;5;28;43mlen\u001b[39;49m\u001b[43m(\u001b[49m\u001b[43marr\u001b[49m\u001b[43m)\u001b[49m \u001b[38;5;241m==\u001b[39m \u001b[38;5;241m3\u001b[39m:\n\u001b[1;32m      6\u001b[0m         \u001b[38;5;28mprint\u001b[39m(arr)\n\u001b[1;32m      7\u001b[0m         \u001b[38;5;28;01mreturn\u001b[39;00m\n",
      "\u001b[0;31mRecursionError\u001b[0m: maximum recursion depth exceeded while calling a Python object"
     ]
    }
   ],
   "source": [
    "k = 3\n",
    "nums = [3, 5, 1, 8, 6]\n",
    "\n",
    "def recur(arr, num):\n",
    "    if len(arr) == 3:\n",
    "        print(arr)\n",
    "        return\n",
    "    \n",
    "    if num not in arr:\n",
    "        arr.append(num)\n",
    "        \n",
    "    for i in range(N):\n",
    "        return recur(arr, nums[i])\n",
    "\n",
    "answer = []\n",
    "recur(answer, nums[0])"
   ]
  },
  {
   "cell_type": "code",
   "execution_count": null,
   "metadata": {},
   "outputs": [],
   "source": []
  }
 ],
 "metadata": {
  "kernelspec": {
   "display_name": "Python 3",
   "language": "python",
   "name": "python3"
  },
  "language_info": {
   "codemirror_mode": {
    "name": "ipython",
    "version": 3
   },
   "file_extension": ".py",
   "mimetype": "text/x-python",
   "name": "python",
   "nbconvert_exporter": "python",
   "pygments_lexer": "ipython3",
   "version": "3.9.6"
  }
 },
 "nbformat": 4,
 "nbformat_minor": 2
}
