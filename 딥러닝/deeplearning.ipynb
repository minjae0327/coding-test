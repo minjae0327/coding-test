{
 "cells": [
  {
   "cell_type": "code",
   "execution_count": 1,
   "metadata": {},
   "outputs": [],
   "source": [
    "import torch\n",
    "import torch.nn as nn\n",
    "import torch.optim as optim\n",
    "import torchvision.datasets as datasets\n",
    "import torchvision.transforms as transforms"
   ]
  },
  {
   "cell_type": "code",
   "execution_count": 11,
   "metadata": {},
   "outputs": [],
   "source": [
    "class AlexNet(nn.Module): # input : 227*227*3\n",
    "    def __init__(self):\n",
    "        super().__init__()\n",
    "        self.conv1 = nn.Sequential(\n",
    "            nn.Conv2d(3, 48, kernel_size=11, stride=4),\n",
    "            nn.ReLU(),\n",
    "            nn.Conv2d(48, 48, kernel_size=3, stride=2),\n",
    "            nn.LocalResponseNorm(5),\n",
    "        )\n",
    "        self.conv2 = nn.Sequential(\n",
    "            nn.Conv2d(48, 128, kernel_size=5, padding=2),\n",
    "            nn.ReLU(),\n",
    "            nn.Conv2d(128, 128, kernel_size=3, stride=2),\n",
    "            nn.LocalResponseNorm(5),\n",
    "        )\n",
    "        self.conv3 = nn.Sequential(\n",
    "            nn.Conv2d(128, 192, kernel_size=3, padding=1),\n",
    "            nn.ReLU()\n",
    "        )\n",
    "        self.conv4 = nn.Sequential(\n",
    "            nn.Conv2d(192, 192, kernel_size=3, padding=1),\n",
    "            nn.ReLU()\n",
    "        )\n",
    "        self.conv5 = nn.Sequential(\n",
    "            nn.Conv2d(192, 128, kernel_size=3, padding=1),\n",
    "            nn.ReLU(),\n",
    "            nn.MaxPool2d(kernel_size=3, stride=2)\n",
    "        )\n",
    "        \n",
    "        self.fc1 = nn.Sequential(\n",
    "            nn.Flatten(),\n",
    "            nn.Linear(128 * 6 * 6, 2048),\n",
    "            nn.ReLU(),\n",
    "        )\n",
    "        self.fc2 = nn.Sequential(\n",
    "            nn.Linear(2048, 2048),\n",
    "            nn.ReLU(),\n",
    "        )\n",
    "        self.fc3 = nn.Sequential(\n",
    "            nn.Linear(4096, 1000)\n",
    "        )\n",
    "        \n",
    "    def forward(self, x):\n",
    "        a = x\n",
    "        b = x\n",
    "        \n",
    "        a = self.conv1(a)\n",
    "        a = self.conv2(a)\n",
    "        a = self.conv3(a)\n",
    "        a = self.conv4(a)\n",
    "        a = self.conv5(a)\n",
    "        a = self.fc1(a)\n",
    "        a = self.fc2(a)\n",
    "        \n",
    "        b = self.conv1(b)\n",
    "        b = self.conv2(b)\n",
    "        b = self.conv3(b)\n",
    "        b = self.conv4(b)\n",
    "        b = self.conv5(b)\n",
    "        b = self.fc1(b)\n",
    "        b = self.fc2(b)\n",
    "        \n",
    "        out = torch.cat((a, b), dim=1)\n",
    "        out = self.fc3(out)\n",
    "        \n",
    "        return out"
   ]
  },
  {
   "cell_type": "code",
   "execution_count": 12,
   "metadata": {},
   "outputs": [
    {
     "data": {
      "text/plain": [
       "torch.Size([32, 1000])"
      ]
     },
     "execution_count": 12,
     "metadata": {},
     "output_type": "execute_result"
    }
   ],
   "source": [
    "device = torch.device('cuda' if torch.cuda.is_available() else 'cpu')\n",
    "\n",
    "model = AlexNet().to(device)\n",
    "BATCH = 32\n",
    "\n",
    "x = torch.rand(BATCH, 3,227,227)\n",
    "model(x).size()"
   ]
  },
  {
   "cell_type": "code",
   "execution_count": null,
   "metadata": {},
   "outputs": [],
   "source": []
  }
 ],
 "metadata": {
  "kernelspec": {
   "display_name": "Python 3",
   "language": "python",
   "name": "python3"
  },
  "language_info": {
   "codemirror_mode": {
    "name": "ipython",
    "version": 3
   },
   "file_extension": ".py",
   "mimetype": "text/x-python",
   "name": "python",
   "nbconvert_exporter": "python",
   "pygments_lexer": "ipython3",
   "version": "3.9.6"
  }
 },
 "nbformat": 4,
 "nbformat_minor": 2
}
