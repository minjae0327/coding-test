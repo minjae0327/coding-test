{
 "cells": [
  {
   "cell_type": "markdown",
   "id": "1040ce28",
   "metadata": {},
   "source": [
    "1. 데이터 로드\n",
    "2. 텍스트 분할\n",
    "3. 인덱싱(임베딩 후 인덱싱)\n",
    "4. 검색(retrieval)"
   ]
  },
  {
   "cell_type": "code",
   "execution_count": 1,
   "id": "6b2b481b",
   "metadata": {},
   "outputs": [],
   "source": [
    "# # Data Loader - 웹페이지 데이터 가져오기\n",
    "# from langchain_community.document_loaders import WebBaseLoader\n",
    "\n",
    "# url = 'https://ko.wikipedia.org/wiki/%EC%9C%84%ED%82%A4%EB%B0%B1%EA%B3%BC:%EC%A0%95%EC%B1%85%EA%B3%BC_%EC%A7%80%EC%B9%A8'\n",
    "# loader = WebBaseLoader(url)\n",
    "\n",
    "# docs = loader.load()\n",
    "\n",
    "# print(len(docs))\n",
    "# print(len(docs[0].page_content))\n",
    "# print(docs[0].page_content[5000:6000])\n",
    "\n",
    "\n",
    "# # ---------------------------------------------------------------------------------------\n",
    "\n",
    "\n",
    "# # Text Split (Documents -> small chunks: Documents)\n",
    "# from langchain.text_splitter import RecursiveCharacterTextSplitter\n",
    "\n",
    "# text_splitter = RecursiveCharacterTextSplitter(chunk_size=1000, chunk_overlap=200)\n",
    "# splits = text_splitter.split_documents(docs)\n",
    "\n",
    "# print(len(splits))\n",
    "# print(splits[0].page_content)\n",
    "# print(splits[0].metadata)\n",
    "\n",
    "\n",
    "# # ---------------------------------------------------------------------------------------\n",
    "\n",
    "\n",
    "# # Indexing (Texts -> Embedding -> Store)\n",
    "# from langchain_community.vectorstores import Chroma\n",
    "# from langchain_community.embeddings import HuggingFaceEmbeddings\n",
    "\n",
    "# embeddings_model = HuggingFaceEmbeddings(\n",
    "#     model_name='jhgan/ko-sroberta-nli',\n",
    "#     model_kwargs={'device':device},\n",
    "#     encode_kwargs={'normalize_embeddings':True},\n",
    "# )\n",
    "\n",
    "# vectorstore = Chroma.from_documents(documents=splits,\n",
    "#                                     embedding=embeddings_model)\n",
    "\n",
    "# docs = vectorstore.similarity_search(\"격하 과정에 대해서 설명해주세요.\")\n",
    "# print(len(docs))\n",
    "# print(docs[0].page_content)\n"
   ]
  },
  {
   "cell_type": "code",
   "execution_count": 1,
   "id": "b2f51608",
   "metadata": {},
   "outputs": [],
   "source": [
    "# Data Loader - 웹페이지 데이터 가져오기\n",
    "import json\n",
    "import pymupdf4llm\n",
    "from langchain_community.document_loaders import PyPDFLoader, PyMuPDFLoader\n",
    "from langchain.text_splitter import RecursiveCharacterTextSplitter, MarkdownTextSplitter\n",
    "from langchain_community.embeddings import HuggingFaceEmbeddings\n",
    "\n",
    "from langchain_core.prompts import ChatPromptTemplate, PromptTemplate\n",
    "from langchain_core.runnables import RunnablePassthrough\n",
    "from langchain_core.output_parsers import StrOutputParser\n",
    "from langchain_core.documents import Document\n",
    "\n",
    "from langchain_community.vectorstores import Chroma, FAISS\n",
    "from langchain_openai import ChatOpenAI, OpenAIEmbeddings\n",
    "from langchain_community.llms import Ollama"
   ]
  },
  {
   "cell_type": "code",
   "execution_count": 2,
   "id": "199cfd15",
   "metadata": {},
   "outputs": [
    {
     "data": {
      "text/plain": [
       "device(type='cuda')"
      ]
     },
     "execution_count": 2,
     "metadata": {},
     "output_type": "execute_result"
    }
   ],
   "source": [
    "import torch\n",
    "\n",
    "device = torch.device(\"cuda\" if torch.cuda.is_available() else \"cpu\")\n",
    "device"
   ]
  },
  {
   "cell_type": "code",
   "execution_count": 3,
   "id": "e877468a",
   "metadata": {},
   "outputs": [
    {
     "data": {
      "text/markdown": [
       "|구 분|운 임|Col3|Col4|Col5|일 비<br>(1일당)|숙박비<br>(1야당)|식 비<br>(1일당)|\n",
       "|---|---|---|---|---|---|---|---|\n",
       "|구 분|철 도|선 박|항 공|자동차|자동차|자동차|자동차|\n",
       "|교 수<br>부 교 수<br>5급(부참사) 이상<br>사무직원|KTX<br>(특실)|2 등<br>정 액|〃|〃|￦30,000|￦100,000|￦40,000|\n",
       "|조 교 수<br>전 임 강 사<br>일 반 직 원|KTX<br>(보통)|〃|〃|〃|￦30,000|￦100,000|￦40,000|\n",
       "|조 교<br>사무보조원<br>일 용 직|KTX<br>(보통)|〃|〃|〃|￦20,000|￦80,000|￦30,000|\n",
       "\n",
       "\n",
       "\n",
       "\n",
       "|현행 지역 구분|세부 지역 구분|교통비(원)|\n",
       "|---|---|---|\n",
       "|인천시내|강화군, 옹진군 및 도서지역 제외한 인천시내|10,000|\n",
       "|서울,안양,과천 외|서울,안양,과천,군포,의왕,안산,시흥,광명,부천,김포 外|20,000|\n",
       "|수원,분당,일산 외|수원,분당,일산,강화,영종도,화성 外(인천,서울 지역을 제외한 수도권 일원)|25,000|\n",
       "\n",
       "\n",
       "\n",
       "\n",
       "\n",
       "\n",
       "\n",
       "\n",
       "\n",
       "\n",
       "|구 분|Col2|교 통 비|체 재 비|Col5|Col6|비 고|\n",
       "|---|---|---|---|---|---|---|\n",
       "|구 분|구 분|교 통 비|일 비<br>(1일당)|숙박비<br>(1야당)|식 비<br>(1일당)|식 비<br>(1일당)|\n",
       "|교 수<br>부 교 수<br>부참여(3급)<br>이 상|가|항공임 2등 운임 실비|$35|$220|$110|가 : 스위스,이스라엘, 아이슬<br>란드,노르웨이, 덴마크,<br>아일랜드,오스트레일리아,<br>뉴질랜드,룩셈부르크,스웨<br>덴, 영국, 핀란드, 캐나다,<br>미국, 네덜란드,벨기에,<br>일본, 오스트리아, 프랑스,<br>독일,이탈리아, 홍콩,싱가포르,<br>러시아(모스크바), 중국(베이징,<br>상하이,선전,광저우)<br>나 : “가”지역을 제외한 지역|\n",
       "|교 수<br>부 교 수<br>부참여(3급)<br>이 상|나|〃|$35|$160|$80|$80|\n",
       "|조 교 수<br>전임강사<br>참사(4급)<br>이 하|가|항공임 3등 운임 실비|$30|$200|$85|$85|\n",
       "|조 교 수<br>전임강사<br>참사(4급)<br>이 하|나|〃|$30|$150|$60|$60|\n",
       "\n",
       "\n"
      ],
      "text/plain": [
       "<IPython.core.display.Markdown object>"
      ]
     },
     "metadata": {},
     "output_type": "display_data"
    }
   ],
   "source": [
    "from IPython.display import Markdown\n",
    "\n",
    "pdf_filepath = 'datasets/여비산정기준표.pdf'\n",
    "\n",
    "md_text = pymupdf4llm.to_markdown(pdf_filepath) \n",
    "\n",
    "# Jupyter Notebook에서 마크다운 표로 렌더링하여 출력\n",
    "display(Markdown(md_text))"
   ]
  },
  {
   "cell_type": "code",
   "execution_count": 4,
   "id": "cc81cbff",
   "metadata": {},
   "outputs": [
    {
     "name": "stderr",
     "output_type": "stream",
     "text": [
      "C:\\Users\\minja\\AppData\\Local\\Temp\\ipykernel_8508\\115859068.py:11: LangChainDeprecationWarning: The class `HuggingFaceEmbeddings` was deprecated in LangChain 0.2.2 and will be removed in 1.0. An updated version of the class exists in the :class:`~langchain-huggingface package and should be used instead. To use it run `pip install -U :class:`~langchain-huggingface` and import as `from :class:`~langchain_huggingface import HuggingFaceEmbeddings``.\n",
      "  embedding_model = HuggingFaceEmbeddings(\n"
     ]
    }
   ],
   "source": [
    "# PDF를 마크다운 형식으로 변환 (페이지별 청크 포함)\n",
    "md_text = pymupdf4llm.to_markdown(pdf_filepath)\n",
    "\n",
    "# 2. 마크다운 → 텍스트 청크 분할\n",
    "splitter = MarkdownTextSplitter(chunk_size=1000, chunk_overlap=50) #잘 안돼면 512, 768, 1024 등으로 변경\n",
    "chunks = splitter.create_documents([md_text])\n",
    "\n",
    "# 3. Document 객체 생성\n",
    "documents = [Document(page_content=chunk.page_content, metadata={\"source\": pdf_filepath}) for chunk in chunks]\n",
    "\n",
    "embedding_model = HuggingFaceEmbeddings(\n",
    "    model_name='BAAI/bge-m3',\n",
    "    model_kwargs={'device':device},\n",
    "    encode_kwargs={'normalize_embeddings':True},\n",
    ")\n",
    "\n",
    "vectorstore = FAISS.from_documents(\n",
    "    documents=documents,\n",
    "    embedding=embedding_model\n",
    ")\n",
    "\n",
    "retriever = vectorstore.as_retriever()\n",
    "\n",
    "prompt = ChatPromptTemplate.from_template(\"\"\"\n",
    "You are an assistant for question-answering tasks. \n",
    "Use the following pieces of retrieved context to answer the question.\n",
    "If the user asks for a simple answer, summarize the key points.\n",
    "If the question is unrelated to the context in the regulations, respond with \"관련 정보를 찾을 수 없습니다.\"\n",
    "You must answer in Korean.\n",
    "\n",
    "#Context: \n",
    "{context}\n",
    "\n",
    "#Question:\n",
    "{question}\n",
    "\n",
    "#Answer:\n",
    "\"\"\")"
   ]
  },
  {
   "cell_type": "code",
   "execution_count": 5,
   "id": "12cbf455",
   "metadata": {},
   "outputs": [
    {
     "name": "stderr",
     "output_type": "stream",
     "text": [
      "C:\\Users\\minja\\AppData\\Local\\Temp\\ipykernel_8508\\4235443742.py:3: LangChainDeprecationWarning: The class `Ollama` was deprecated in LangChain 0.3.1 and will be removed in 1.0.0. An updated version of the class exists in the :class:`~langchain-ollama package and should be used instead. To use it run `pip install -U :class:`~langchain-ollama` and import as `from :class:`~langchain_ollama import OllamaLLM``.\n",
      "  llm = Ollama(model=\"gemma3:4b\")\n"
     ]
    }
   ],
   "source": [
    "# llm = Ollama(model=\"llama3.2:3b\")\n",
    "# llm = Ollama(model=\"deepseek-r1:1.5b\")\n",
    "llm = Ollama(model=\"gemma3:4b\")\n",
    "# llm = ChatOpenAI(model_name = \"gpt-4o-mini\", temperature=0)\n",
    "\n",
    "def format_docs(docs):\n",
    "    return '\\n\\n'.join(doc.page_content for doc in docs)\n",
    "\n",
    "rag_chain = (\n",
    "    {'context': retriever | format_docs, 'question': RunnablePassthrough()}\n",
    "    | prompt\n",
    "    | llm\n",
    "    | StrOutputParser()\n",
    ")"
   ]
  },
  {
   "cell_type": "code",
   "execution_count": 6,
   "id": "989acb31",
   "metadata": {},
   "outputs": [
    {
     "name": "stdout",
     "output_type": "stream",
     "text": [
      "관련 정보를 찾을 수 없습니다.\n"
     ]
    }
   ],
   "source": [
    "question = \"공무형평상 부득이한 경우는?\"\n",
    "result = rag_chain.invoke(question)\n",
    "print(result)"
   ]
  },
  {
   "cell_type": "code",
   "execution_count": null,
   "id": "058c38f0",
   "metadata": {},
   "outputs": [],
   "source": []
  }
 ],
 "metadata": {
  "kernelspec": {
   "display_name": "virtual",
   "language": "python",
   "name": "python3"
  },
  "language_info": {
   "codemirror_mode": {
    "name": "ipython",
    "version": 3
   },
   "file_extension": ".py",
   "mimetype": "text/x-python",
   "name": "python",
   "nbconvert_exporter": "python",
   "pygments_lexer": "ipython3",
   "version": "3.9.21"
  }
 },
 "nbformat": 4,
 "nbformat_minor": 5
}
