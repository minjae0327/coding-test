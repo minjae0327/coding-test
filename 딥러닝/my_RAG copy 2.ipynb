{
 "cells": [
  {
   "cell_type": "code",
   "execution_count": 1,
   "id": "b2f51608",
   "metadata": {},
   "outputs": [],
   "source": [
    "from langchain.text_splitter import MarkdownTextSplitter\n",
    "from langchain_community.embeddings import HuggingFaceEmbeddings\n",
    "\n",
    "from langchain_core.prompts import ChatPromptTemplate\n",
    "from langchain_core.runnables import RunnablePassthrough\n",
    "from langchain_core.output_parsers import StrOutputParser\n",
    "from langchain_core.documents import Document\n",
    "\n",
    "from langchain_community.vectorstores import FAISS\n",
    "from langchain_openai import ChatOpenAI, OpenAIEmbeddings"
   ]
  },
  {
   "cell_type": "markdown",
   "id": "1040ce28",
   "metadata": {},
   "source": [
    "1. 데이터 로드\n",
    "2. 텍스트 분할\n",
    "3. 인덱싱(임베딩 후 인덱싱)\n",
    "4. 검색(retrieval)"
   ]
  },
  {
   "cell_type": "code",
   "execution_count": 2,
   "id": "199cfd15",
   "metadata": {},
   "outputs": [
    {
     "data": {
      "text/plain": [
       "device(type='cuda')"
      ]
     },
     "execution_count": 2,
     "metadata": {},
     "output_type": "execute_result"
    }
   ],
   "source": [
    "import torch\n",
    "\n",
    "device = torch.device(\"cuda\" if torch.cuda.is_available() else \"cpu\")\n",
    "device"
   ]
  },
  {
   "cell_type": "code",
   "execution_count": 4,
   "id": "dbbc7195",
   "metadata": {},
   "outputs": [],
   "source": [
    "# input_pdf = \"datasets/manual.pdf\"\n",
    "\n",
    "input_pdf = \"datasets/여비산정기준표.pdf\"\n",
    "preprocessed_file = \"datasets/ocr_output.pdf\"\n",
    "result_file = \"datasets/ocr_output_result.pdf\","
   ]
  },
  {
   "cell_type": "code",
   "execution_count": null,
   "id": "17bff288",
   "metadata": {},
   "outputs": [],
   "source": [
    "from docling.document_converter import DocumentConverter, PdfFormatOption\n",
    "from docling.datamodel.base_models import InputFormat\n",
    "from docling.datamodel.pipeline_options import PdfPipelineOptions, TableFormerMode\n",
    "\n",
    "pipeline_options = PdfPipelineOptions(\n",
    "    do_table_structure = True,\n",
    "    do_text_extraction=True,\n",
    ")\n",
    "pipeline_options.table_structure_options.mode = TableFormerMode.ACCURATE\n",
    "\n",
    "doc_converter = DocumentConverter(\n",
    "    format_options={\n",
    "        InputFormat.PDF: PdfFormatOption(pipeline_options=pipeline_options)\n",
    "    }\n",
    ")\n",
    "\n",
    "doc = doc_converter.convert(input_pdf)\n",
    "\n",
    "markdown_text = doc.document.export_to_markdown()\n",
    "# print(markdown_text)\n",
    "#읽지 못하는 텍스트와 사진 처리방법 고민"
   ]
  },
  {
   "cell_type": "code",
   "execution_count": null,
   "id": "4c051002",
   "metadata": {},
   "outputs": [
    {
     "name": "stderr",
     "output_type": "stream",
     "text": [
      "CropBox missing from /Page, defaulting to MediaBox\n",
      "CropBox missing from /Page, defaulting to MediaBox\n"
     ]
    }
   ],
   "source": [
    "import pdfplumber\n",
    "import pandas as pd\n",
    "\n",
    "def table_chunker(pdf_path: str):\n",
    "    chunks = []\n",
    "    with pdfplumber.open(pdf_path) as pdf:\n",
    "        for page in pdf.pages:\n",
    "            tables = page.extract_tables()\n",
    "            for table in tables:\n",
    "                # table: 2D 리스트 (헤더 포함)\n",
    "                try:\n",
    "                    df = pd.DataFrame(table[1:], columns=table[0])\n",
    "                except:\n",
    "                    df = pd.DataFrame(table)\n",
    "                md_table = df.to_markdown(index=False)\n",
    "                chunks.append({\n",
    "                    \"text\": md_table,\n",
    "                    \"metadata\": {\n",
    "                        \"type\": \"table\",\n",
    "                        \"page\": page.page_number\n",
    "                    }\n",
    "                })\n",
    "    return chunks\n",
    "\n",
    "# 사용 예시\n",
    "table_chunks = table_chunker(input_pdf)"
   ]
  },
  {
   "cell_type": "code",
   "execution_count": null,
   "id": "851f6e30",
   "metadata": {},
   "outputs": [],
   "source": [
    "from docling.chunking import HybridChunker\n",
    "\n",
    "chunker = HybridChunker(\n",
    "    tokenizer='BAAI/bge-m3',\n",
    "    max_token_length=512,\n",
    "    overlap=100\n",
    ")\n",
    "\n",
    "chunks = list(chunker.chunk(doc.document))\n",
    "\n",
    "# chunks는 청커로 생성된 문서 조각들\n",
    "# documents = [Document(page_content=chunk.text, metadata={\"source\": chunk.meta}) for chunk in chunks]"
   ]
  },
  {
   "cell_type": "code",
   "execution_count": null,
   "id": "faf10664",
   "metadata": {},
   "outputs": [],
   "source": [
    "text_documents = []\n",
    "for chunk in chunks:\n",
    "    text = chunk.text\n",
    "\n",
    "    source = input_pdf\n",
    "\n",
    "    # page_no를 추출 (여러 Prov 아이템 중 첫 번째의 page_no를 사용하거나, set으로 처리)\n",
    "    page_nos = sorted(\n",
    "        set(\n",
    "            prov.page_no\n",
    "            for item in chunk.meta.doc_items\n",
    "            for prov in item.prov\n",
    "            if hasattr(prov, \"page_no\")\n",
    "        )\n",
    "    ) if hasattr(chunk.meta, \"doc_items\") else []\n",
    "\n",
    "    # 가장 근접한 헤딩(섹션 이름) 추출 (예: 마지막 요소)\n",
    "    headings = chunk.meta.headings if hasattr(chunk.meta, \"headings\") else []\n",
    "    section = headings[-1] if headings else None\n",
    "\n",
    "    metadata = {\n",
    "        \"source\": source,\n",
    "        \"page_numbers\": page_nos,\n",
    "        \"section\": section\n",
    "    }\n",
    "    # (3) LangChain Document 생성\n",
    "    text_documents.append(Document(page_content=text, metadata=metadata))"
   ]
  },
  {
   "cell_type": "code",
   "execution_count": null,
   "id": "56083af7",
   "metadata": {},
   "outputs": [],
   "source": [
    "# 1. table_chunks를 Document 형식으로 변환\n",
    "table_documents = [\n",
    "    Document(\n",
    "        page_content=chunk[\"text\"],\n",
    "        metadata={\n",
    "            \"type\": \"table\",\n",
    "            \"page\": chunk[\"metadata\"][\"page\"],\n",
    "            \"source\": input_pdf\n",
    "        }\n",
    "    ) for chunk in table_chunks\n",
    "]\n",
    "\n",
    "# 3. 두 Document 리스트 합치기\n",
    "all_documents = table_documents + text_documents"
   ]
  },
  {
   "cell_type": "code",
   "execution_count": null,
   "id": "ae8acf02",
   "metadata": {},
   "outputs": [
    {
     "name": "stderr",
     "output_type": "stream",
     "text": [
      "C:\\Users\\minja\\AppData\\Local\\Temp\\ipykernel_2512\\3944120648.py:7: LangChainDeprecationWarning: The class `HuggingFaceEmbeddings` was deprecated in LangChain 0.2.2 and will be removed in 1.0. An updated version of the class exists in the :class:`~langchain-huggingface package and should be used instead. To use it run `pip install -U :class:`~langchain-huggingface` and import as `from :class:`~langchain_huggingface import HuggingFaceEmbeddings``.\n",
      "  embedding_model = HuggingFaceEmbeddings(\n"
     ]
    }
   ],
   "source": [
    "embedding_model = HuggingFaceEmbeddings(\n",
    "    model_name=\"dragonkue/BGE-m3-ko\",\n",
    "    model_kwargs={'device': device},\n",
    "    encode_kwargs={'normalize_embeddings': True},\n",
    ")\n",
    "\n",
    "vectorstore = FAISS.from_documents(\n",
    "    documents=all_documents,\n",
    "    embedding=embedding_model\n",
    ")\n",
    "\n",
    "retriever = vectorstore.as_retriever()"
   ]
  },
  {
   "cell_type": "code",
   "execution_count": null,
   "id": "71caadfd",
   "metadata": {},
   "outputs": [],
   "source": [
    "from langchain.retrievers import ContextualCompressionRetriever\n",
    "from langchain.retrievers.document_compressors import CrossEncoderReranker\n",
    "from langchain_community.cross_encoders import HuggingFaceCrossEncoder\n",
    "\n",
    "# 모델 초기화\n",
    "model = HuggingFaceCrossEncoder(model_name=\"BAAI/bge-reranker-v2-m3\")\n",
    "\n",
    "# 상위 3개의 문서 선택\n",
    "compressor = CrossEncoderReranker(model=model, top_n=3)\n",
    "\n",
    "# 문서 압축 검색기 초기화\n",
    "compression_reranker = ContextualCompressionRetriever(\n",
    "    base_compressor=compressor, base_retriever=retriever\n",
    ")"
   ]
  },
  {
   "cell_type": "code",
   "execution_count": null,
   "id": "ea8afd3e",
   "metadata": {},
   "outputs": [],
   "source": [
    "from langchain_ollama import OllamaLLM\n",
    "\n",
    "# llm = OllamaLLM(model=\"llama3.2:3b\")\n",
    "# llm = OllamaLLM(model=\"deepseek-r1:1.5b\")\n",
    "llm = OllamaLLM(model=\"gemma3:4b\")\n",
    "# llm = ChatOpenAI(model_name = \"gpt-4o-mini\", temperature=0)\n",
    "\n",
    "def format_docs(docs):\n",
    "    return '\\n\\n'.join(doc.page_content for doc in docs)\n",
    "\n",
    "prompt = ChatPromptTemplate.from_template(\"\"\"\n",
    "You are an assistant for question-answering tasks. \n",
    "Use the following pieces of retrieved context to answer the question.\n",
    "If the user asks for a simple answer, summarize the key points.\n",
    "If the question is unrelated to the context in the regulations, respond with \"관련 정보를 찾을 수 없습니다.\"\n",
    "You must answer in Korean.\n",
    "\n",
    "#Context: \n",
    "{context}\n",
    "\n",
    "#Question:\n",
    "{question}\n",
    "\n",
    "#Answer:\n",
    "\"\"\")\n",
    "\n",
    "rag_chain = (\n",
    "    {'context': compression_reranker | format_docs, 'question': RunnablePassthrough()}\n",
    "    | prompt\n",
    "    | llm\n",
    "    | StrOutputParser()\n",
    ")"
   ]
  },
  {
   "cell_type": "code",
   "execution_count": null,
   "id": "83e1df72",
   "metadata": {},
   "outputs": [
    {
     "name": "stdout",
     "output_type": "stream",
     "text": [
      "관련 정보를 찾을 수 없습니다.\n"
     ]
    }
   ],
   "source": [
    "question = \"교수가 미국으로 4일 출장을 다녀오면 받을 수 있는 숙박비는?\"\n",
    "result = rag_chain.invoke(question)\n",
    "print(result)"
   ]
  }
 ],
 "metadata": {
  "kernelspec": {
   "display_name": "myRAG",
   "language": "python",
   "name": "python3"
  },
  "language_info": {
   "codemirror_mode": {
    "name": "ipython",
    "version": 3
   },
   "file_extension": ".py",
   "mimetype": "text/x-python",
   "name": "python",
   "nbconvert_exporter": "python",
   "pygments_lexer": "ipython3",
   "version": "3.13.4"
  }
 },
 "nbformat": 4,
 "nbformat_minor": 5
}
