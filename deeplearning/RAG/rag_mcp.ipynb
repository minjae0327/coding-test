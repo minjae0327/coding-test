{
 "cells": [
  {
   "cell_type": "code",
   "execution_count": 1,
   "id": "492cd623",
   "metadata": {},
   "outputs": [],
   "source": [
    "from RAG.my_rag import RAGRetriever, RAGGenerator"
   ]
  },
  {
   "cell_type": "code",
   "execution_count": 9,
   "id": "31a3b0af",
   "metadata": {},
   "outputs": [],
   "source": [
    "# 설정값 정의\n",
    "INPUT_PDF_PATH = \"datasets/여비산정기준표.pdf\"\n",
    "EMBEDDING_MODEL = \"dragonkue/BGE-m3-ko\"\n",
    "RERANKER_MODEL = \"BAAI/bge-reranker-v2-m3\"\n",
    "TOKENIZER_MODEL = 'BAAI/bge-m3'\n",
    "    \n",
    "LLM_MODEL = {\n",
    "    0:\"gemma3:4b\",\n",
    "    1:\"OpenAI\",\n",
    "    2:\"llama3.2:3b\",\n",
    "    3:\"deepseek-r1:1.5b\"\n",
    "}"
   ]
  },
  {
   "cell_type": "code",
   "execution_count": null,
   "id": "be7aff67",
   "metadata": {},
   "outputs": [
    {
     "name": "stdout",
     "output_type": "stream",
     "text": [
      "1. Docling으로 PDF 문서 처리를 시작합니다...\n",
      "3. 텍스트와 테이블을 LangChain 문서 형식으로 변환합니다...\n"
     ]
    },
    {
     "name": "stderr",
     "output_type": "stream",
     "text": [
      "CropBox missing from /Page, defaulting to MediaBox\n"
     ]
    },
    {
     "name": "stdout",
     "output_type": "stream",
     "text": [
      "2. pdfplumber로 테이블을 추출합니다...\n"
     ]
    },
    {
     "name": "stderr",
     "output_type": "stream",
     "text": [
      "CropBox missing from /Page, defaulting to MediaBox\n",
      "c:\\Users\\minja\\GitHub\\coding-test\\딥러닝\\my_rag.py:121: LangChainDeprecationWarning: The class `HuggingFaceEmbeddings` was deprecated in LangChain 0.2.2 and will be removed in 1.0. An updated version of the class exists in the :class:`~langchain-huggingface package and should be used instead. To use it run `pip install -U :class:`~langchain-huggingface` and import as `from :class:`~langchain_huggingface import HuggingFaceEmbeddings``.\n",
      "  self.embedding_model = HuggingFaceEmbeddings(\n"
     ]
    },
    {
     "name": "stdout",
     "output_type": "stream",
     "text": [
      "총 8개의 문서(청크)를 생성했습니다.\n",
      "4. 임베딩 모델(dragonkue/BGE-m3-ko)을 로드합니다...\n",
      "5. FAISS 벡터 저장소를 구축합니다...\n",
      "6. Reranker(BAAI/bge-reranker-v2-m3)를 설정합니다...\n",
      "Retriever 설정이 완료되었습니다.\n"
     ]
    }
   ],
   "source": [
    "# 1. Retriever 생성 및 설정\n",
    "retriever_handler = RAGRetriever(\n",
    "    pdf_path=INPUT_PDF_PATH,\n",
    "    embedding_model=EMBEDDING_MODEL,\n",
    "    reranker_model=RERANKER_MODEL,\n",
    "    tokenizer=TOKENIZER_MODEL\n",
    ")\n",
    "retriever_handler.setup()\n",
    "\n",
    "# 2. Generator 생성\n",
    "#    - 설정된 retriever를 retriever_handler로부터 가져와서 전달합니다.\n",
    "generator = RAGGenerator(\n",
    "    retriever=retriever_handler.get_retriever(),\n",
    "    llm_model_name=LLM_MODEL[0]\n",
    ")"
   ]
  },
  {
   "cell_type": "code",
   "execution_count": 8,
   "id": "5e18b011",
   "metadata": {},
   "outputs": [
    {
     "name": "stdout",
     "output_type": "stream",
     "text": [
      "\n",
      "질문을 처리 중입니다...\n",
      "\n",
      "--- 최종 답변 ---\n",
      "관련 정보를 찾을 수 없습니다.\n"
     ]
    }
   ],
   "source": [
    "# 3. 질문하고 답변 받기\n",
    "question = \"교수가 미국으로 4일 출장을 다녀오면 받을 수 있는 숙박비는?\"\n",
    "result = generator.answer_question(question)\n",
    "\n",
    "print(\"\\n--- 최종 답변 ---\")\n",
    "print(result)"
   ]
  }
 ],
 "metadata": {
  "kernelspec": {
   "display_name": "rag",
   "language": "python",
   "name": "python3"
  },
  "language_info": {
   "codemirror_mode": {
    "name": "ipython",
    "version": 3
   },
   "file_extension": ".py",
   "mimetype": "text/x-python",
   "name": "python",
   "nbconvert_exporter": "python",
   "pygments_lexer": "ipython3",
   "version": "3.9.23"
  }
 },
 "nbformat": 4,
 "nbformat_minor": 5
}
