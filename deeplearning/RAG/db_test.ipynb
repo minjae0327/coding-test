{
 "cells": [
  {
   "cell_type": "code",
   "execution_count": null,
   "id": "23173223",
   "metadata": {},
   "outputs": [
    {
     "name": "stdout",
     "output_type": "stream",
     "text": [
      "'rag' 데이터베이스가 준비되었습니다.\n",
      "\n",
      "===== 모든 테이블의 데이터 삭제를 시작합니다... =====\n",
      "외래 키 제약 조건을 임시로 비활성화합니다.\n",
      " -> 'documents' 테이블의 데이터를 삭제합니다.\n",
      " -> 'qna_logs' 테이블의 데이터를 삭제합니다.\n",
      " -> 'sessions' 테이블의 데이터를 삭제합니다.\n",
      " -> 'users' 테이블의 데이터를 삭제합니다.\n",
      "\n",
      "모든 테이블의 데이터가 성공적으로 삭제되었습니다.\n",
      "외래 키 제약 조건을 다시 활성화합니다.\n",
      "===== 데이터 삭제 작업 완료 =====\n"
     ]
    }
   ],
   "source": [
    "from database_manager import DatabaseManager\n",
    "\n",
    "dm = DatabaseManager()\n",
    "\n",
    "# dm.clear_all_data_from_tables()\n",
    "# dm.drop_table(\"QnA_Logs\")\n",
    "# dm.drop_table(\"Document_Chunks\")\n",
    "# dm.drop_table(\"Sessions\")\n",
    "# dm.drop_table(\"Documents\")\n",
    "# dm.drop_table(\"Users\")\n",
    "# dm.setup_tables()\n",
    "# dm.execute_query(\"ALTER TABLE Sessions ADD COLUMN vector_store_path VARCHAR(512);\")\n",
    "# dm.check_all_tables_data()\n",
    "# dm.clear_all_data_from_tables()"
   ]
  },
  {
   "cell_type": "code",
   "execution_count": null,
   "id": "91ece6e7",
   "metadata": {},
   "outputs": [],
   "source": []
  }
 ],
 "metadata": {
  "kernelspec": {
   "display_name": "rag",
   "language": "python",
   "name": "python3"
  },
  "language_info": {
   "codemirror_mode": {
    "name": "ipython",
    "version": 3
   },
   "file_extension": ".py",
   "mimetype": "text/x-python",
   "name": "python",
   "nbconvert_exporter": "python",
   "pygments_lexer": "ipython3",
   "version": "3.9.23"
  }
 },
 "nbformat": 4,
 "nbformat_minor": 5
}
