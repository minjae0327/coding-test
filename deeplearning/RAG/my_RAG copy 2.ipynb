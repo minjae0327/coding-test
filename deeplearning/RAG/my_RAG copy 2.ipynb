{
 "cells": [
  {
   "cell_type": "code",
   "execution_count": 1,
   "id": "b2f51608",
   "metadata": {},
   "outputs": [],
   "source": [
    "from langchain.text_splitter import MarkdownTextSplitter\n",
    "from langchain_community.embeddings import HuggingFaceEmbeddings\n",
    "\n",
    "from langchain_core.prompts import ChatPromptTemplate\n",
    "from langchain_core.runnables import RunnablePassthrough\n",
    "from langchain_core.output_parsers import StrOutputParser\n",
    "from langchain_core.documents import Document\n",
    "\n",
    "from langchain_community.vectorstores import FAISS\n",
    "from langchain_openai import ChatOpenAI, OpenAIEmbeddings"
   ]
  },
  {
   "cell_type": "markdown",
   "id": "1040ce28",
   "metadata": {},
   "source": [
    "1. 데이터 로드\n",
    "2. 텍스트 분할\n",
    "3. 인덱싱(임베딩 후 인덱싱)\n",
    "4. 검색(retrieval)"
   ]
  },
  {
   "cell_type": "code",
   "execution_count": 2,
   "id": "199cfd15",
   "metadata": {},
   "outputs": [
    {
     "data": {
      "text/plain": [
       "device(type='cpu')"
      ]
     },
     "execution_count": 2,
     "metadata": {},
     "output_type": "execute_result"
    }
   ],
   "source": [
    "import torch\n",
    "\n",
    "# device = torch.device(\"cuda\" if torch.cuda.is_available() else \"cpu\")\n",
    "device = torch.device(\"cuda\" if torch.backends.mps.is_available() else \"cpu\")\n",
    "device"
   ]
  },
  {
   "cell_type": "code",
   "execution_count": 3,
   "id": "dbbc7195",
   "metadata": {},
   "outputs": [],
   "source": [
    "input_pdf = \"datasets/manual.pdf\"\n",
    "\n",
    "# input_pdf = \"datasets/여비산정기준표.pdf\"\n",
    "preprocessed_file = \"datasets/ocr_output.pdf\"\n",
    "result_file = \"datasets/ocr_output_result.pdf\","
   ]
  },
  {
   "cell_type": "code",
   "execution_count": 4,
   "id": "17bff288",
   "metadata": {},
   "outputs": [
    {
     "name": "stdout",
     "output_type": "stream",
     "text": [
      "## Ⅴ   사업비 집행 및 정산지침\n",
      "\n",
      "## 1 사업비 지급 및 집행기간\n",
      "\n",
      "<!-- image -->\n",
      "\n",
      "## □ 사업비 지급\n",
      "\n",
      "| 1~2분기      | 1~2분기   | 1~2분기                 | 1~2분기   | 3~4분기                 | 3~4분기   | 3~4분기      | 3~4분기   |\n",
      "|--------------|-----------|-------------------------|-----------|-------------------------|-----------|--------------|-----------|\n",
      "| 1회차        | 1회차     | 2회차                   | 2회차     | 3회차                   | 3회차     | 4회차        | 4회차     |\n",
      "| 신청 시기    | 지급 비율 | 신청 시기               | 지급 비율 | 신청 시기               | 지급 비율 | 신청 시기    | 지급 비율 |\n",
      "| 협약 체결 시 | 20%       | 협약 체결 후 2개월 이내 | 46%       | 중간 평가 후 1개월 이내 | 9%        | 4분기 (10월) | 25%       |\n",
      "\n",
      "※ 지급비율은 변동될 수 있으며, 중간평가 결과에 따라 3회차부터 지급을 유예할 수 있음\n",
      "\n",
      "## □ 사업비 집행기간\n",
      "\n",
      "- ○ '24. 1. 1. ~ '24. 12. 31. ※  동  기간  이외의 사용금액은 불인정 금액으로 간주하고 전액 반납해야 함 ※  단,  집행기간  연장에 대해서 사전 승인을 받을 시에는 그 기한까지는 인정\n",
      "\n",
      "## 2 사업비 계좌관리 및 사용원칙\n",
      "\n",
      "## □ 사업비 계좌관리\n",
      "\n",
      "- ○ ( 별도 계좌개설 필수 ) 각 지원 대상자는 당해 랩 운영지원금과 민간부담금을 관리하는 통장법인명의을 주관 참여기관 별로 각각 ( ) · 개설하고 해당 계좌와 연계된 연구비카드 , (KCA) 만 개설하여 사용\n",
      "\n",
      "## □ 사업비 사용원칙\n",
      "\n",
      "- ○ 총사업비는 당초 제시했던 사업계획에 따른 집행을 원칙으로 함\n",
      "- ○ 원천징수 신고납부 대상인 인건비성 수당의 경우 소득세 등을 , 원천징수하고 나머지 차액을 수령인의 계좌에 송금하여야 하며 , 원천징수한 소득세 등은 제작비로 인정함원천징수지급조서 작성 첨부 ( )\n",
      "\n",
      "- ○ 부가가치세 관세 등 사후 환급이나 공제받을 수 있는 금액은 집행금액에서 , 제외함을 원칙으로 하되 사후 환급이 불가능한 경우에는 예외로 함 ,\n",
      "- ○ 보조금의 적정한 사용을 위하여 프로젝트와 관련 없는 집행과 제한 업종 가맹점 등에서는 전용 사업비 카드를 사용할 수 없음\n",
      "- ○ 선정 랩의 임직원 직계존비속을 포함 ( ) 등이 운영하는 업체 또는 단체 계열 관계에 있는 업체 또는 단체와는 거래할 수 없음 ※  컨소시엄 간 계약 불가\n",
      "- ○ 보조금이 투명하고 효율적인 집행을 위하여 수요물자 구매나 시설공사계약을 체결할 때 아래의 금액에 한하여 조달청나라장터 등을 이용해야 함 ( )\n",
      "- -2 천만원을 초과하는 물품 및 용역 구매\n",
      "- -2 억원을 초과하는 시설공사 계약\n",
      "- ○ 모든 증빙서류는 사업기간 종료 후  년간 보관해야 하며 협회가 5 , 요구할시 즉시 응하여야 함\n",
      "- ○ 정부지원금은 콘텐츠 제작 관련 이외의 용도로 사용할 수 없음\n",
      "\n",
      "## &lt; 정부지원금 사용 불가항목 &gt;\n",
      "\n",
      "| o 유류비 사용                            | o 유흥업소 등에서의 사용금액         |\n",
      "|------------------------------------------|--------------------------------------|\n",
      "| o 자가시설 이용료, 감가상각비            | o 사업과 관련 없는 자체보유 저작권료 |\n",
      "| o 관세, 부가세 등 환급이나 공제받는 금액 | o 술/담배 등의 기호상품에 대한 사용  |\n",
      "| o 본 사업의 목적과 관련 없는 공간 임차료 | o 이외 ICT사업 비목별 불인정 기준    |\n",
      "\n",
      "※  주관기관,  참여기관 사업비 편성 시 여비는 각 기관별로 산출하여 편성해야 함\n",
      "\n",
      "- ○ 모든 지출은 지출 원인행위 및 지출결과에 대해 증빙할 수 있는 증빙서류가 구비 되어야 하며 지출목적이 합당한 경우에만 인정함 , ※  [붙임]  ICT사업  사업비 산정 및 정산 등에 관한 기준 및 세부내용 참조\n",
      "\n",
      "## □ 인건비 편성\n",
      "\n",
      "- ○ 아래 랩 참여인력별 등급 및 월 임금기준에 따라 참여인력 인건비 지원\n",
      "- -참여인력 중 대학 및 대학원 교수 직위자들은 인건비 지급을 불인정하고 그 외 참여인력에 대해서는 100% 까지 인정\n",
      "\n",
      "## 예)  1)  교수 직위자\n",
      "\n",
      "- ※  지원대학(기업) 교수 직위자의 인건비는 불인정\n",
      "- 2)  그  외  참여  인력(박사과정의 경우)\n",
      "- ※  월  임금  3,000,000원  기준  :  과제 참여율 50%(1,500,000원)로 편성할 경우, 편성된 참여율의 100%(1,500,000원)까지 인정\n",
      "\n",
      "## &lt; 랩 참여인력별 등급 및 월 임금기준* &gt;\n",
      "\n",
      "| 등 급        | 월 임금 (100%참여율 기준)   | 자 격 기 준                                                                                                          |\n",
      "|--------------|-----------------------------|----------------------------------------------------------------------------------------------------------------------|\n",
      "| 박사후연구원 | 소속기관 인건비 지급기준    | 콘텐츠 사업, R&D 등 역할을 수행하는 실무자로, 당해 연구분야에 대해 박사급 전문지식을 보유한 자, 박사 학위를 보유한자 |\n",
      "| 박사과정     | 월 3,000,000원 이상당해     | 콘텐츠 사업, R&D 등 역할을 수행하는 실무자로, 연구분야에 대해 박사급 전문지식을 보유한 자, 박사 대학원 과정인자      |\n",
      "| 석사과정     | 월2,200,000원 이상          | 콘텐츠 사업, R&D 등 역할을 수행하는 실무자로, 당해 연구분야에 대해 석사급 전문지식을 보유한 자, 석사 대학원 과정인자 |\n",
      "| 학사과정     | 월1,300,000원 이상          | 콘텐츠 사업 및 R&D 수행하는 자로써 학사과정인자, 회계, 정산, 예산 등 업무처리를 수행하는 자                          |\n",
      "\n",
      "- ※  통합과정의 경우 학사, 석사, 박사과정의 기준을 고려하여 소속기관의 장이 별도로 정한 금액으로 월 임금 기준 편성\n",
      "\n",
      "※  본 인건비 기준단가는 참여율 100%로 산정한 것이며, 참여율을 달리하는 경우 증감하여 적용 *  국가연구개발사업 연구개발비 사용기준 제 40조(정부출연기관 학생인건비 사용기준) 준용\n"
     ]
    }
   ],
   "source": [
    "from docling.document_converter import DocumentConverter, PdfFormatOption\n",
    "from docling.datamodel.base_models import InputFormat\n",
    "from docling.datamodel.pipeline_options import PdfPipelineOptions, TableFormerMode\n",
    "\n",
    "pipeline_options = PdfPipelineOptions(\n",
    "    do_table_structure = True,\n",
    "    do_text_extraction=True,\n",
    ")\n",
    "pipeline_options.table_structure_options.mode = TableFormerMode.ACCURATE\n",
    "\n",
    "doc_converter = DocumentConverter(\n",
    "    format_options={\n",
    "        InputFormat.PDF: PdfFormatOption(pipeline_options=pipeline_options)\n",
    "    }\n",
    ")\n",
    "\n",
    "doc = doc_converter.convert(input_pdf)\n",
    "\n",
    "markdown_text = doc.document.export_to_markdown()\n",
    "print(markdown_text)\n",
    "#읽지 못하는 텍스트와 사진 처리방법 고민"
   ]
  },
  {
   "cell_type": "code",
   "execution_count": 5,
   "id": "4c051002",
   "metadata": {},
   "outputs": [],
   "source": [
    "import pdfplumber\n",
    "import pandas as pd\n",
    "\n",
    "def table_chunker(pdf_path: str):\n",
    "    chunks = []\n",
    "    with pdfplumber.open(pdf_path) as pdf:\n",
    "        for page in pdf.pages:\n",
    "            tables = page.extract_tables()\n",
    "            for table in tables:\n",
    "                # table: 2D 리스트 (헤더 포함)\n",
    "                try:\n",
    "                    df = pd.DataFrame(table[1:], columns=table[0])\n",
    "                except:\n",
    "                    df = pd.DataFrame(table)\n",
    "                md_table = df.to_markdown(index=False)\n",
    "                chunks.append({\n",
    "                    \"text\": md_table,\n",
    "                    \"metadata\": {\n",
    "                        \"type\": \"table\",\n",
    "                        \"page\": page.page_number\n",
    "                    }\n",
    "                })\n",
    "    return chunks\n",
    "\n",
    "# 사용 예시\n",
    "table_chunks = table_chunker(input_pdf)"
   ]
  },
  {
   "cell_type": "code",
   "execution_count": 6,
   "id": "851f6e30",
   "metadata": {},
   "outputs": [],
   "source": [
    "from docling.chunking import HybridChunker\n",
    "\n",
    "chunker = HybridChunker(\n",
    "    tokenizer='BAAI/bge-m3',\n",
    "    max_token_length=512,\n",
    "    overlap=100\n",
    ")\n",
    "\n",
    "chunks = list(chunker.chunk(doc.document))\n",
    "\n",
    "# chunks는 청커로 생성된 문서 조각들\n",
    "# documents = [Document(page_content=chunk.text, metadata={\"source\": chunk.meta}) for chunk in chunks]"
   ]
  },
  {
   "cell_type": "code",
   "execution_count": 7,
   "id": "faf10664",
   "metadata": {},
   "outputs": [],
   "source": [
    "text_documents = []\n",
    "for chunk in chunks:\n",
    "    text = chunk.text\n",
    "\n",
    "    source = input_pdf\n",
    "\n",
    "    # page_no를 추출 (여러 Prov 아이템 중 첫 번째의 page_no를 사용하거나, set으로 처리)\n",
    "    page_nos = sorted(\n",
    "        set(\n",
    "            prov.page_no\n",
    "            for item in chunk.meta.doc_items\n",
    "            for prov in item.prov\n",
    "            if hasattr(prov, \"page_no\")\n",
    "        )\n",
    "    ) if hasattr(chunk.meta, \"doc_items\") else []\n",
    "\n",
    "    # 가장 근접한 헤딩(섹션 이름) 추출 (예: 마지막 요소)\n",
    "    headings = chunk.meta.headings if hasattr(chunk.meta, \"headings\") else []\n",
    "    section = headings[-1] if headings else None\n",
    "\n",
    "    metadata = {\n",
    "        \"source\": source,\n",
    "        \"page_numbers\": page_nos,\n",
    "        \"section\": section\n",
    "    }\n",
    "    # (3) LangChain Document 생성\n",
    "    text_documents.append(Document(page_content=text, metadata=metadata))"
   ]
  },
  {
   "cell_type": "code",
   "execution_count": 8,
   "id": "56083af7",
   "metadata": {},
   "outputs": [],
   "source": [
    "# table_chunks를 Document 형식으로 변환\n",
    "table_documents = [\n",
    "    Document(\n",
    "        page_content=chunk[\"text\"],\n",
    "        metadata={\n",
    "            \"type\": \"table\",\n",
    "            \"page\": chunk[\"metadata\"][\"page\"],\n",
    "            \"source\": input_pdf\n",
    "        }\n",
    "    ) for chunk in table_chunks\n",
    "]\n",
    "\n",
    "# 두 Document 리스트 합치기\n",
    "all_documents = table_documents + text_documents"
   ]
  },
  {
   "cell_type": "code",
   "execution_count": 9,
   "id": "ae8acf02",
   "metadata": {},
   "outputs": [
    {
     "name": "stderr",
     "output_type": "stream",
     "text": [
      "/var/folders/f1/c1mlzgw562581ych5vk1w4tr0000gn/T/ipykernel_46901/3791966284.py:1: LangChainDeprecationWarning: The class `HuggingFaceEmbeddings` was deprecated in LangChain 0.2.2 and will be removed in 1.0. An updated version of the class exists in the :class:`~langchain-huggingface package and should be used instead. To use it run `pip install -U :class:`~langchain-huggingface` and import as `from :class:`~langchain_huggingface import HuggingFaceEmbeddings``.\n",
      "  embedding_model = HuggingFaceEmbeddings(\n"
     ]
    }
   ],
   "source": [
    "embedding_model = HuggingFaceEmbeddings(\n",
    "    model_name=\"dragonkue/BGE-m3-ko\",\n",
    "    model_kwargs={'device': device},\n",
    "    encode_kwargs={'normalize_embeddings': True},\n",
    ")\n",
    "\n",
    "vectorstore = FAISS.from_documents(\n",
    "    documents=all_documents,\n",
    "    embedding=embedding_model\n",
    ")\n",
    "\n",
    "retriever = vectorstore.as_retriever()"
   ]
  },
  {
   "cell_type": "code",
   "execution_count": 10,
   "id": "71caadfd",
   "metadata": {},
   "outputs": [],
   "source": [
    "from langchain.retrievers import ContextualCompressionRetriever\n",
    "from langchain.retrievers.document_compressors import CrossEncoderReranker\n",
    "from langchain_community.cross_encoders import HuggingFaceCrossEncoder\n",
    "\n",
    "# 모델 초기화\n",
    "model = HuggingFaceCrossEncoder(model_name=\"BAAI/bge-reranker-v2-m3\")\n",
    "\n",
    "compressor = CrossEncoderReranker(model=model, top_n=8)\n",
    "\n",
    "# 문서 압축 검색기 초기화\n",
    "compression_reranker = ContextualCompressionRetriever(\n",
    "    base_compressor=compressor, base_retriever=retriever\n",
    ")"
   ]
  },
  {
   "cell_type": "code",
   "execution_count": 12,
   "id": "ea8afd3e",
   "metadata": {},
   "outputs": [],
   "source": [
    "from langchain_ollama import OllamaLLM\n",
    "\n",
    "# llm = OllamaLLM(model=\"llama3.2:3b\")\n",
    "# llm = OllamaLLM(model=\"deepseek-r1:1.5b\")\n",
    "llm = OllamaLLM(model=\"gemma3:4b\")\n",
    "# llm = ChatOpenAI(model_name = \"gpt-4o-mini\", temperature=0)\n",
    "\n",
    "def format_docs(docs):\n",
    "    return '\\n\\n'.join(doc.page_content for doc in docs)\n",
    "\n",
    "prompt = ChatPromptTemplate.from_template(\"\"\"\n",
    "You are an assistant for question-answering tasks. \n",
    "Use the following pieces of retrieved context to answer the question.\n",
    "If the user asks for a simple answer, summarize the key points.\n",
    "If the question is unrelated to the context in the regulations, respond with \"관련 정보를 찾을 수 없습니다.\"\n",
    "You must answer in Korean.\n",
    "\n",
    "#Context: \n",
    "{context}\n",
    "\n",
    "#Question:\n",
    "{question}\n",
    "\n",
    "#Answer:\n",
    "\"\"\")\n",
    "\n",
    "rag_chain = (\n",
    "    {'context': compression_reranker | format_docs, 'question': RunnablePassthrough()}\n",
    "    | prompt\n",
    "    | llm\n",
    "    | StrOutputParser()\n",
    ")"
   ]
  },
  {
   "cell_type": "code",
   "execution_count": 13,
   "id": "83e1df72",
   "metadata": {},
   "outputs": [
    {
     "name": "stdout",
     "output_type": "stream",
     "text": [
      "교수가 미국으로 4일 출장을 다녀오면 숙박비는 $35(1일당) x 4일 = $140를 선지급받을 수 있습니다.\n"
     ]
    }
   ],
   "source": [
    "question = \"교수가 미국으로 4일 출장을 다녀오면 받을 수 있는 숙박비는?\"\n",
    "result = rag_chain.invoke(question)\n",
    "print(result)"
   ]
  },
  {
   "cell_type": "code",
   "execution_count": null,
   "id": "73e76a94",
   "metadata": {},
   "outputs": [],
   "source": [
    "# 출처 기능까지 지원하는지?\n",
    "\n",
    "# restapi"
   ]
  }
 ],
 "metadata": {
  "kernelspec": {
   "display_name": "rag",
   "language": "python",
   "name": "python3"
  },
  "language_info": {
   "codemirror_mode": {
    "name": "ipython",
    "version": 3
   },
   "file_extension": ".py",
   "mimetype": "text/x-python",
   "name": "python",
   "nbconvert_exporter": "python",
   "pygments_lexer": "ipython3",
   "version": "3.9.23"
  }
 },
 "nbformat": 4,
 "nbformat_minor": 5
}
