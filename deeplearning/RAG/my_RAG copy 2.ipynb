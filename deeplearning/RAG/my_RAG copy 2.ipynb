{
 "cells": [
  {
   "cell_type": "code",
   "execution_count": 1,
   "id": "b2f51608",
   "metadata": {},
   "outputs": [],
   "source": [
    "from langchain.text_splitter import MarkdownTextSplitter\n",
    "from langchain_community.embeddings import HuggingFaceEmbeddings\n",
    "\n",
    "from langchain_core.prompts import ChatPromptTemplate\n",
    "from langchain_core.runnables import RunnablePassthrough\n",
    "from langchain_core.output_parsers import StrOutputParser\n",
    "from langchain_core.documents import Document\n",
    "\n",
    "from langchain_community.vectorstores import FAISS\n",
    "from langchain_openai import ChatOpenAI, OpenAIEmbeddings"
   ]
  },
  {
   "cell_type": "markdown",
   "id": "1040ce28",
   "metadata": {},
   "source": [
    "1. 데이터 로드\n",
    "2. 텍스트 분할\n",
    "3. 인덱싱(임베딩 후 인덱싱)\n",
    "4. 검색(retrieval)"
   ]
  },
  {
   "cell_type": "code",
   "execution_count": 2,
   "id": "199cfd15",
   "metadata": {},
   "outputs": [
    {
     "data": {
      "text/plain": [
       "device(type='cpu')"
      ]
     },
     "execution_count": 2,
     "metadata": {},
     "output_type": "execute_result"
    }
   ],
   "source": [
    "import torch\n",
    "\n",
    "# device = torch.device(\"cuda\" if torch.cuda.is_available() else \"cpu\")\n",
    "device = torch.device(\"mps\" if torch.backends.mps.is_available() else \"cpu\")\n",
    "device"
   ]
  },
  {
   "cell_type": "code",
   "execution_count": null,
   "id": "dbbc7195",
   "metadata": {},
   "outputs": [],
   "source": [
    "input_pdf = \"datasets/manual.pdf\"\n",
    "\n",
    "# input_pdf = \"datasets/여비산정기준표.pdf\"\n",
    "preprocessed_file = \"datasets/ocr_output.pdf\"\n",
    "result_file = \"datasets/ocr_output_result.pdf\","
   ]
  },
  {
   "cell_type": "code",
   "execution_count": 4,
   "id": "17bff288",
   "metadata": {},
   "outputs": [
    {
     "name": "stderr",
     "output_type": "stream",
     "text": [
      "/opt/miniconda3/envs/rag/lib/python3.9/site-packages/tqdm/auto.py:21: TqdmWarning: IProgress not found. Please update jupyter and ipywidgets. See https://ipywidgets.readthedocs.io/en/stable/user_install.html\n",
      "  from .autonotebook import tqdm as notebook_tqdm\n"
     ]
    },
    {
     "name": "stdout",
     "output_type": "stream",
     "text": [
      "## 국내여비 지급기준(일부 발췌)\n",
      "\n",
      "| 구 분                                    | 운         | 운         | 임    | 임     | 일 비 (1일당)   | 숙박비 (1야당)   | 식 비 (1일당)   |\n",
      "|------------------------------------------|------------|------------|-------|--------|-----------------|------------------|-----------------|\n",
      "| 구 분                                    | 철 도      | 선 박      | 항 공 | 자동차 | 일 비 (1일당)   | 숙박비 (1야당)   | 식 비 (1일당)   |\n",
      "| 교 수 부 교 수 5급(부참사) 이상 사무직원 | KTX (특실) | 2 등 정 액 | 〃    | 〃     | ￦30,000        | ￦100,000        | ￦40,000        |\n",
      "| 조 교 수 전 임 강 사 일 반 직 원         | KTX (보통) | 〃         | 〃    | 〃     | ￦30,000        | ￦100,000        | ￦40,000        |\n",
      "| 조 교 사무보조원 일 용 직                | KTX (보통) | 〃         | 〃    | 〃     | ￦20,000        | ￦80,000         | ￦30,000        |\n",
      "\n",
      "- 1. 고속철도 운행구간이 아닌 경우에는 새마을호 요금을 적용한다\n",
      "- 2. KTX 및 철도를 이용할 수 없는 경우에는 고속버스(우등) 요금을 적용한다.\n",
      "- 3. 운임 등이 할인되는 경우 할인요금을 지급한다.\n",
      "- 4. 도서 및 벽지의 경우에는 실비 기준으로 지급할 수 있다.\n",
      "- 5. 자가용 승용차를 이용하여 공무 및 연구활동을 수행하는 경우의 운임은 철도운임 또는 버스 운임으로 한다. 다만, 공무의 형편상 부득이한 사유로 자가용 승용차를 이용한 경우에는 연료 비 및 통행료 등을 지급할 수 있고 구체적인 지급기준은 별도로 정한다.\n",
      "- 6. 워크숍, 세미나, 학회 등에 참석하기 위해 출장을 가는 경우 해당 주관기관에서 시행한 공 문 등에서 별표의 금액을 초과하는 숙박비 금액을 명시하거나 숙박기관을 지정한 때에는 그 금 액을 선지급하고 주관기관에서 시행한 참석확인 공문 또는 증빙서류 등을 제출한다 .\n",
      "\n",
      "## 공무형편상 부득이한 사유\n",
      "\n",
      "- ○ 산간오지, 도서벽지 등 대중교통수단이 없어 자가용을 이용할 수 밖에 없는 경우\n",
      "- ○ 출장경로가 매우 복잡다양하여 대중교통을 사실상 이용할 수 없는 경우 ․\n",
      "- ○ 공무목적상 부득이한 심야시간대 이동 또는 긴급한 사유가 있는 경우\n",
      "- ○ 하중이 무거운 수하물을 운송해야 하는 경우 등\n",
      "- ※ 근거리 지역구분\n",
      "\n",
      "| 현행 지역 구분    | 세부 지역 구분                                                          | 교통비(원)   |\n",
      "|-------------------|-------------------------------------------------------------------------|--------------|\n",
      "| 인천시내          | 강화군, 옹진군 및 도서지역 제외한 인천시내                              | 10,000       |\n",
      "| 서울,안양,과천 외 | 서울,안양,과천,군포,의왕,안산,시흥,광명,부천,김포 外                    | 20,000       |\n",
      "| 수원,분당,일산 외 | 수원,분당,일산,강화,영종도,화성 外(인천,서울 지역을 제외한 수도권 일원) | 25,000       |\n",
      "\n",
      "## 해외여비 지급기준(일부 발췌)\n",
      "\n",
      "|                                                              |    |                 | 재 비         | 재 비             | 재 비         |                                                                                              |\n",
      "|--------------------------------------------------------------|----|-----------------|---------------|-------------------|---------------|----------------------------------------------------------------------------------------------|\n",
      "| 구                                                           | 분 | 교 통 비        | 일 비 (1일당) | 체 숙박비 (1야당) | 식 비 (1일당) | 비 고                                                                                        |\n",
      "| 교 수 부 교 수 부참여(3급) 이 상 조 교 수 전임강사 참사(4급) | 가 | 항공임 2등 운임 | 실비          | $35 $220          | $110          | 가 : 동경,뉴욕, 런던 파리,홍콩, LA, 모스크바,샌프란 시스코, 워싱턴 나 : '가'지역을 외한 지역 |\n",
      "| 교 수 부 교 수 부참여(3급) 이 상 조 교 수 전임강사 참사(4급) | 나 | 〃              | 〃            | $35               | $160 $80      | 가 : 동경,뉴욕, 런던 파리,홍콩, LA, 모스크바,샌프란 시스코, 워싱턴 나 : '가'지역을 외한 지역 |\n",
      "| 이 하                                                        | 가 | 항공임 3등      | 운임 실비     | $30               | $200 $85      | 가 : 동경,뉴욕, 런던 파리,홍콩, LA, 모스크바,샌프란 시스코, 워싱턴 나 : '가'지역을 외한 지역 |\n",
      "| 이 하                                                        | 나 | 〃              | 〃            | $30               | $150 $60      | 가 : 동경,뉴욕, 런던 파리,홍콩, LA, 모스크바,샌프란 시스코, 워싱턴 나 : '가'지역을 외한 지역 |\n",
      "\n",
      "- 1. 같은 곳에 장기간 체재하는 경우의 일비 및 숙박비는 [---중략---] 감하여 지급한다.\n",
      "- 2. 예산절감을 위해 필요한 경우 총장은 항공운임에 대해 별도의 기준을 정할수 있다.\n",
      "- 3. '나'지역의 경우 공무의 형편이나 그 밖의 부득이한 사유로 상한액을 초과하여 숙박비를 지출하였을 때에는 '가'지역의 한도내에서 추가로 지급할 수 있다. 숙박비를 추가로 지급받 기 위해서는 영수증 및 세부사용 내역이 명시된 증빙을 갖추어 정산을 신청하여야 한다.\n",
      "- 4. 워크숍, 세미나, 학회 등에 참석하기 위해 출장을 가는 경우 해당 주관기관에서 시행한 공문 등에서 별표의 금액을 초과하는 숙박비 금액을 명시하거나 숙박기관을 지정한 때에는 그 금액 을 선지급하고 주관기관에서 시행한 참석확인 공문 또는 증빙서류 등을 제출한다.\n"
     ]
    }
   ],
   "source": [
    "from docling.document_converter import DocumentConverter, PdfFormatOption\n",
    "from docling.datamodel.base_models import InputFormat\n",
    "from docling.datamodel.pipeline_options import PdfPipelineOptions, TableFormerMode\n",
    "\n",
    "pipeline_options = PdfPipelineOptions(\n",
    "    do_table_structure = True,\n",
    "    do_text_extraction=True,\n",
    ")\n",
    "pipeline_options.table_structure_options.mode = TableFormerMode.ACCURATE\n",
    "\n",
    "doc_converter = DocumentConverter(\n",
    "    format_options={\n",
    "        InputFormat.PDF: PdfFormatOption(pipeline_options=pipeline_options)\n",
    "    }\n",
    ")\n",
    "\n",
    "doc = doc_converter.convert(input_pdf)\n",
    "\n",
    "markdown_text = doc.document.export_to_markdown()\n",
    "print(markdown_text)\n",
    "#읽지 못하는 텍스트와 사진 처리방법 고민"
   ]
  },
  {
   "cell_type": "code",
   "execution_count": 5,
   "id": "4c051002",
   "metadata": {},
   "outputs": [],
   "source": [
    "import pdfplumber\n",
    "import pandas as pd\n",
    "\n",
    "def table_chunker(pdf_path: str):\n",
    "    chunks = []\n",
    "    with pdfplumber.open(pdf_path) as pdf:\n",
    "        for page in pdf.pages:\n",
    "            tables = page.extract_tables()\n",
    "            for table in tables:\n",
    "                # table: 2D 리스트 (헤더 포함)\n",
    "                try:\n",
    "                    df = pd.DataFrame(table[1:], columns=table[0])\n",
    "                except:\n",
    "                    df = pd.DataFrame(table)\n",
    "                md_table = df.to_markdown(index=False)\n",
    "                chunks.append({\n",
    "                    \"text\": md_table,\n",
    "                    \"metadata\": {\n",
    "                        \"type\": \"table\",\n",
    "                        \"page\": page.page_number\n",
    "                    }\n",
    "                })\n",
    "    return chunks\n",
    "\n",
    "# 사용 예시\n",
    "table_chunks = table_chunker(input_pdf)"
   ]
  },
  {
   "cell_type": "code",
   "execution_count": 6,
   "id": "851f6e30",
   "metadata": {},
   "outputs": [],
   "source": [
    "from docling.chunking import HybridChunker\n",
    "\n",
    "chunker = HybridChunker(\n",
    "    tokenizer='BAAI/bge-m3',\n",
    "    max_token_length=512,\n",
    "    overlap=100\n",
    ")\n",
    "\n",
    "chunks = list(chunker.chunk(doc.document))\n",
    "\n",
    "# chunks는 청커로 생성된 문서 조각들\n",
    "# documents = [Document(page_content=chunk.text, metadata={\"source\": chunk.meta}) for chunk in chunks]"
   ]
  },
  {
   "cell_type": "code",
   "execution_count": 7,
   "id": "faf10664",
   "metadata": {},
   "outputs": [],
   "source": [
    "text_documents = []\n",
    "for chunk in chunks:\n",
    "    text = chunk.text\n",
    "\n",
    "    source = input_pdf\n",
    "\n",
    "    # page_no를 추출 (여러 Prov 아이템 중 첫 번째의 page_no를 사용하거나, set으로 처리)\n",
    "    page_nos = sorted(\n",
    "        set(\n",
    "            prov.page_no\n",
    "            for item in chunk.meta.doc_items\n",
    "            for prov in item.prov\n",
    "            if hasattr(prov, \"page_no\")\n",
    "        )\n",
    "    ) if hasattr(chunk.meta, \"doc_items\") else []\n",
    "\n",
    "    # 가장 근접한 헤딩(섹션 이름) 추출 (예: 마지막 요소)\n",
    "    headings = chunk.meta.headings if hasattr(chunk.meta, \"headings\") else []\n",
    "    section = headings[-1] if headings else None\n",
    "\n",
    "    metadata = {\n",
    "        \"source\": source,\n",
    "        \"page_numbers\": page_nos,\n",
    "        \"section\": section\n",
    "    }\n",
    "    # (3) LangChain Document 생성\n",
    "    text_documents.append(Document(page_content=text, metadata=metadata))"
   ]
  },
  {
   "cell_type": "code",
   "execution_count": 8,
   "id": "56083af7",
   "metadata": {},
   "outputs": [],
   "source": [
    "# table_chunks를 Document 형식으로 변환\n",
    "table_documents = [\n",
    "    Document(\n",
    "        page_content=chunk[\"text\"],\n",
    "        metadata={\n",
    "            \"type\": \"table\",\n",
    "            \"page\": chunk[\"metadata\"][\"page\"],\n",
    "            \"source\": input_pdf\n",
    "        }\n",
    "    ) for chunk in table_chunks\n",
    "]\n",
    "\n",
    "# 두 Document 리스트 합치기\n",
    "all_documents = table_documents + text_documents"
   ]
  },
  {
   "cell_type": "code",
   "execution_count": 9,
   "id": "ae8acf02",
   "metadata": {},
   "outputs": [
    {
     "name": "stderr",
     "output_type": "stream",
     "text": [
      "/var/folders/f1/c1mlzgw562581ych5vk1w4tr0000gn/T/ipykernel_46901/3791966284.py:1: LangChainDeprecationWarning: The class `HuggingFaceEmbeddings` was deprecated in LangChain 0.2.2 and will be removed in 1.0. An updated version of the class exists in the :class:`~langchain-huggingface package and should be used instead. To use it run `pip install -U :class:`~langchain-huggingface` and import as `from :class:`~langchain_huggingface import HuggingFaceEmbeddings``.\n",
      "  embedding_model = HuggingFaceEmbeddings(\n"
     ]
    }
   ],
   "source": [
    "embedding_model = HuggingFaceEmbeddings(\n",
    "    model_name=\"dragonkue/BGE-m3-ko\",\n",
    "    model_kwargs={'device': device},\n",
    "    encode_kwargs={'normalize_embeddings': True},\n",
    ")\n",
    "\n",
    "vectorstore = FAISS.from_documents(\n",
    "    documents=all_documents,\n",
    "    embedding=embedding_model\n",
    ")\n",
    "\n",
    "retriever = vectorstore.as_retriever()"
   ]
  },
  {
   "cell_type": "code",
   "execution_count": 10,
   "id": "71caadfd",
   "metadata": {},
   "outputs": [],
   "source": [
    "from langchain.retrievers import ContextualCompressionRetriever\n",
    "from langchain.retrievers.document_compressors import CrossEncoderReranker\n",
    "from langchain_community.cross_encoders import HuggingFaceCrossEncoder\n",
    "\n",
    "# 모델 초기화\n",
    "model = HuggingFaceCrossEncoder(model_name=\"BAAI/bge-reranker-v2-m3\")\n",
    "\n",
    "compressor = CrossEncoderReranker(model=model, top_n=8)\n",
    "\n",
    "# 문서 압축 검색기 초기화\n",
    "compression_reranker = ContextualCompressionRetriever(\n",
    "    base_compressor=compressor, base_retriever=retriever\n",
    ")"
   ]
  },
  {
   "cell_type": "code",
   "execution_count": 12,
   "id": "ea8afd3e",
   "metadata": {},
   "outputs": [],
   "source": [
    "from langchain_ollama import OllamaLLM\n",
    "\n",
    "# llm = OllamaLLM(model=\"llama3.2:3b\")\n",
    "# llm = OllamaLLM(model=\"deepseek-r1:1.5b\")\n",
    "llm = OllamaLLM(model=\"gemma3:4b\")\n",
    "# llm = ChatOpenAI(model_name = \"gpt-4o-mini\", temperature=0)\n",
    "\n",
    "def format_docs(docs):\n",
    "    return '\\n\\n'.join(doc.page_content for doc in docs)\n",
    "\n",
    "prompt = ChatPromptTemplate.from_template(\"\"\"\n",
    "You are an assistant for question-answering tasks. \n",
    "Use the following pieces of retrieved context to answer the question.\n",
    "If the user asks for a simple answer, summarize the key points.\n",
    "If the question is unrelated to the context in the regulations, respond with \"관련 정보를 찾을 수 없습니다.\"\n",
    "You must answer in Korean.\n",
    "\n",
    "#Context: \n",
    "{context}\n",
    "\n",
    "#Question:\n",
    "{question}\n",
    "\n",
    "#Answer:\n",
    "\"\"\")\n",
    "\n",
    "rag_chain = (\n",
    "    {'context': compression_reranker | format_docs, 'question': RunnablePassthrough()}\n",
    "    | prompt\n",
    "    | llm\n",
    "    | StrOutputParser()\n",
    ")"
   ]
  },
  {
   "cell_type": "code",
   "execution_count": 13,
   "id": "83e1df72",
   "metadata": {},
   "outputs": [
    {
     "name": "stdout",
     "output_type": "stream",
     "text": [
      "교수가 미국으로 4일 출장을 다녀오면 숙박비는 $35(1일당) x 4일 = $140를 선지급받을 수 있습니다.\n"
     ]
    }
   ],
   "source": [
    "question = \"교수가 미국으로 4일 출장을 다녀오면 받을 수 있는 숙박비는?\"\n",
    "result = rag_chain.invoke(question)\n",
    "print(result)"
   ]
  },
  {
   "cell_type": "code",
   "execution_count": null,
   "id": "73e76a94",
   "metadata": {},
   "outputs": [],
   "source": [
    "# 출처 기능까지 지원하는지?\n",
    "\n",
    "# restapi"
   ]
  }
 ],
 "metadata": {
  "kernelspec": {
   "display_name": "rag",
   "language": "python",
   "name": "python3"
  },
  "language_info": {
   "codemirror_mode": {
    "name": "ipython",
    "version": 3
   },
   "file_extension": ".py",
   "mimetype": "text/x-python",
   "name": "python",
   "nbconvert_exporter": "python",
   "pygments_lexer": "ipython3",
   "version": "3.9.23"
  }
 },
 "nbformat": 4,
 "nbformat_minor": 5
}
