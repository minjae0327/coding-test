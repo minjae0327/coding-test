{
 "cells": [
  {
   "cell_type": "code",
   "execution_count": 2,
   "id": "adc48b24",
   "metadata": {},
   "outputs": [],
   "source": [
    "import mysql.connector\n",
    "from mysql.connector import Error\n",
    "\n",
    "#RDS info\n",
    "host = \"database-2.cxyce2ii8umg.ap-southeast-2.rds.amazonaws.com\" #mysql workbench에 연결할 때 썼던 그 aws엔드포인트입니다.\n",
    "port = 3306 #포트번호는 손대지않으셨다면 3306 고정\n",
    "username = \"minjae\" #rds 만드실 때 입력하셨던 이름\n",
    "database = \"rag\" #RDS DB내에서 연결하고싶은 데이터베이스 이름입니다.\n",
    "#workbench연결만 하신분들은 workbench에 들어가서 연결해둔 aws rds에 접속하여 CREATE DATABASE name 하시면 생성됩니다.\n",
    "password = \"lovepool03\"\n",
    "\n",
    "\n",
    "db_config = {\n",
    "    'host': host,\n",
    "    'user': username,\n",
    "    'password': password,\n",
    "    'database': database,\n",
    "    'port': port\n",
    "}"
   ]
  },
  {
   "cell_type": "code",
   "execution_count": null,
   "id": "dd0f6f3d",
   "metadata": {},
   "outputs": [
    {
     "name": "stdout",
     "output_type": "stream",
     "text": [
      "테이블이 성공적으로 삭제되었습니다.\n",
      "\n",
      "연결이 종료되었습니다.\n"
     ]
    }
   ],
   "source": [
    "table_query = \"\"\"\n",
    "    CREATE TABLE IF NOT EXISTS sample (\n",
    "        id INT AUTO_INCREMENT PRIMARY KEY,\n",
    "        name VARCHAR(255) NOT NULL,\n",
    "        price DECIMAL(10, 2) NOT NULL,\n",
    "        created_at TIMESTAMP DEFAULT CURRENT_TIMESTAMP\n",
    "    )\n",
    "\"\"\""
   ]
  },
  {
   "cell_type": "code",
   "execution_count": 2,
   "id": "086791e1",
   "metadata": {},
   "outputs": [
    {
     "name": "stdout",
     "output_type": "stream",
     "text": [
      "생성된 쿼리: INSERT INTO products (`name`, `price`) VALUES (%s, %s)\n",
      "\n",
      "'products' 테이블에 데이터가 성공적으로 삽입되었습니다.\n",
      "삽입된 행의 ID (Auto_Increment): 2\n",
      "\n",
      "연결이 종료되었습니다.\n",
      "\n",
      "--- 'products' 테이블 데이터 ---\n",
      "id: 1\n",
      "name: 노트북\n",
      "price: 12000000.00\n",
      "created_at: 2025-06-24 10:48:56\n",
      "id: 2\n",
      "name: 테이블\n",
      "price: 300000.00\n",
      "created_at: 2025-06-24 16:09:46\n",
      "---------------------------------\n",
      "\n",
      "연결이 종료되었습니다.\n"
     ]
    }
   ],
   "source": [
    "from rds import DatabaseManager\n",
    "\n",
    "dm = DatabaseManager()\n",
    "\n",
    "\n",
    "table_query = \"\"\"\n",
    "    CREATE TABLE IF NOT EXISTS sample (\n",
    "        id INT AUTO_INCREMENT PRIMARY KEY,\n",
    "        name VARCHAR(255) NOT NULL,\n",
    "        price DECIMAL(10, 2) NOT NULL,\n",
    "        created_at TIMESTAMP DEFAULT CURRENT_TIMESTAMP\n",
    "    )\n",
    "\"\"\"\n",
    "# dm.create_table(table_query)\n",
    "# dm.check_tables_in_db()\n",
    "\n",
    "data = {\n",
    "    'name': \"테이블\",\n",
    "    'price': 300000\n",
    "}\n",
    "\n",
    "dm.insert_data(\"products\", data)\n",
    "dm.check_table_data(\"products\")\n"
   ]
  },
  {
   "cell_type": "code",
   "execution_count": null,
   "id": "70475bfa",
   "metadata": {},
   "outputs": [],
   "source": []
  }
 ],
 "metadata": {
  "kernelspec": {
   "display_name": "rag",
   "language": "python",
   "name": "python3"
  },
  "language_info": {
   "codemirror_mode": {
    "name": "ipython",
    "version": 3
   },
   "file_extension": ".py",
   "mimetype": "text/x-python",
   "name": "python",
   "nbconvert_exporter": "python",
   "pygments_lexer": "ipython3",
   "version": "3.9.23"
  }
 },
 "nbformat": 4,
 "nbformat_minor": 5
}
